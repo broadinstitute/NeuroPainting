{
 "cells": [
  {
   "cell_type": "markdown",
   "metadata": {},
   "source": [
    "# Analysis"
   ]
  },
  {
   "cell_type": "markdown",
   "metadata": {},
   "source": [
    "## Imports"
   ]
  },
  {
   "cell_type": "code",
   "execution_count": 1,
   "metadata": {},
   "outputs": [],
   "source": [
    "import sys\n",
    "import os\n",
    "import pandas as pd\n",
    "\n",
    "# Get the current working directory of the notebook\n",
    "notebook_dir = os.path.abspath(os.getcwd())\n",
    "\n",
    "# Construct the path to the 'src' directory\n",
    "ncp_src_path = os.path.abspath(os.path.join(notebook_dir, \"..\", \"ncp\", \"src\"))\n",
    "\n",
    "# Add the 'src' directory to sys.path\n",
    "if ncp_src_path not in sys.path:\n",
    "    sys.path.append(ncp_src_path)\n",
    "\n",
    "# Now you can import the modules\n",
    "from analysis import split_data, mann_whitney_u_test, logistic_regression\n",
    "from visualization import visualize_channels\n",
    "\n",
    "\n",
    "# Suppressing warnings for cleaner output\n",
    "import warnings\n",
    "\n",
    "warnings.filterwarnings(\"ignore\")"
   ]
  },
  {
   "cell_type": "markdown",
   "metadata": {},
   "source": [
    "## Functions"
   ]
  },
  {
   "cell_type": "markdown",
   "metadata": {},
   "source": [
    "## Load and clean data"
   ]
  },
  {
   "cell_type": "code",
   "execution_count": 2,
   "metadata": {},
   "outputs": [],
   "source": [
    "data_path = \"output/ncp_augmented.parquet\"\n",
    "df = pd.read_parquet(data_path)\n",
    "\n",
    "# select only rows where the Metadata_line_source is \"human\"\n",
    "df = df.query(\"Metadata_line_source == 'human'\")"
   ]
  },
  {
   "cell_type": "markdown",
   "metadata": {},
   "source": [
    "## Analyze"
   ]
  },
  {
   "cell_type": "code",
   "execution_count": 3,
   "metadata": {},
   "outputs": [],
   "source": [
    "def analyze_by_category(\n",
    "    df, category_col, target_col, target_col_mapping_dict, feature_cols\n",
    "):\n",
    "    \"\"\"\n",
    "    Analyze the data by category using logistic regression and Mann-Whitney U-test.\n",
    "\n",
    "    Parameters:\n",
    "    - df: DataFrame, the data.\n",
    "    - category_col: str, the name of the column to define categories.\n",
    "    - target_col: str, the name of the column to define groups for logistic regression and U-test.\n",
    "    - target_col_mapping_dict: dict, a dictionary mapping target_col values to integers.\n",
    "    - feature_cols: list, the list of feature columns to use for analysis.\n",
    "    \"\"\"\n",
    "    categories = df[category_col].unique()\n",
    "\n",
    "    target_col_encoded = f\"{target_col}_encoded\"\n",
    "\n",
    "    df[target_col_encoded] = df[target_col].map(target_col_mapping_dict).fillna(-1)\n",
    "\n",
    "    for category in categories:\n",
    "        print(f\"\\nAnalyzing category: {category}\")\n",
    "        category_df = df[df[category_col] == category]\n",
    "\n",
    "        # Prepare data for logistic regression\n",
    "        X_train, X_test, y_train, y_test = split_data(\n",
    "            category_df,\n",
    "            feature_cols=feature_cols,\n",
    "            target_col=target_col_encoded,\n",
    "            group_split_col=\"Metadata_line_ID\",\n",
    "        )\n",
    "\n",
    "        # Perform logistic regression\n",
    "        score, feature_weights = logistic_regression(X_train, y_train, X_test, y_test)\n",
    "        print(f\"Logistic Regression Accuracy Score for {category}: {score:.4f}\")\n",
    "\n",
    "        # Perform Mann-Whitney U-test\n",
    "        results = mann_whitney_u_test(\n",
    "            category_df, feature_cols=feature_cols, target_col=target_col_encoded\n",
    "        )\n",
    "\n",
    "        # Visualize significant features\n",
    "        significant_features = results.query(\"q_value < 0.05\")[\"feature\"].tolist()\n",
    "\n",
    "        print(\n",
    "            f\"Number of significant features for {category}: {len(significant_features)}\"\n",
    "        )\n",
    "\n",
    "        if significant_features:\n",
    "            # print(f\"Significant features for {category}: {significant_features}\")\n",
    "            # Print just the number of significant features\n",
    "            visualize_channels(significant_features)\n",
    "\n",
    "        print(70 * \"=\")"
   ]
  },
  {
   "cell_type": "code",
   "execution_count": 4,
   "metadata": {},
   "outputs": [
    {
     "name": "stdout",
     "output_type": "stream",
     "text": [
      "\n",
      "Analyzing category: stem\n",
      "Logistic Regression Accuracy Score for stem: 0.8056\n",
      "Number of significant features for stem: 20\n"
     ]
    },
    {
     "ename": "NameError",
     "evalue": "name 'sns' is not defined",
     "output_type": "error",
     "traceback": [
      "\u001b[0;31m---------------------------------------------------------------------------\u001b[0m",
      "\u001b[0;31mNameError\u001b[0m                                 Traceback (most recent call last)",
      "\u001b[1;32m/Users/shsingh/work/projects/2019_05_28_Neuronal_Cell_Painting/workspace/software/neuronal-cell-painting/5.reanalysis/3.analysis.ipynb Cell 9\u001b[0m line \u001b[0;36m7\n\u001b[1;32m      <a href='vscode-notebook-cell:/Users/shsingh/work/projects/2019_05_28_Neuronal_Cell_Painting/workspace/software/neuronal-cell-painting/5.reanalysis/3.analysis.ipynb#X11sZmlsZQ%3D%3D?line=3'>4</a>\u001b[0m feature_cols \u001b[39m=\u001b[39m feature_cols[:\u001b[39m30\u001b[39m]\n\u001b[1;32m      <a href='vscode-notebook-cell:/Users/shsingh/work/projects/2019_05_28_Neuronal_Cell_Painting/workspace/software/neuronal-cell-painting/5.reanalysis/3.analysis.ipynb#X11sZmlsZQ%3D%3D?line=5'>6</a>\u001b[0m \u001b[39m# Call the function with the appropriate parameters\u001b[39;00m\n\u001b[0;32m----> <a href='vscode-notebook-cell:/Users/shsingh/work/projects/2019_05_28_Neuronal_Cell_Painting/workspace/software/neuronal-cell-painting/5.reanalysis/3.analysis.ipynb#X11sZmlsZQ%3D%3D?line=6'>7</a>\u001b[0m analyze_by_category(\n\u001b[1;32m      <a href='vscode-notebook-cell:/Users/shsingh/work/projects/2019_05_28_Neuronal_Cell_Painting/workspace/software/neuronal-cell-painting/5.reanalysis/3.analysis.ipynb#X11sZmlsZQ%3D%3D?line=7'>8</a>\u001b[0m     df\u001b[39m=\u001b[39;49mdf,\n\u001b[1;32m      <a href='vscode-notebook-cell:/Users/shsingh/work/projects/2019_05_28_Neuronal_Cell_Painting/workspace/software/neuronal-cell-painting/5.reanalysis/3.analysis.ipynb#X11sZmlsZQ%3D%3D?line=8'>9</a>\u001b[0m     category_col\u001b[39m=\u001b[39;49m\u001b[39m\"\u001b[39;49m\u001b[39mMetadata_cell_type\u001b[39;49m\u001b[39m\"\u001b[39;49m,\n\u001b[1;32m     <a href='vscode-notebook-cell:/Users/shsingh/work/projects/2019_05_28_Neuronal_Cell_Painting/workspace/software/neuronal-cell-painting/5.reanalysis/3.analysis.ipynb#X11sZmlsZQ%3D%3D?line=9'>10</a>\u001b[0m     target_col\u001b[39m=\u001b[39;49m\u001b[39m\"\u001b[39;49m\u001b[39mMetadata_line_condition\u001b[39;49m\u001b[39m\"\u001b[39;49m,\n\u001b[1;32m     <a href='vscode-notebook-cell:/Users/shsingh/work/projects/2019_05_28_Neuronal_Cell_Painting/workspace/software/neuronal-cell-painting/5.reanalysis/3.analysis.ipynb#X11sZmlsZQ%3D%3D?line=10'>11</a>\u001b[0m     target_col_mapping_dict\u001b[39m=\u001b[39;49m{\u001b[39m\"\u001b[39;49m\u001b[39mcontrol\u001b[39;49m\u001b[39m\"\u001b[39;49m: \u001b[39m0\u001b[39;49m, \u001b[39m\"\u001b[39;49m\u001b[39mdeletion\u001b[39;49m\u001b[39m\"\u001b[39;49m: \u001b[39m1\u001b[39;49m},\n\u001b[1;32m     <a href='vscode-notebook-cell:/Users/shsingh/work/projects/2019_05_28_Neuronal_Cell_Painting/workspace/software/neuronal-cell-painting/5.reanalysis/3.analysis.ipynb#X11sZmlsZQ%3D%3D?line=11'>12</a>\u001b[0m     feature_cols\u001b[39m=\u001b[39;49mfeature_cols,\n\u001b[1;32m     <a href='vscode-notebook-cell:/Users/shsingh/work/projects/2019_05_28_Neuronal_Cell_Painting/workspace/software/neuronal-cell-painting/5.reanalysis/3.analysis.ipynb#X11sZmlsZQ%3D%3D?line=12'>13</a>\u001b[0m )\n",
      "\u001b[1;32m/Users/shsingh/work/projects/2019_05_28_Neuronal_Cell_Painting/workspace/software/neuronal-cell-painting/5.reanalysis/3.analysis.ipynb Cell 9\u001b[0m line \u001b[0;36m5\n\u001b[1;32m     <a href='vscode-notebook-cell:/Users/shsingh/work/projects/2019_05_28_Neuronal_Cell_Painting/workspace/software/neuronal-cell-painting/5.reanalysis/3.analysis.ipynb#X11sZmlsZQ%3D%3D?line=43'>44</a>\u001b[0m \u001b[39mprint\u001b[39m(\n\u001b[1;32m     <a href='vscode-notebook-cell:/Users/shsingh/work/projects/2019_05_28_Neuronal_Cell_Painting/workspace/software/neuronal-cell-painting/5.reanalysis/3.analysis.ipynb#X11sZmlsZQ%3D%3D?line=44'>45</a>\u001b[0m     \u001b[39mf\u001b[39m\u001b[39m\"\u001b[39m\u001b[39mNumber of significant features for \u001b[39m\u001b[39m{\u001b[39;00mcategory\u001b[39m}\u001b[39;00m\u001b[39m: \u001b[39m\u001b[39m{\u001b[39;00m\u001b[39mlen\u001b[39m(significant_features)\u001b[39m}\u001b[39;00m\u001b[39m\"\u001b[39m\n\u001b[1;32m     <a href='vscode-notebook-cell:/Users/shsingh/work/projects/2019_05_28_Neuronal_Cell_Painting/workspace/software/neuronal-cell-painting/5.reanalysis/3.analysis.ipynb#X11sZmlsZQ%3D%3D?line=45'>46</a>\u001b[0m )\n\u001b[1;32m     <a href='vscode-notebook-cell:/Users/shsingh/work/projects/2019_05_28_Neuronal_Cell_Painting/workspace/software/neuronal-cell-painting/5.reanalysis/3.analysis.ipynb#X11sZmlsZQ%3D%3D?line=47'>48</a>\u001b[0m \u001b[39mif\u001b[39;00m significant_features:\n\u001b[1;32m     <a href='vscode-notebook-cell:/Users/shsingh/work/projects/2019_05_28_Neuronal_Cell_Painting/workspace/software/neuronal-cell-painting/5.reanalysis/3.analysis.ipynb#X11sZmlsZQ%3D%3D?line=48'>49</a>\u001b[0m     \u001b[39m# print(f\"Significant features for {category}: {significant_features}\")\u001b[39;00m\n\u001b[1;32m     <a href='vscode-notebook-cell:/Users/shsingh/work/projects/2019_05_28_Neuronal_Cell_Painting/workspace/software/neuronal-cell-painting/5.reanalysis/3.analysis.ipynb#X11sZmlsZQ%3D%3D?line=49'>50</a>\u001b[0m     \u001b[39m# Print just the number of significant features\u001b[39;00m\n\u001b[0;32m---> <a href='vscode-notebook-cell:/Users/shsingh/work/projects/2019_05_28_Neuronal_Cell_Painting/workspace/software/neuronal-cell-painting/5.reanalysis/3.analysis.ipynb#X11sZmlsZQ%3D%3D?line=50'>51</a>\u001b[0m     visualize_channels(significant_features)\n\u001b[1;32m     <a href='vscode-notebook-cell:/Users/shsingh/work/projects/2019_05_28_Neuronal_Cell_Painting/workspace/software/neuronal-cell-painting/5.reanalysis/3.analysis.ipynb#X11sZmlsZQ%3D%3D?line=52'>53</a>\u001b[0m \u001b[39mprint\u001b[39m(\u001b[39m70\u001b[39m \u001b[39m*\u001b[39m \u001b[39m\"\u001b[39m\u001b[39m=\u001b[39m\u001b[39m\"\u001b[39m)\n",
      "File \u001b[0;32m~/work/projects/2019_05_28_Neuronal_Cell_Painting/workspace/software/neuronal-cell-painting/ncp/src/visualization.py:28\u001b[0m, in \u001b[0;36mvisualize_channels\u001b[0;34m(significant_features)\u001b[0m\n\u001b[1;32m     23\u001b[0m df_channel_count \u001b[39m=\u001b[39m df_channel_count\u001b[39m.\u001b[39msort_values(\n\u001b[1;32m     24\u001b[0m     by\u001b[39m=\u001b[39m[\u001b[39m\"\u001b[39m\u001b[39msort\u001b[39m\u001b[39m\"\u001b[39m, \u001b[39m\"\u001b[39m\u001b[39mpercentage\u001b[39m\u001b[39m\"\u001b[39m], ascending\u001b[39m=\u001b[39m\u001b[39mFalse\u001b[39;00m\n\u001b[1;32m     25\u001b[0m )\n\u001b[1;32m     27\u001b[0m plt\u001b[39m.\u001b[39mfigure(figsize\u001b[39m=\u001b[39m(\u001b[39m10\u001b[39m, \u001b[39m5\u001b[39m))\n\u001b[0;32m---> 28\u001b[0m ax \u001b[39m=\u001b[39m sns\u001b[39m.\u001b[39mbarplot(x\u001b[39m=\u001b[39m\u001b[39m\"\u001b[39m\u001b[39mchannel\u001b[39m\u001b[39m\"\u001b[39m, y\u001b[39m=\u001b[39m\u001b[39m\"\u001b[39m\u001b[39mpercentage\u001b[39m\u001b[39m\"\u001b[39m, data\u001b[39m=\u001b[39mdf_channel_count)\n\u001b[1;32m     29\u001b[0m ax\u001b[39m.\u001b[39mset_xticklabels(ax\u001b[39m.\u001b[39mget_xticklabels(), rotation\u001b[39m=\u001b[39m\u001b[39m40\u001b[39m, ha\u001b[39m=\u001b[39m\u001b[39m\"\u001b[39m\u001b[39mright\u001b[39m\u001b[39m\"\u001b[39m)\n\u001b[1;32m     30\u001b[0m plt\u001b[39m.\u001b[39mtight_layout()\n",
      "\u001b[0;31mNameError\u001b[0m: name 'sns' is not defined"
     ]
    },
    {
     "data": {
      "text/plain": [
       "<Figure size 1000x500 with 0 Axes>"
      ]
     },
     "metadata": {},
     "output_type": "display_data"
    }
   ],
   "source": [
    "feature_cols = df.columns[df.columns.str.contains(\"Cells_|Cytoplasm_|Nuclei_\")].tolist()\n",
    "\n",
    "# HACK to reduce the number of features\n",
    "feature_cols = feature_cols[:30]\n",
    "\n",
    "# Call the function with the appropriate parameters\n",
    "analyze_by_category(\n",
    "    df=df,\n",
    "    category_col=\"Metadata_cell_type\",\n",
    "    target_col=\"Metadata_line_condition\",\n",
    "    target_col_mapping_dict={\"control\": 0, \"deletion\": 1},\n",
    "    feature_cols=feature_cols,\n",
    ")"
   ]
  }
 ],
 "metadata": {
  "kernelspec": {
   "display_name": "ncp",
   "language": "python",
   "name": "python3"
  },
  "language_info": {
   "codemirror_mode": {
    "name": "ipython",
    "version": 3
   },
   "file_extension": ".py",
   "mimetype": "text/x-python",
   "name": "python",
   "nbconvert_exporter": "python",
   "pygments_lexer": "ipython3",
   "version": "3.9.15"
  }
 },
 "nbformat": 4,
 "nbformat_minor": 2
}
