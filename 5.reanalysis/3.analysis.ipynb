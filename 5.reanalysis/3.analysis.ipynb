{
 "cells": [
  {
   "cell_type": "markdown",
   "metadata": {},
   "source": [
    "# Analysis"
   ]
  },
  {
   "cell_type": "markdown",
   "metadata": {},
   "source": [
    "## Imports"
   ]
  },
  {
   "cell_type": "code",
   "execution_count": 1,
   "metadata": {},
   "outputs": [],
   "source": [
    "import sys\n",
    "import os\n",
    "import pandas as pd\n",
    "\n",
    "# Get the current working directory of the notebook\n",
    "notebook_dir = os.path.abspath(os.getcwd())\n",
    "\n",
    "# Construct the path to the 'src' directory\n",
    "ncp_src_path = os.path.abspath(os.path.join(notebook_dir, \"..\", \"ncp\", \"src\"))\n",
    "\n",
    "# Add the 'src' directory to sys.path\n",
    "if ncp_src_path not in sys.path:\n",
    "    sys.path.append(ncp_src_path)\n",
    "\n",
    "# Now you can import the modules\n",
    "from analysis import perform_and_save_analysis\n",
    "\n",
    "from visualization import load_and_print_results\n",
    "\n",
    "\n",
    "# Suppressing warnings for cleaner output\n",
    "import warnings\n",
    "\n",
    "warnings.filterwarnings(\"ignore\")"
   ]
  },
  {
   "cell_type": "markdown",
   "metadata": {},
   "source": [
    "## Functions"
   ]
  },
  {
   "cell_type": "markdown",
   "metadata": {},
   "source": [
    "## Load and clean data"
   ]
  },
  {
   "cell_type": "code",
   "execution_count": 2,
   "metadata": {},
   "outputs": [],
   "source": [
    "data_path = \"output/ncp_augmented.parquet\"\n",
    "df = pd.read_parquet(data_path)\n",
    "\n",
    "# select only rows where the Metadata_line_source is \"human\"\n",
    "df = df.query(\"Metadata_line_source == 'human'\")"
   ]
  },
  {
   "cell_type": "markdown",
   "metadata": {},
   "source": [
    "## Analyze"
   ]
  },
  {
   "cell_type": "code",
   "execution_count": 3,
   "metadata": {},
   "outputs": [],
   "source": [
    "feature_cols = df.columns[df.columns.str.contains(\"Cells_|Cytoplasm_|Nuclei_\")].tolist()\n",
    "\n",
    "# HACK to reduce the number of features\n",
    "feature_cols = feature_cols[:30]"
   ]
  },
  {
   "cell_type": "markdown",
   "metadata": {},
   "source": [
    "## Control vs Deletion, per cell type"
   ]
  },
  {
   "cell_type": "code",
   "execution_count": 4,
   "metadata": {},
   "outputs": [
    {
     "name": "stdout",
     "output_type": "stream",
     "text": [
      "Analyzing category: stem\n",
      "Analyzing category: progen\n",
      "Analyzing category: neuron\n",
      "Analyzing category: astro\n",
      "Analysis complete. Summary results saved to output/analysis_results/control_vs_deletion/summary_results.parquet\n"
     ]
    }
   ],
   "source": [
    "perform_and_save_analysis(\n",
    "    df=df,\n",
    "    category_col=\"Metadata_cell_type\",\n",
    "    target_col=\"Metadata_line_condition\",\n",
    "    target_col_mapping_dict={\"control\": 0, \"deletion\": 1},\n",
    "    feature_cols=feature_cols,\n",
    "    output_dir=\"output/analysis_results/control_vs_deletion/\",\n",
    ")"
   ]
  },
  {
   "cell_type": "markdown",
   "metadata": {},
   "source": [
    "## Cell type A vs B, per condition"
   ]
  },
  {
   "cell_type": "code",
   "execution_count": 5,
   "metadata": {},
   "outputs": [],
   "source": [
    "columns_to_drop_stem_cell = [\n",
    "    \"Nuclei_ObjectSkeleton_NumberNonTrunkBranches_CellImageSkel\",\n",
    "    \"Nuclei_ObjectSkeleton_NumberBranchEnds_CellImageSkel\",\n",
    "    \"Nuclei_ObjectSkeleton_TotalObjectSkeletonLength_CellImageSkel\",\n",
    "]"
   ]
  },
  {
   "cell_type": "code",
   "execution_count": 6,
   "metadata": {},
   "outputs": [
    {
     "name": "stdout",
     "output_type": "stream",
     "text": [
      "WARNING: The following values in Metadata_cell_type were not mapped and will be excluded from the analysis: ['progen' 'astro']\n",
      "Analyzing category: control\n",
      "Analyzing category: deletion\n",
      "Analysis complete. Summary results saved to output/analysis_results/cell_type_a_vs_b/stem_vs_neuron/summary_results.parquet\n",
      "WARNING: The following values in Metadata_cell_type were not mapped and will be excluded from the analysis: ['neuron' 'astro']\n",
      "Analyzing category: control\n",
      "Analyzing category: deletion\n",
      "Analysis complete. Summary results saved to output/analysis_results/cell_type_a_vs_b/stem_vs_progen/summary_results.parquet\n",
      "WARNING: The following values in Metadata_cell_type were not mapped and will be excluded from the analysis: ['progen' 'neuron']\n",
      "Analyzing category: control\n",
      "Analyzing category: deletion\n",
      "Analysis complete. Summary results saved to output/analysis_results/cell_type_a_vs_b/stem_vs_astro/summary_results.parquet\n",
      "WARNING: The following values in Metadata_cell_type were not mapped and will be excluded from the analysis: ['stem' 'astro']\n",
      "Analyzing category: control\n",
      "Analyzing category: deletion\n",
      "Analysis complete. Summary results saved to output/analysis_results/cell_type_a_vs_b/neuron_vs_progen/summary_results.parquet\n",
      "WARNING: The following values in Metadata_cell_type were not mapped and will be excluded from the analysis: ['stem' 'progen']\n",
      "Analyzing category: control\n",
      "Analyzing category: deletion\n",
      "Analysis complete. Summary results saved to output/analysis_results/cell_type_a_vs_b/neuron_vs_astro/summary_results.parquet\n",
      "WARNING: The following values in Metadata_cell_type were not mapped and will be excluded from the analysis: ['stem' 'neuron']\n",
      "Analyzing category: control\n",
      "Analyzing category: deletion\n",
      "Analysis complete. Summary results saved to output/analysis_results/cell_type_a_vs_b/progen_vs_astro/summary_results.parquet\n"
     ]
    }
   ],
   "source": [
    "from itertools import combinations\n",
    "\n",
    "# Define the cell types\n",
    "cell_types = [\"stem\", \"neuron\", \"progen\", \"astro\"]\n",
    "\n",
    "# Create all unique pairs of cell types\n",
    "cell_type_pairs = list(combinations(cell_types, 2))\n",
    "\n",
    "# Perform analysis for each pair\n",
    "for cell_type_0, cell_type_1 in cell_type_pairs:\n",
    "    # Work with a copy of the dataframe to avoid modifying the original\n",
    "    df_copy = df.copy()\n",
    "\n",
    "    # Drop columns specified in the list `columns_to_drop_stem_cell` if either cell_type_0 or cell_type_1 is \"stem\"\n",
    "    if \"stem\" in [cell_type_0, cell_type_1]:\n",
    "        # Drop only if columns exist\n",
    "        cols_to_drop = [\n",
    "            col for col in columns_to_drop_stem_cell if col in df_copy.columns\n",
    "        ]\n",
    "        df_copy = df_copy.drop(columns=cols_to_drop)\n",
    "\n",
    "    # Define the mapping for the current pair\n",
    "    target_col_mapping_dict = {cell_type_0: 0, cell_type_1: 1}\n",
    "\n",
    "    # Define the output directory based on the current pair\n",
    "    output_dir = (\n",
    "        f\"output/analysis_results/cell_type_a_vs_b/{cell_type_0}_vs_{cell_type_1}/\"\n",
    "    )\n",
    "\n",
    "    # Make sure the output directory exists\n",
    "    os.makedirs(output_dir, exist_ok=True)\n",
    "\n",
    "    # Call the analysis function for the current pair using the modified copy of the dataframe\n",
    "    perform_and_save_analysis(\n",
    "        df=df_copy,\n",
    "        category_col=\"Metadata_line_condition\",\n",
    "        target_col=\"Metadata_cell_type\",\n",
    "        target_col_mapping_dict=target_col_mapping_dict,\n",
    "        feature_cols=feature_cols,\n",
    "        output_dir=output_dir,\n",
    "    )"
   ]
  }
 ],
 "metadata": {
  "kernelspec": {
   "display_name": "ncp",
   "language": "python",
   "name": "python3"
  },
  "language_info": {
   "codemirror_mode": {
    "name": "ipython",
    "version": 3
   },
   "file_extension": ".py",
   "mimetype": "text/x-python",
   "name": "python",
   "nbconvert_exporter": "python",
   "pygments_lexer": "ipython3",
   "version": "3.9.15"
  }
 },
 "nbformat": 4,
 "nbformat_minor": 2
}
