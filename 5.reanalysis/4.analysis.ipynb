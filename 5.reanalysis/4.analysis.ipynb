{
 "cells": [
  {
   "cell_type": "markdown",
   "metadata": {},
   "source": [
    "# Analysis"
   ]
  },
  {
   "cell_type": "code",
   "execution_count": 1,
   "metadata": {},
   "outputs": [],
   "source": [
    "import sys\n",
    "import os\n",
    "\n",
    "notebook_dir = os.path.abspath(os.getcwd())\n",
    "\n",
    "ncp_src_path = os.path.abspath(os.path.join(notebook_dir, \"..\", \"ncp\", \"src\"))\n",
    "\n",
    "if ncp_src_path not in sys.path:\n",
    "    sys.path.append(ncp_src_path)\n",
    "\n",
    "from utils import run_analysis\n",
    "\n",
    "# Suppressing warnings for cleaner output\n",
    "import warnings\n",
    "\n",
    "warnings.filterwarnings(\"ignore\")"
   ]
  },
  {
   "cell_type": "code",
   "execution_count": 2,
   "metadata": {},
   "outputs": [
    {
     "name": "stdout",
     "output_type": "stream",
     "text": [
      "Analyzing category: stem\n",
      "Analyzing category: progen\n",
      "Analyzing category: neuron\n",
      "Analyzing category: astro\n",
      "Analysis complete. Summary results saved to output/analysis_results/augmented/control_vs_deletion/summary_results.parquet\n",
      "WARNING: The following values in Metadata_cell_type were not mapped and will be excluded from the analysis: ['progen' 'astro']\n",
      "Analyzing category: control\n",
      "Analyzing category: deletion\n",
      "Analysis complete. Summary results saved to output/analysis_results/augmented/cell_type_a_vs_b/stem_vs_neuron/summary_results.parquet\n",
      "WARNING: The following values in Metadata_cell_type were not mapped and will be excluded from the analysis: ['neuron' 'astro']\n",
      "Analyzing category: control\n",
      "Analyzing category: deletion\n",
      "Analysis complete. Summary results saved to output/analysis_results/augmented/cell_type_a_vs_b/stem_vs_progen/summary_results.parquet\n",
      "WARNING: The following values in Metadata_cell_type were not mapped and will be excluded from the analysis: ['progen' 'neuron']\n",
      "Analyzing category: control\n",
      "Analyzing category: deletion\n",
      "Analysis complete. Summary results saved to output/analysis_results/augmented/cell_type_a_vs_b/stem_vs_astro/summary_results.parquet\n",
      "WARNING: The following values in Metadata_cell_type were not mapped and will be excluded from the analysis: ['stem' 'astro']\n",
      "Analyzing category: control\n",
      "Analyzing category: deletion\n",
      "Analysis complete. Summary results saved to output/analysis_results/augmented/cell_type_a_vs_b/neuron_vs_progen/summary_results.parquet\n",
      "WARNING: The following values in Metadata_cell_type were not mapped and will be excluded from the analysis: ['stem' 'progen']\n",
      "Analyzing category: control\n",
      "Analyzing category: deletion\n",
      "Analysis complete. Summary results saved to output/analysis_results/augmented/cell_type_a_vs_b/neuron_vs_astro/summary_results.parquet\n",
      "WARNING: The following values in Metadata_cell_type were not mapped and will be excluded from the analysis: ['stem' 'neuron']\n",
      "Analyzing category: control\n",
      "Analyzing category: deletion\n",
      "Analysis complete. Summary results saved to output/analysis_results/augmented/cell_type_a_vs_b/progen_vs_astro/summary_results.parquet\n"
     ]
    }
   ],
   "source": [
    "data_level = \"augmented\"\n",
    "\n",
    "run_analysis(data_level)"
   ]
  }
 ],
 "metadata": {
  "kernelspec": {
   "display_name": "ncp",
   "language": "python",
   "name": "python3"
  },
  "language_info": {
   "codemirror_mode": {
    "name": "ipython",
    "version": 3
   },
   "file_extension": ".py",
   "mimetype": "text/x-python",
   "name": "python",
   "nbconvert_exporter": "python",
   "pygments_lexer": "ipython3",
   "version": "3.9.15"
  }
 },
 "nbformat": 4,
 "nbformat_minor": 2
}
