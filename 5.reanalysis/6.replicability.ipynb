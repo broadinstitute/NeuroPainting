{
 "cells": [
  {
   "cell_type": "markdown",
   "metadata": {},
   "source": [
    "# Replicability"
   ]
  },
  {
   "cell_type": "code",
   "execution_count": 1,
   "metadata": {},
   "outputs": [],
   "source": [
    "import pandas as pd\n",
    "import numpy as np\n",
    "from copairs.map import aggregate\n",
    "from copairs.map import run_pipeline"
   ]
  },
  {
   "cell_type": "code",
   "execution_count": 2,
   "metadata": {},
   "outputs": [],
   "source": [
    "data_level = \"normalized_feature_select\"\n",
    "\n",
    "data_path = f\"output/processed/{data_level}/combined.parquet\"\n",
    "\n",
    "df = pd.read_parquet(data_path)"
   ]
  },
  {
   "cell_type": "code",
   "execution_count": 3,
   "metadata": {},
   "outputs": [
    {
     "data": {
      "text/html": [
       "<div>\n",
       "<style scoped>\n",
       "    .dataframe tbody tr th:only-of-type {\n",
       "        vertical-align: middle;\n",
       "    }\n",
       "\n",
       "    .dataframe tbody tr th {\n",
       "        vertical-align: top;\n",
       "    }\n",
       "\n",
       "    .dataframe thead th {\n",
       "        text-align: right;\n",
       "    }\n",
       "</style>\n",
       "<table border=\"1\" class=\"dataframe\">\n",
       "  <thead>\n",
       "    <tr style=\"text-align: right;\">\n",
       "      <th></th>\n",
       "      <th>Metadata_Plate</th>\n",
       "      <th>Metadata_Well</th>\n",
       "      <th>Metadata_Plate_Map_Name</th>\n",
       "      <th>Metadata_cell_type</th>\n",
       "      <th>Metadata_line_ID</th>\n",
       "      <th>Metadata_line_condition</th>\n",
       "      <th>Metadata_line_source</th>\n",
       "      <th>Metadata_plating_density</th>\n",
       "      <th>Metadata_Object_Count</th>\n",
       "      <th>Metadata_Object_Count_inferred</th>\n",
       "      <th>Metadata_Site_Count</th>\n",
       "    </tr>\n",
       "  </thead>\n",
       "  <tbody>\n",
       "    <tr>\n",
       "      <th>178</th>\n",
       "      <td>BR00127194</td>\n",
       "      <td>H11</td>\n",
       "      <td>BR00127194</td>\n",
       "      <td>progen</td>\n",
       "      <td>17</td>\n",
       "      <td>control</td>\n",
       "      <td>human</td>\n",
       "      <td>10000</td>\n",
       "      <td>2468.00</td>\n",
       "      <td>2649.012156</td>\n",
       "      <td>9</td>\n",
       "    </tr>\n",
       "    <tr>\n",
       "      <th>1370</th>\n",
       "      <td>BR_NCP_STEM_1</td>\n",
       "      <td>J03</td>\n",
       "      <td>BR_NCP_STEM_1</td>\n",
       "      <td>stem</td>\n",
       "      <td>38</td>\n",
       "      <td>deletion</td>\n",
       "      <td>human</td>\n",
       "      <td>10000</td>\n",
       "      <td>2941.02</td>\n",
       "      <td>2941.020000</td>\n",
       "      <td>9</td>\n",
       "    </tr>\n",
       "    <tr>\n",
       "      <th>1699</th>\n",
       "      <td>Plate1_PE_PP96</td>\n",
       "      <td>F11</td>\n",
       "      <td>2022-08-07_batch_METADATA</td>\n",
       "      <td>astro</td>\n",
       "      <td>46</td>\n",
       "      <td>deletion</td>\n",
       "      <td>human</td>\n",
       "      <td>5000</td>\n",
       "      <td>603.00</td>\n",
       "      <td>640.836000</td>\n",
       "      <td>7</td>\n",
       "    </tr>\n",
       "    <tr>\n",
       "      <th>1611</th>\n",
       "      <td>PE_PP_Plate2</td>\n",
       "      <td>G06</td>\n",
       "      <td>2022-08-07_batch_METADATA</td>\n",
       "      <td>astro</td>\n",
       "      <td>4</td>\n",
       "      <td>control</td>\n",
       "      <td>human</td>\n",
       "      <td>5000</td>\n",
       "      <td>341.00</td>\n",
       "      <td>937.552000</td>\n",
       "      <td>7</td>\n",
       "    </tr>\n",
       "    <tr>\n",
       "      <th>1198</th>\n",
       "      <td>BR_NCP_STEM_1</td>\n",
       "      <td>B23</td>\n",
       "      <td>BR_NCP_STEM_1</td>\n",
       "      <td>stem</td>\n",
       "      <td>12</td>\n",
       "      <td>control</td>\n",
       "      <td>human</td>\n",
       "      <td>10000</td>\n",
       "      <td>389.43</td>\n",
       "      <td>389.430000</td>\n",
       "      <td>9</td>\n",
       "    </tr>\n",
       "    <tr>\n",
       "      <th>835</th>\n",
       "      <td>BR00132673</td>\n",
       "      <td>C20</td>\n",
       "      <td>NCP_2022_03_03_METADATA</td>\n",
       "      <td>neuron</td>\n",
       "      <td>18</td>\n",
       "      <td>control</td>\n",
       "      <td>human</td>\n",
       "      <td>3500</td>\n",
       "      <td>326.00</td>\n",
       "      <td>377.982000</td>\n",
       "      <td>3</td>\n",
       "    </tr>\n",
       "    <tr>\n",
       "      <th>1572</th>\n",
       "      <td>PE_PP_Plate2</td>\n",
       "      <td>D02</td>\n",
       "      <td>2022-08-07_batch_METADATA</td>\n",
       "      <td>astro</td>\n",
       "      <td>35</td>\n",
       "      <td>deletion</td>\n",
       "      <td>human</td>\n",
       "      <td>5000</td>\n",
       "      <td>41.00</td>\n",
       "      <td>67.610200</td>\n",
       "      <td>7</td>\n",
       "    </tr>\n",
       "    <tr>\n",
       "      <th>258</th>\n",
       "      <td>BR00127194</td>\n",
       "      <td>K19</td>\n",
       "      <td>BR00127194</td>\n",
       "      <td>progen</td>\n",
       "      <td>8</td>\n",
       "      <td>control</td>\n",
       "      <td>human</td>\n",
       "      <td>10000</td>\n",
       "      <td>1078.00</td>\n",
       "      <td>1332.951763</td>\n",
       "      <td>9</td>\n",
       "    </tr>\n",
       "    <tr>\n",
       "      <th>1273</th>\n",
       "      <td>BR_NCP_STEM_1</td>\n",
       "      <td>F02</td>\n",
       "      <td>BR_NCP_STEM_1</td>\n",
       "      <td>stem</td>\n",
       "      <td>27</td>\n",
       "      <td>deletion</td>\n",
       "      <td>human</td>\n",
       "      <td>10000</td>\n",
       "      <td>2387.88</td>\n",
       "      <td>2387.880000</td>\n",
       "      <td>9</td>\n",
       "    </tr>\n",
       "    <tr>\n",
       "      <th>493</th>\n",
       "      <td>BR00132672</td>\n",
       "      <td>E14</td>\n",
       "      <td>NCP_2022_03_03_METADATA</td>\n",
       "      <td>neuron</td>\n",
       "      <td>14</td>\n",
       "      <td>control</td>\n",
       "      <td>human</td>\n",
       "      <td>3500</td>\n",
       "      <td>136.00</td>\n",
       "      <td>148.368000</td>\n",
       "      <td>3</td>\n",
       "    </tr>\n",
       "  </tbody>\n",
       "</table>\n",
       "</div>"
      ],
      "text/plain": [
       "      Metadata_Plate Metadata_Well    Metadata_Plate_Map_Name  \\\n",
       "178       BR00127194           H11                 BR00127194   \n",
       "1370   BR_NCP_STEM_1           J03              BR_NCP_STEM_1   \n",
       "1699  Plate1_PE_PP96           F11  2022-08-07_batch_METADATA   \n",
       "1611    PE_PP_Plate2           G06  2022-08-07_batch_METADATA   \n",
       "1198   BR_NCP_STEM_1           B23              BR_NCP_STEM_1   \n",
       "835       BR00132673           C20    NCP_2022_03_03_METADATA   \n",
       "1572    PE_PP_Plate2           D02  2022-08-07_batch_METADATA   \n",
       "258       BR00127194           K19                 BR00127194   \n",
       "1273   BR_NCP_STEM_1           F02              BR_NCP_STEM_1   \n",
       "493       BR00132672           E14    NCP_2022_03_03_METADATA   \n",
       "\n",
       "     Metadata_cell_type  Metadata_line_ID Metadata_line_condition  \\\n",
       "178              progen                17                 control   \n",
       "1370               stem                38                deletion   \n",
       "1699              astro                46                deletion   \n",
       "1611              astro                 4                 control   \n",
       "1198               stem                12                 control   \n",
       "835              neuron                18                 control   \n",
       "1572              astro                35                deletion   \n",
       "258              progen                 8                 control   \n",
       "1273               stem                27                deletion   \n",
       "493              neuron                14                 control   \n",
       "\n",
       "     Metadata_line_source  Metadata_plating_density  Metadata_Object_Count  \\\n",
       "178                 human                     10000                2468.00   \n",
       "1370                human                     10000                2941.02   \n",
       "1699                human                      5000                 603.00   \n",
       "1611                human                      5000                 341.00   \n",
       "1198                human                     10000                 389.43   \n",
       "835                 human                      3500                 326.00   \n",
       "1572                human                      5000                  41.00   \n",
       "258                 human                     10000                1078.00   \n",
       "1273                human                     10000                2387.88   \n",
       "493                 human                      3500                 136.00   \n",
       "\n",
       "      Metadata_Object_Count_inferred  Metadata_Site_Count  \n",
       "178                      2649.012156                    9  \n",
       "1370                     2941.020000                    9  \n",
       "1699                      640.836000                    7  \n",
       "1611                      937.552000                    7  \n",
       "1198                      389.430000                    9  \n",
       "835                       377.982000                    3  \n",
       "1572                       67.610200                    7  \n",
       "258                      1332.951763                    9  \n",
       "1273                     2387.880000                    9  \n",
       "493                       148.368000                    3  "
      ]
     },
     "execution_count": 3,
     "metadata": {},
     "output_type": "execute_result"
    }
   ],
   "source": [
    "df[[col for col in df.columns if col.startswith(\"Metadata_\")]].sample(10)"
   ]
  },
  {
   "cell_type": "code",
   "execution_count": 4,
   "metadata": {},
   "outputs": [
    {
     "data": {
      "application/vnd.jupyter.widget-view+json": {
       "model_id": "a4954c5b5f9d47168d40d9878fd620aa",
       "version_major": 2,
       "version_minor": 0
      },
      "text/plain": [
       "  0%|          | 0/1 [00:00<?, ?it/s]"
      ]
     },
     "metadata": {},
     "output_type": "display_data"
    },
    {
     "data": {
      "application/vnd.jupyter.widget-view+json": {
       "model_id": "248b21093ba444e68102a5c25d9cc193",
       "version_major": 2,
       "version_minor": 0
      },
      "text/plain": [
       "  0%|          | 0/15 [00:00<?, ?it/s]"
      ]
     },
     "metadata": {},
     "output_type": "display_data"
    },
    {
     "name": "stderr",
     "output_type": "stream",
     "text": [
      "/Users/shsingh/mambaforge/envs/ncp/lib/python3.9/site-packages/copairs/compute.py:105: RuntimeWarning: invalid value encountered in divide\n",
      "  ap_scores = np.add.reduceat(pr_k * rel_k_list, cutoffs) / num_pos\n"
     ]
    },
    {
     "data": {
      "application/vnd.jupyter.widget-view+json": {
       "model_id": "6a75d52728bf45e4a3ae12bcc20aece8",
       "version_major": 2,
       "version_minor": 0
      },
      "text/plain": [
       "  0%|          | 0/5 [00:00<?, ?it/s]"
      ]
     },
     "metadata": {},
     "output_type": "display_data"
    },
    {
     "name": "stderr",
     "output_type": "stream",
     "text": [
      "/Users/shsingh/mambaforge/envs/ncp/lib/python3.9/site-packages/copairs/compute.py:89: RuntimeWarning: invalid value encountered in divide\n",
      "  ap = (pr_k * rel_k).sum(axis=1) / num_pos\n"
     ]
    }
   ],
   "source": [
    "# extract meta and feat columns\n",
    "meta_cols = [c for c in df.columns if c.startswith(\"Metadata\")]\n",
    "feat_cols = [c for c in df.columns if not c.startswith(\"Metadata\")]\n",
    "meta = df[meta_cols]\n",
    "feats = df[feat_cols].values\n",
    "\n",
    "# pos is what you are matching on\n",
    "# sameby is what condition shall be the same (e.g., same perturbation, same target)\n",
    "pos_sameby = [\n",
    "    \"Metadata_Plate\",\n",
    "    \"Metadata_cell_type\",\n",
    "    \"Metadata_line_ID\",\n",
    "    \"Metadata_line_source\",\n",
    "]\n",
    "# diffby is what condition shall be different (e.g., different plate)\n",
    "pos_diffby = []\n",
    "\n",
    "# neg is what you are matching against\n",
    "# sameby is barely used unless you want to limit the sample, e.g., only against control in the same plate\n",
    "neg_sameby = [\"Metadata_Plate\", \"Metadata_cell_type\"]\n",
    "# diffby is what condition shall be different (e.g., control vs. non control)\n",
    "neg_diffby = [\"Metadata_line_ID\"]\n",
    "null_size = 10000\n",
    "tech_result = run_pipeline(\n",
    "    meta, feats, pos_sameby, pos_diffby, neg_sameby, neg_diffby, null_size\n",
    ")"
   ]
  },
  {
   "cell_type": "code",
   "execution_count": 5,
   "metadata": {},
   "outputs": [
    {
     "data": {
      "text/plain": [
       "above_p_threshold  above_q_threshold\n",
       "False              False                178\n",
       "True               True                  61\n",
       "                   False                 48\n",
       "Name: count, dtype: int64"
      ]
     },
     "execution_count": 5,
     "metadata": {},
     "output_type": "execute_result"
    }
   ],
   "source": [
    "# combine scores from samples with the same Metadata_Sample_Unique\n",
    "tech_result_agg = aggregate(tech_result, pos_sameby, threshold=0.05)\n",
    "tech_result_agg[[\"above_p_threshold\", \"above_q_threshold\"]].value_counts()"
   ]
  },
  {
   "cell_type": "code",
   "execution_count": 9,
   "metadata": {},
   "outputs": [],
   "source": [
    "output_dir = f\"output/analysis_results/{data_level}/replicability/\"\n",
    "\n",
    "import os\n",
    "\n",
    "os.makedirs(output_dir, exist_ok=True)\n",
    "\n",
    "tech_result_agg.to_csv(f\"{output_dir}/tech_result_agg.csv\")\n",
    "\n",
    "tech_result.to_csv(f\"{output_dir}/tech_result.csv\")"
   ]
  }
 ],
 "metadata": {
  "kernelspec": {
   "display_name": "ncp",
   "language": "python",
   "name": "python3"
  },
  "language_info": {
   "codemirror_mode": {
    "name": "ipython",
    "version": 3
   },
   "file_extension": ".py",
   "mimetype": "text/x-python",
   "name": "python",
   "nbconvert_exporter": "python",
   "pygments_lexer": "ipython3",
   "version": "3.9.15"
  }
 },
 "nbformat": 4,
 "nbformat_minor": 2
}
