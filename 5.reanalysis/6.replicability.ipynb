{
 "cells": [
  {
   "cell_type": "markdown",
   "metadata": {},
   "source": [
    "# Replicability"
   ]
  },
  {
   "cell_type": "code",
   "execution_count": 1,
   "metadata": {},
   "outputs": [],
   "source": [
    "import pandas as pd\n",
    "import numpy as np\n",
    "from copairs.map import aggregate\n",
    "from copairs.map import run_pipeline"
   ]
  },
  {
   "cell_type": "code",
   "execution_count": 2,
   "metadata": {},
   "outputs": [],
   "source": [
    "data_level = \"normalized_feature_select\"\n",
    "\n",
    "data_path = f\"output/processed/{data_level}/combined.parquet\"\n",
    "\n",
    "df = pd.read_parquet(data_path)"
   ]
  },
  {
   "cell_type": "code",
   "execution_count": 3,
   "metadata": {},
   "outputs": [
    {
     "data": {
      "text/html": [
       "<div>\n",
       "<style scoped>\n",
       "    .dataframe tbody tr th:only-of-type {\n",
       "        vertical-align: middle;\n",
       "    }\n",
       "\n",
       "    .dataframe tbody tr th {\n",
       "        vertical-align: top;\n",
       "    }\n",
       "\n",
       "    .dataframe thead th {\n",
       "        text-align: right;\n",
       "    }\n",
       "</style>\n",
       "<table border=\"1\" class=\"dataframe\">\n",
       "  <thead>\n",
       "    <tr style=\"text-align: right;\">\n",
       "      <th></th>\n",
       "      <th>Metadata_Plate</th>\n",
       "      <th>Metadata_Well</th>\n",
       "      <th>Metadata_Plate_Map_Name</th>\n",
       "      <th>Metadata_cell_type</th>\n",
       "      <th>Metadata_line_ID</th>\n",
       "      <th>Metadata_line_condition</th>\n",
       "      <th>Metadata_line_source</th>\n",
       "      <th>Metadata_plating_density</th>\n",
       "      <th>Metadata_Object_Count</th>\n",
       "      <th>Metadata_Object_Count_inferred</th>\n",
       "      <th>Metadata_Site_Count</th>\n",
       "    </tr>\n",
       "  </thead>\n",
       "  <tbody>\n",
       "    <tr>\n",
       "      <th>689</th>\n",
       "      <td>BR00132672</td>\n",
       "      <td>M18</td>\n",
       "      <td>NCP_2022_03_03_METADATA</td>\n",
       "      <td>neuron</td>\n",
       "      <td>44</td>\n",
       "      <td>deletion</td>\n",
       "      <td>human</td>\n",
       "      <td>3500</td>\n",
       "      <td>73.000</td>\n",
       "      <td>89.340000</td>\n",
       "      <td>3</td>\n",
       "    </tr>\n",
       "    <tr>\n",
       "      <th>151</th>\n",
       "      <td>BR00127194</td>\n",
       "      <td>G08</td>\n",
       "      <td>BR00127194</td>\n",
       "      <td>progen</td>\n",
       "      <td>19</td>\n",
       "      <td>control</td>\n",
       "      <td>human</td>\n",
       "      <td>10000</td>\n",
       "      <td>3818.000</td>\n",
       "      <td>3912.345731</td>\n",
       "      <td>9</td>\n",
       "    </tr>\n",
       "    <tr>\n",
       "      <th>663</th>\n",
       "      <td>BR00132672</td>\n",
       "      <td>L16</td>\n",
       "      <td>NCP_2022_03_03_METADATA</td>\n",
       "      <td>neuron</td>\n",
       "      <td>48</td>\n",
       "      <td>deletion</td>\n",
       "      <td>human</td>\n",
       "      <td>3500</td>\n",
       "      <td>95.000</td>\n",
       "      <td>104.592000</td>\n",
       "      <td>3</td>\n",
       "    </tr>\n",
       "    <tr>\n",
       "      <th>372</th>\n",
       "      <td>BR00127194</td>\n",
       "      <td>P13</td>\n",
       "      <td>BR00127194</td>\n",
       "      <td>progen</td>\n",
       "      <td>3</td>\n",
       "      <td>control</td>\n",
       "      <td>human</td>\n",
       "      <td>10000</td>\n",
       "      <td>3090.000</td>\n",
       "      <td>3193.194175</td>\n",
       "      <td>9</td>\n",
       "    </tr>\n",
       "    <tr>\n",
       "      <th>979</th>\n",
       "      <td>BR00132673</td>\n",
       "      <td>I20</td>\n",
       "      <td>NCP_2022_03_03_METADATA</td>\n",
       "      <td>neuron</td>\n",
       "      <td>27</td>\n",
       "      <td>deletion</td>\n",
       "      <td>human</td>\n",
       "      <td>3500</td>\n",
       "      <td>216.000</td>\n",
       "      <td>229.194000</td>\n",
       "      <td>3</td>\n",
       "    </tr>\n",
       "    <tr>\n",
       "      <th>1538</th>\n",
       "      <td>PE_PP_Plate2</td>\n",
       "      <td>A03</td>\n",
       "      <td>2022-08-07_batch_METADATA</td>\n",
       "      <td>astro</td>\n",
       "      <td>9</td>\n",
       "      <td>control</td>\n",
       "      <td>human</td>\n",
       "      <td>5000</td>\n",
       "      <td>182.000</td>\n",
       "      <td>250.544000</td>\n",
       "      <td>7</td>\n",
       "    </tr>\n",
       "    <tr>\n",
       "      <th>1195</th>\n",
       "      <td>BR_NCP_STEM_1</td>\n",
       "      <td>B20</td>\n",
       "      <td>BR_NCP_STEM_1</td>\n",
       "      <td>stem</td>\n",
       "      <td>16</td>\n",
       "      <td>control</td>\n",
       "      <td>human</td>\n",
       "      <td>10000</td>\n",
       "      <td>933.228</td>\n",
       "      <td>933.228000</td>\n",
       "      <td>9</td>\n",
       "    </tr>\n",
       "    <tr>\n",
       "      <th>1237</th>\n",
       "      <td>BR_NCP_STEM_1</td>\n",
       "      <td>D14</td>\n",
       "      <td>BR_NCP_STEM_1</td>\n",
       "      <td>stem</td>\n",
       "      <td>11</td>\n",
       "      <td>control</td>\n",
       "      <td>human</td>\n",
       "      <td>10000</td>\n",
       "      <td>624.456</td>\n",
       "      <td>624.456000</td>\n",
       "      <td>9</td>\n",
       "    </tr>\n",
       "    <tr>\n",
       "      <th>857</th>\n",
       "      <td>BR00132673</td>\n",
       "      <td>D18</td>\n",
       "      <td>NCP_2022_03_03_METADATA</td>\n",
       "      <td>neuron</td>\n",
       "      <td>43</td>\n",
       "      <td>deletion</td>\n",
       "      <td>human</td>\n",
       "      <td>3500</td>\n",
       "      <td>184.000</td>\n",
       "      <td>190.596000</td>\n",
       "      <td>3</td>\n",
       "    </tr>\n",
       "    <tr>\n",
       "      <th>804</th>\n",
       "      <td>BR00132673</td>\n",
       "      <td>B13</td>\n",
       "      <td>NCP_2022_03_03_METADATA</td>\n",
       "      <td>neuron</td>\n",
       "      <td>15</td>\n",
       "      <td>control</td>\n",
       "      <td>human</td>\n",
       "      <td>3500</td>\n",
       "      <td>431.000</td>\n",
       "      <td>478.218000</td>\n",
       "      <td>3</td>\n",
       "    </tr>\n",
       "  </tbody>\n",
       "</table>\n",
       "</div>"
      ],
      "text/plain": [
       "     Metadata_Plate Metadata_Well    Metadata_Plate_Map_Name  \\\n",
       "689      BR00132672           M18    NCP_2022_03_03_METADATA   \n",
       "151      BR00127194           G08                 BR00127194   \n",
       "663      BR00132672           L16    NCP_2022_03_03_METADATA   \n",
       "372      BR00127194           P13                 BR00127194   \n",
       "979      BR00132673           I20    NCP_2022_03_03_METADATA   \n",
       "1538   PE_PP_Plate2           A03  2022-08-07_batch_METADATA   \n",
       "1195  BR_NCP_STEM_1           B20              BR_NCP_STEM_1   \n",
       "1237  BR_NCP_STEM_1           D14              BR_NCP_STEM_1   \n",
       "857      BR00132673           D18    NCP_2022_03_03_METADATA   \n",
       "804      BR00132673           B13    NCP_2022_03_03_METADATA   \n",
       "\n",
       "     Metadata_cell_type  Metadata_line_ID Metadata_line_condition  \\\n",
       "689              neuron                44                deletion   \n",
       "151              progen                19                 control   \n",
       "663              neuron                48                deletion   \n",
       "372              progen                 3                 control   \n",
       "979              neuron                27                deletion   \n",
       "1538              astro                 9                 control   \n",
       "1195               stem                16                 control   \n",
       "1237               stem                11                 control   \n",
       "857              neuron                43                deletion   \n",
       "804              neuron                15                 control   \n",
       "\n",
       "     Metadata_line_source  Metadata_plating_density  Metadata_Object_Count  \\\n",
       "689                 human                      3500                 73.000   \n",
       "151                 human                     10000               3818.000   \n",
       "663                 human                      3500                 95.000   \n",
       "372                 human                     10000               3090.000   \n",
       "979                 human                      3500                216.000   \n",
       "1538                human                      5000                182.000   \n",
       "1195                human                     10000                933.228   \n",
       "1237                human                     10000                624.456   \n",
       "857                 human                      3500                184.000   \n",
       "804                 human                      3500                431.000   \n",
       "\n",
       "      Metadata_Object_Count_inferred  Metadata_Site_Count  \n",
       "689                        89.340000                    3  \n",
       "151                      3912.345731                    9  \n",
       "663                       104.592000                    3  \n",
       "372                      3193.194175                    9  \n",
       "979                       229.194000                    3  \n",
       "1538                      250.544000                    7  \n",
       "1195                      933.228000                    9  \n",
       "1237                      624.456000                    9  \n",
       "857                       190.596000                    3  \n",
       "804                       478.218000                    3  "
      ]
     },
     "execution_count": 3,
     "metadata": {},
     "output_type": "execute_result"
    }
   ],
   "source": [
    "df[[col for col in df.columns if col.startswith(\"Metadata_\")]].sample(10)"
   ]
  },
  {
   "cell_type": "code",
   "execution_count": 4,
   "metadata": {},
   "outputs": [
    {
     "data": {
      "application/vnd.jupyter.widget-view+json": {
       "model_id": "0c754f638d344521957b4c144bcd2e35",
       "version_major": 2,
       "version_minor": 0
      },
      "text/plain": [
       "  0%|          | 0/1 [00:00<?, ?it/s]"
      ]
     },
     "metadata": {},
     "output_type": "display_data"
    },
    {
     "data": {
      "application/vnd.jupyter.widget-view+json": {
       "model_id": "45b56415ec184ad08962031bbf33f326",
       "version_major": 2,
       "version_minor": 0
      },
      "text/plain": [
       "  0%|          | 0/15 [00:00<?, ?it/s]"
      ]
     },
     "metadata": {},
     "output_type": "display_data"
    },
    {
     "name": "stderr",
     "output_type": "stream",
     "text": [
      "/Users/shsingh/mambaforge/envs/ncp/lib/python3.9/site-packages/copairs/compute.py:105: RuntimeWarning: invalid value encountered in divide\n",
      "  ap_scores = np.add.reduceat(pr_k * rel_k_list, cutoffs) / num_pos\n"
     ]
    },
    {
     "data": {
      "application/vnd.jupyter.widget-view+json": {
       "model_id": "7bdcfa8546ab49e6bced2224cc2148c1",
       "version_major": 2,
       "version_minor": 0
      },
      "text/plain": [
       "  0%|          | 0/5 [00:00<?, ?it/s]"
      ]
     },
     "metadata": {},
     "output_type": "display_data"
    }
   ],
   "source": [
    "# extract meta and feat columns\n",
    "meta_cols = [c for c in df.columns if c.startswith(\"Metadata\")]\n",
    "feat_cols = [c for c in df.columns if not c.startswith(\"Metadata\")]\n",
    "meta = df[meta_cols]\n",
    "feats = df[feat_cols].values\n",
    "\n",
    "# pos is what you are matching on\n",
    "# sameby is what condition shall be the same (e.g., same perturbation, same target)\n",
    "pos_sameby = [\n",
    "    \"Metadata_Plate\",\n",
    "    \"Metadata_cell_type\",\n",
    "    \"Metadata_line_ID\",\n",
    "    \"Metadata_line_source\",\n",
    "]\n",
    "# diffby is what condition shall be different (e.g., different plate)\n",
    "pos_diffby = []\n",
    "\n",
    "# neg is what you are matching against\n",
    "# sameby is barely used unless you want to limit the sample, e.g., only against control in the same plate\n",
    "neg_sameby = [\"Metadata_Plate\", \"Metadata_cell_type\"]\n",
    "# diffby is what condition shall be different (e.g., control vs. non control)\n",
    "neg_diffby = [\"Metadata_line_ID\"]\n",
    "null_size = 1000\n",
    "tech_result = run_pipeline(\n",
    "    meta, feats, pos_sameby, pos_diffby, neg_sameby, neg_diffby, null_size\n",
    ")"
   ]
  },
  {
   "cell_type": "code",
   "execution_count": 5,
   "metadata": {},
   "outputs": [
    {
     "data": {
      "text/plain": [
       "above_p_threshold  above_q_threshold\n",
       "False              False                287\n",
       "Name: count, dtype: int64"
      ]
     },
     "execution_count": 5,
     "metadata": {},
     "output_type": "execute_result"
    }
   ],
   "source": [
    "# combine scores from samples with the same Metadata_Sample_Unique\n",
    "tech_result_agg = aggregate(tech_result, pos_sameby, threshold=0.05)\n",
    "tech_result_agg[[\"above_p_threshold\", \"above_q_threshold\"]].value_counts()"
   ]
  }
 ],
 "metadata": {
  "kernelspec": {
   "display_name": "ncp",
   "language": "python",
   "name": "python3"
  },
  "language_info": {
   "codemirror_mode": {
    "name": "ipython",
    "version": 3
   },
   "file_extension": ".py",
   "mimetype": "text/x-python",
   "name": "python",
   "nbconvert_exporter": "python",
   "pygments_lexer": "ipython3",
   "version": "3.9.15"
  }
 },
 "nbformat": 4,
 "nbformat_minor": 2
}
