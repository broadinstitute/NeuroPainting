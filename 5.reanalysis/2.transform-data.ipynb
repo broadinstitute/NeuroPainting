{
 "cells": [
  {
   "cell_type": "markdown",
   "metadata": {},
   "source": [
    "# Transform features"
   ]
  },
  {
   "cell_type": "code",
   "execution_count": 12,
   "metadata": {},
   "outputs": [],
   "source": [
    "import pandas as pd\n",
    "import seaborn as sns\n",
    "import matplotlib.pyplot as plt\n",
    "import numpy as np\n",
    "import sys\n",
    "import os\n",
    "import pandas as pd\n",
    "\n",
    "from pycytominer import (\n",
    "    normalize,\n",
    "    feature_select,\n",
    ")\n",
    "\n",
    "notebook_dir = os.path.abspath(os.getcwd())\n",
    "\n",
    "ncp_src_path = os.path.abspath(os.path.join(notebook_dir, \"..\", \"ncp\", \"src\"))\n",
    "\n",
    "if ncp_src_path not in sys.path:\n",
    "    sys.path.append(ncp_src_path)\n",
    "\n",
    "from utils import apply_function_to_groups"
   ]
  },
  {
   "cell_type": "markdown",
   "metadata": {},
   "source": [
    "## Load data"
   ]
  },
  {
   "cell_type": "code",
   "execution_count": 2,
   "metadata": {},
   "outputs": [],
   "source": [
    "data_level = \"augmented\"\n",
    "\n",
    "augmented_file = f\"output/processed/{data_level}/combined.parquet\"\n",
    "\n",
    "augmented_df = pd.read_parquet(augmented_file)"
   ]
  },
  {
   "cell_type": "markdown",
   "metadata": {},
   "source": [
    "## Transform features"
   ]
  },
  {
   "cell_type": "code",
   "execution_count": 3,
   "metadata": {},
   "outputs": [],
   "source": [
    "data_level = \"normalized\"\n",
    "\n",
    "os.makedirs(f\"output/processed/{data_level}/\", exist_ok=True)\n",
    "\n",
    "normalized_file = f\"output/processed/{data_level}/combined.parquet\"\n",
    "\n",
    "normalized_df = apply_function_to_groups(\n",
    "    df=augmented_df,\n",
    "    group_col=\"Metadata_Plate\",\n",
    "    func=normalize,\n",
    "    features=\"infer\",\n",
    "    image_features=False,\n",
    "    samples=\"all\",\n",
    "    method=\"mad_robustize\",\n",
    "    mad_robustize_epsilon=1e-6,\n",
    ")\n",
    "\n",
    "normalized_df.to_parquet(normalized_file)"
   ]
  },
  {
   "cell_type": "code",
   "execution_count": 14,
   "metadata": {},
   "outputs": [],
   "source": [
    "data_level = \"normalized_feature_select\"\n",
    "\n",
    "os.makedirs(f\"output/processed/{data_level}/\", exist_ok=True)\n",
    "\n",
    "normalized_feature_select_file = f\"output/processed/{data_level}/combined.parquet\"\n",
    "\n",
    "normalized_feature_select_df = feature_select(\n",
    "    profiles=normalized_df,\n",
    "    features=\"infer\",\n",
    "    image_features=False,\n",
    "    operation=[\"variance_threshold\", \"correlation_threshold\"],\n",
    ")\n",
    "\n",
    "normalized_feature_select_df.to_parquet(normalized_feature_select_file)"
   ]
  },
  {
   "cell_type": "markdown",
   "metadata": {},
   "source": [
    "## Run checks"
   ]
  },
  {
   "cell_type": "code",
   "execution_count": 9,
   "metadata": {},
   "outputs": [
    {
     "data": {
      "text/html": [
       "<div>\n",
       "<style scoped>\n",
       "    .dataframe tbody tr th:only-of-type {\n",
       "        vertical-align: middle;\n",
       "    }\n",
       "\n",
       "    .dataframe tbody tr th {\n",
       "        vertical-align: top;\n",
       "    }\n",
       "\n",
       "    .dataframe thead th {\n",
       "        text-align: right;\n",
       "    }\n",
       "</style>\n",
       "<table border=\"1\" class=\"dataframe\">\n",
       "  <thead>\n",
       "    <tr style=\"text-align: right;\">\n",
       "      <th></th>\n",
       "      <th>Metadata_Plate</th>\n",
       "      <th>Cells_AreaShape_Area</th>\n",
       "    </tr>\n",
       "  </thead>\n",
       "  <tbody>\n",
       "    <tr>\n",
       "      <th>0</th>\n",
       "      <td>BR00127194</td>\n",
       "      <td>4.343314e-16</td>\n",
       "    </tr>\n",
       "    <tr>\n",
       "      <th>1</th>\n",
       "      <td>BR00132672</td>\n",
       "      <td>0.000000e+00</td>\n",
       "    </tr>\n",
       "    <tr>\n",
       "      <th>2</th>\n",
       "      <td>BR00132673</td>\n",
       "      <td>0.000000e+00</td>\n",
       "    </tr>\n",
       "    <tr>\n",
       "      <th>3</th>\n",
       "      <td>BR_NCP_STEM_1</td>\n",
       "      <td>8.387388e-16</td>\n",
       "    </tr>\n",
       "    <tr>\n",
       "      <th>4</th>\n",
       "      <td>PE_PP_Plate2</td>\n",
       "      <td>0.000000e+00</td>\n",
       "    </tr>\n",
       "    <tr>\n",
       "      <th>5</th>\n",
       "      <td>Plate1_PE_PP96</td>\n",
       "      <td>0.000000e+00</td>\n",
       "    </tr>\n",
       "  </tbody>\n",
       "</table>\n",
       "</div>"
      ],
      "text/plain": [
       "   Metadata_Plate  Cells_AreaShape_Area\n",
       "0      BR00127194          4.343314e-16\n",
       "1      BR00132672          0.000000e+00\n",
       "2      BR00132673          0.000000e+00\n",
       "3   BR_NCP_STEM_1          8.387388e-16\n",
       "4    PE_PP_Plate2          0.000000e+00\n",
       "5  Plate1_PE_PP96          0.000000e+00"
      ]
     },
     "execution_count": 9,
     "metadata": {},
     "output_type": "execute_result"
    }
   ],
   "source": [
    "grouped_median = (\n",
    "    normalized_df.groupby(\"Metadata_Plate\")[\"Cells_AreaShape_Area\"]\n",
    "    .median()\n",
    "    .reset_index()\n",
    ")\n",
    "\n",
    "grouped_median"
   ]
  }
 ],
 "metadata": {
  "kernelspec": {
   "display_name": "ncp",
   "language": "python",
   "name": "python3"
  },
  "language_info": {
   "codemirror_mode": {
    "name": "ipython",
    "version": 3
   },
   "file_extension": ".py",
   "mimetype": "text/x-python",
   "name": "python",
   "nbconvert_exporter": "python",
   "pygments_lexer": "ipython3",
   "version": "3.9.15"
  }
 },
 "nbformat": 4,
 "nbformat_minor": 2
}
