{
 "cells": [
  {
   "cell_type": "code",
   "execution_count": 1,
   "metadata": {},
   "outputs": [],
   "source": [
    "import os\n",
    "\n",
    "import pandas as pd\n",
    "import numpy as np\n",
    "import matplotlib.pyplot as plt\n",
    "import matplotlib.patches as mpatches\n",
    "import seaborn as sns \n",
    "import math\n",
    "import statistics\n",
    "import random\n",
    "\n",
    "from scipy.cluster.hierarchy import linkage, dendrogram, fcluster\n",
    "from scipy.stats import ttest_ind\n",
    "from statsmodels.stats.multitest import multipletests\n",
    "from sklearn.feature_selection import VarianceThreshold\n",
    "from sklearn.preprocessing import StandardScaler\n",
    "from sklearn.metrics import adjusted_rand_score, homogeneity_score\n",
    "\n",
    "from collections import Counter"
   ]
  },
  {
   "cell_type": "markdown",
   "metadata": {},
   "source": [
    "# Functions"
   ]
  },
  {
   "cell_type": "code",
   "execution_count": 2,
   "metadata": {
    "code_folding": [
     0,
     16,
     33
    ]
   },
   "outputs": [],
   "source": [
    "def id_to_cluster(linkage_data, agg_features_df):\n",
    "    \"\"\"\n",
    "    linkage_data: array of cluster numbers\n",
    "    agg_features_df: df of aggregated features to merge, index must match order of linkage_data\n",
    "    Returns a df with aggregated cp data and cluster number for each id\n",
    "    \"\"\"\n",
    "    # Get cluster number with the aggregated feature data\n",
    "    clusters_hierarchal_df = pd.DataFrame(data=linkage_data, index=agg_features_df.index)\n",
    "    clusters_hierarchal_df.rename(columns={0:'cluster_num'}, inplace=True)\n",
    "    clusters_hierarchal_df = clusters_hierarchal_df.merge(agg_features_df, how='left', left_index=True, right_index=True)\n",
    "\n",
    "    # Get the cell profiler features by cluster\n",
    "    cp_features_by_cluster = clusters_hierarchal_df.groupby(by='cluster_num').mean()\n",
    "    \n",
    "    return clusters_hierarchal_df\n",
    "\n",
    "def hierarchical_cluster(df, threshold, show=False):\n",
    "    \"\"\"\n",
    "    Returns df of cluster features\n",
    "    \"\"\"\n",
    "    threshold=threshold\n",
    "    Z1 = linkage(df, 'ward')\n",
    "    flat_linkage1 = fcluster(Z1, t=threshold, criterion='distance')\n",
    "    cluster_features1 = id_to_cluster(flat_linkage1, df)\n",
    "    \n",
    "    if show:\n",
    "        plt.figure(figsize=(12, df.shape[0]/4))\n",
    "        plt.axvline(x=threshold)\n",
    "        label = [str(i) + ' ' + j for i, j in zip(flat_linkage1.tolist(), df.index.tolist())]\n",
    "        plt.title('Clusters based on cell profiler features')\n",
    "        dend1 = dendrogram(Z1, color_threshold=threshold, orientation='left', leaf_font_size=10, labels=label)\n",
    "    return cluster_features1\n",
    "\n",
    "def km_cluster(df, num_clusters, random_state=2):\n",
    "    \"\"\"\n",
    "    returns df of cluster features\n",
    "    \"\"\"\n",
    "    km = KMeans(n_clusters=num_clusters, random_state=random_state).fit(df)\n",
    "    return id_to_cluster(km.labels_, df)"
   ]
  },
  {
   "cell_type": "code",
   "execution_count": 3,
   "metadata": {
    "code_folding": [
     0
    ]
   },
   "outputs": [],
   "source": [
    "def ttest_2_df(df1, df2, alpha=0.05, reject_only=True):\n",
    "    \"\"\"\n",
    "    Inputs are 2 dataframes with the same column features. Returns FDR adjusted p-values for each feature.\n",
    "    \"\"\"\n",
    "#     assert df1.columns == df2.columns\n",
    "    z_score, pvals = ttest_ind(df1.values, df2.values, axis=0)\n",
    "    p_df = pd.DataFrame(pvals, index = df1.columns)\n",
    "    p_df = p_df.rename(columns={0: 'pval'}) # unadjusted p values\n",
    "    \n",
    "    # Remove first row, which is just a ttest on the column number\n",
    "    p_df =  p_df.iloc[1:]\n",
    "    \n",
    "    # Get corrected p-values\n",
    "    q_df = p_df\n",
    "    q_df['adj_p_value'] = multipletests(p_df['pval'].values, alpha=alpha, method='fdr_bh')[1]\n",
    "    q_df['reject_null'] = multipletests(p_df['pval'].values, alpha=alpha, method='fdr_bh')[0]\n",
    "    \n",
    "    if reject_only:\n",
    "        q_df = q_df[q_df['reject_null'] == True]\n",
    "    \n",
    "    return q_df"
   ]
  },
  {
   "cell_type": "markdown",
   "metadata": {},
   "source": [
    "# Load data"
   ]
  },
  {
   "cell_type": "code",
   "execution_count": 20,
   "metadata": {},
   "outputs": [
    {
     "name": "stdout",
     "output_type": "stream",
     "text": [
      "shape: (312, 508)\n"
     ]
    }
   ],
   "source": [
    "# Progenitors data\n",
    "from pathlib import Path\n",
    "path = os.getcwd()\n",
    "base_dir = str(Path(path).parent)\n",
    "\n",
    "switch_isogenic_labels = True\n",
    "human_only=True\n",
    "\n",
    "#FS data\n",
    "progenitors = pd.read_csv(base_dir + '/feature_sets/Progenitors/0714_stdev_corr_fs.csv', index_col=0)\n",
    "\n",
    "exclude = ['5', '6', '33', '12', '16']\n",
    "try:\n",
    "    idx = [i for i in progenitors.index.tolist() if i.split('_')[2] not in exclude] # Exclude patient number\n",
    "    progenitors = progenitors[progenitors.index.isin(idx)]\n",
    "except: pass\n",
    "\n",
    "if human_only:\n",
    "    progenitors = progenitors[progenitors.index.str.contains('human')]\n",
    "\n",
    "print ('shape: {}'.format(progenitors.shape))\n",
    "\n",
    "labels = progenitors.index.tolist()\n",
    "if switch_isogenic_labels:\n",
    "    for i in range(len(labels)):\n",
    "        if 'isogenic_deletion' in labels[i]:\n",
    "            labels[i] = labels[i].replace('isogenic_deletion', 'temp')\n",
    "    for i in range(len(labels)):\n",
    "        if 'isogenic_control' in labels[i]:\n",
    "            labels[i] = labels[i].replace('isogenic_control', 'isogenic_deletion')            \n",
    "        if 'temp' in labels[i]:\n",
    "            labels[i] = labels[i].replace('temp', 'isogenic_control')                    \n",
    "progenitors.index = labels\n",
    "progenitors_orig = progenitors.copy()"
   ]
  },
  {
   "cell_type": "code",
   "execution_count": 5,
   "metadata": {},
   "outputs": [
    {
     "name": "stdout",
     "output_type": "stream",
     "text": [
      "shape: (352, 559)\n"
     ]
    }
   ],
   "source": [
    "# STEM data\n",
    "# Or use my FS data\n",
    "stem = pd.read_csv(base_dir + '/feature_sets/STEM01/0621_stdev_corr_fs.csv', index_col=0)\n",
    "\n",
    "\n",
    "try:\n",
    "    idx = [i for i in stem.index.tolist() if i.split('_')[-1] not in exclude]\n",
    "    stem = stem[stem.index.isin(idx)]\n",
    "except: pass\n",
    "\n",
    "if human_only:\n",
    "    stem = stem[stem.index.str.contains('human')]\n",
    "    \n",
    "print ('shape: {}'.format(stem.shape))\n",
    "\n",
    "labels = stem.index.tolist()\n",
    "if switch_isogenic_labels:\n",
    "    for i in range(len(labels)):\n",
    "        if 'isogenic_deletion' in labels[i]:\n",
    "            labels[i] = labels[i].replace('isogenic_deletion', 'temp')\n",
    "    for i in range(len(labels)):\n",
    "        if 'isogenic_control' in labels[i]:\n",
    "            labels[i] = labels[i].replace('isogenic_control', 'isogenic_deletion')            \n",
    "        if 'temp' in labels[i]:\n",
    "            labels[i] = labels[i].replace('temp', 'isogenic_control')                    \n",
    "stem.index = labels\n",
    "stem_orig = stem.copy()"
   ]
  },
  {
   "cell_type": "markdown",
   "metadata": {},
   "source": [
    "# Logistic regression and decision trees"
   ]
  },
  {
   "cell_type": "code",
   "execution_count": 6,
   "metadata": {},
   "outputs": [],
   "source": [
    "from sklearn.linear_model import LogisticRegression\n",
    "from sklearn.model_selection import train_test_split\n",
    "from sklearn.tree import DecisionTreeClassifier\n",
    "from sklearn.cluster import KMeans"
   ]
  },
  {
   "cell_type": "code",
   "execution_count": 7,
   "metadata": {},
   "outputs": [
    {
     "name": "stdout",
     "output_type": "stream",
     "text": [
      "352\n",
      "1.0 1.0\n"
     ]
    }
   ],
   "source": [
    "stem['label'] = stem.index.str.split('_').map(lambda x: x[1])\n",
    "stem['sample_num'] = stem.index.str.split('_').map(lambda x: x[2])\n",
    "\n",
    "all_nums = stem['sample_num']\n",
    "stem_xtrain, stem_xtest, stem_ytrain, stem_ytest = train_test_split(stem.drop(['label'], axis=1), stem['label'], \n",
    "                                                                    test_size=0.3, random_state=4)\n",
    "print(len(stem_xtrain) + len(stem_xtest))\n",
    "\n",
    "logr1 = LogisticRegression(random_state=2, penalty='l2', C=1).fit(stem_xtrain, stem_ytrain)\n",
    "print(logr1.score(stem_xtrain, stem_ytrain), logr1.score(stem_xtest, stem_ytest))\n",
    "# print(logr1.score(stem_xtrain, stem_ytrain.sample(frac=1)), logr1.score(stem_xtest, stem_ytest.sample(frac=1)))"
   ]
  },
  {
   "cell_type": "code",
   "execution_count": 21,
   "metadata": {},
   "outputs": [
    {
     "name": "stdout",
     "output_type": "stream",
     "text": [
      "312\n",
      "1.0 0.8936170212765957\n"
     ]
    }
   ],
   "source": [
    "progenitors['label'] = progenitors.index.str.split('_').map(lambda x: x[1])\n",
    "progenitors_xtrain, progenitors_xtest, progenitors_ytrain, progenitors_ytest = train_test_split(progenitors.drop(['label'], axis=1), progenitors['label'], \n",
    "                                                                    test_size=0.3, random_state=4)\n",
    "print(len(progenitors_xtrain) + len(progenitors_xtest))\n",
    "\n",
    "logr2 = LogisticRegression(random_state=2, penalty='l2', C=1, max_iter=130).fit(progenitors_xtrain, progenitors_ytrain)\n",
    "print(logr2.score(progenitors_xtrain, progenitors_ytrain), logr2.score(progenitors_xtest, progenitors_ytest))\n",
    "# print(logr2.score(progenitors_xtrain, progenitors_ytrain.sample(frac=1)), logr2.score(progenitors_xtest, progenitors_ytest.sample(frac=1)))"
   ]
  },
  {
   "cell_type": "code",
   "execution_count": 9,
   "metadata": {},
   "outputs": [],
   "source": [
    "# hclus_stem = hierarchical_cluster(stem.drop(['label'], axis=1), 200, show=False)\n",
    "# hclus_prog = hierarchical_cluster(progenitors.drop('label', axis=1), 170, show=True)\n",
    "\n",
    "# q = hclus_stem[hclus_stem['cluster_num']==2]\n",
    "# q[q.index.str.contains('del')]"
   ]
  },
  {
   "cell_type": "code",
   "execution_count": null,
   "metadata": {},
   "outputs": [],
   "source": []
  },
  {
   "cell_type": "code",
   "execution_count": 10,
   "metadata": {},
   "outputs": [
    {
     "name": "stdout",
     "output_type": "stream",
     "text": [
      "1.0 1.0\n",
      "0.4878048780487805 0.5094339622641509\n"
     ]
    }
   ],
   "source": [
    "tree1 = DecisionTreeClassifier(random_state=0).fit(stem_xtrain, stem_ytrain)\n",
    "print(tree1.score(stem_xtrain, stem_ytrain), tree1.score(stem_xtest, stem_ytest))\n",
    "print(tree1.score(stem_xtrain, stem_ytrain.sample(frac=1)), tree1.score(stem_xtest, stem_ytest.sample(frac=1)))"
   ]
  },
  {
   "cell_type": "code",
   "execution_count": 11,
   "metadata": {},
   "outputs": [
    {
     "name": "stdout",
     "output_type": "stream",
     "text": [
      "1.0 0.8380952380952381\n",
      "0.48148148148148145 0.47619047619047616\n"
     ]
    }
   ],
   "source": [
    "tree2 = DecisionTreeClassifier(random_state=0).fit(progenitors_xtrain, progenitors_ytrain)\n",
    "print(tree2.score(progenitors_xtrain, progenitors_ytrain), tree2.score(progenitors_xtest, progenitors_ytest))\n",
    "print(tree2.score(progenitors_xtrain, progenitors_ytrain.sample(frac=1)), tree2.score(progenitors_xtest, progenitors_ytest.sample(frac=1)))"
   ]
  },
  {
   "cell_type": "code",
   "execution_count": null,
   "metadata": {},
   "outputs": [],
   "source": []
  },
  {
   "cell_type": "code",
   "execution_count": null,
   "metadata": {},
   "outputs": [],
   "source": []
  },
  {
   "cell_type": "code",
   "execution_count": 12,
   "metadata": {},
   "outputs": [],
   "source": [
    "stem = stem.drop(['label'], axis=1)\n",
    "progenitors = progenitors.drop(['label'], axis=1)"
   ]
  },
  {
   "cell_type": "markdown",
   "metadata": {},
   "source": [
    "# Feature Importance"
   ]
  },
  {
   "cell_type": "code",
   "execution_count": 13,
   "metadata": {},
   "outputs": [
    {
     "data": {
      "text/html": [
       "<div>\n",
       "<style scoped>\n",
       "    .dataframe tbody tr th:only-of-type {\n",
       "        vertical-align: middle;\n",
       "    }\n",
       "\n",
       "    .dataframe tbody tr th {\n",
       "        vertical-align: top;\n",
       "    }\n",
       "\n",
       "    .dataframe thead th {\n",
       "        text-align: right;\n",
       "    }\n",
       "</style>\n",
       "<table border=\"1\" class=\"dataframe\">\n",
       "  <thead>\n",
       "    <tr style=\"text-align: right;\">\n",
       "      <th></th>\n",
       "      <th>weight</th>\n",
       "    </tr>\n",
       "  </thead>\n",
       "  <tbody>\n",
       "    <tr>\n",
       "      <th>sample_num</th>\n",
       "      <td>0.684903</td>\n",
       "    </tr>\n",
       "    <tr>\n",
       "      <th>Nuclei_Texture_InfoMeas1_DNA_10_01</th>\n",
       "      <td>0.089962</td>\n",
       "    </tr>\n",
       "    <tr>\n",
       "      <th>Cytoplasm_Intensity_MADIntensity_ER</th>\n",
       "      <td>0.069861</td>\n",
       "    </tr>\n",
       "    <tr>\n",
       "      <th>Cells_Intensity_LowerQuartileIntensity_Mito</th>\n",
       "      <td>0.069280</td>\n",
       "    </tr>\n",
       "    <tr>\n",
       "      <th>Cytoplasm_RadialDistribution_FracAtD_Brightfield_1of4</th>\n",
       "      <td>0.068099</td>\n",
       "    </tr>\n",
       "    <tr>\n",
       "      <th>Nuclei_Correlation_Correlation_DNA_Brightfield</th>\n",
       "      <td>0.066358</td>\n",
       "    </tr>\n",
       "    <tr>\n",
       "      <th>Nuclei_Correlation_Correlation_DNA_AGP</th>\n",
       "      <td>0.065501</td>\n",
       "    </tr>\n",
       "    <tr>\n",
       "      <th>Cells_Intensity_MedianIntensity_Mito</th>\n",
       "      <td>0.064868</td>\n",
       "    </tr>\n",
       "    <tr>\n",
       "      <th>Cytoplasm_AreaShape_EulerNumber</th>\n",
       "      <td>0.060670</td>\n",
       "    </tr>\n",
       "    <tr>\n",
       "      <th>Cytoplasm_RadialDistribution_FracAtD_Brightfield_4of4</th>\n",
       "      <td>-0.060202</td>\n",
       "    </tr>\n",
       "    <tr>\n",
       "      <th>Cells_Correlation_K_RNA_DNA</th>\n",
       "      <td>-0.059015</td>\n",
       "    </tr>\n",
       "    <tr>\n",
       "      <th>Cells_Correlation_Correlation_ER_Brightfield</th>\n",
       "      <td>0.057407</td>\n",
       "    </tr>\n",
       "    <tr>\n",
       "      <th>Nuclei_AreaShape_Zernike_8_0</th>\n",
       "      <td>0.056954</td>\n",
       "    </tr>\n",
       "    <tr>\n",
       "      <th>Nuclei_RadialDistribution_MeanFrac_Mito_1of4</th>\n",
       "      <td>0.056934</td>\n",
       "    </tr>\n",
       "    <tr>\n",
       "      <th>Cytoplasm_RadialDistribution_FracAtD_DNA_1of4</th>\n",
       "      <td>0.056412</td>\n",
       "    </tr>\n",
       "  </tbody>\n",
       "</table>\n",
       "</div>"
      ],
      "text/plain": [
       "                                                      weight\n",
       "sample_num                                          0.684903\n",
       "Nuclei_Texture_InfoMeas1_DNA_10_01                  0.089962\n",
       "Cytoplasm_Intensity_MADIntensity_ER                 0.069861\n",
       "Cells_Intensity_LowerQuartileIntensity_Mito         0.069280\n",
       "Cytoplasm_RadialDistribution_FracAtD_Brightfiel...  0.068099\n",
       "Nuclei_Correlation_Correlation_DNA_Brightfield      0.066358\n",
       "Nuclei_Correlation_Correlation_DNA_AGP              0.065501\n",
       "Cells_Intensity_MedianIntensity_Mito                0.064868\n",
       "Cytoplasm_AreaShape_EulerNumber                     0.060670\n",
       "Cytoplasm_RadialDistribution_FracAtD_Brightfiel... -0.060202\n",
       "Cells_Correlation_K_RNA_DNA                        -0.059015\n",
       "Cells_Correlation_Correlation_ER_Brightfield        0.057407\n",
       "Nuclei_AreaShape_Zernike_8_0                        0.056954\n",
       "Nuclei_RadialDistribution_MeanFrac_Mito_1of4        0.056934\n",
       "Cytoplasm_RadialDistribution_FracAtD_DNA_1of4       0.056412"
      ]
     },
     "execution_count": 13,
     "metadata": {},
     "output_type": "execute_result"
    }
   ],
   "source": [
    "stem_feature_weights = pd.DataFrame(logr1.coef_[0], columns=['weight'], index=stem.columns)\n",
    "stem_feature_weights.reindex(stem_feature_weights['weight'].abs().sort_values(ascending=False).index).head(15)"
   ]
  },
  {
   "cell_type": "code",
   "execution_count": 14,
   "metadata": {},
   "outputs": [
    {
     "data": {
      "text/html": [
       "<div>\n",
       "<style scoped>\n",
       "    .dataframe tbody tr th:only-of-type {\n",
       "        vertical-align: middle;\n",
       "    }\n",
       "\n",
       "    .dataframe tbody tr th {\n",
       "        vertical-align: top;\n",
       "    }\n",
       "\n",
       "    .dataframe thead th {\n",
       "        text-align: right;\n",
       "    }\n",
       "</style>\n",
       "<table border=\"1\" class=\"dataframe\">\n",
       "  <thead>\n",
       "    <tr style=\"text-align: right;\">\n",
       "      <th></th>\n",
       "      <th>weight</th>\n",
       "    </tr>\n",
       "  </thead>\n",
       "  <tbody>\n",
       "    <tr>\n",
       "      <th>sample_num</th>\n",
       "      <td>1.0</td>\n",
       "    </tr>\n",
       "    <tr>\n",
       "      <th>Cytoplasm_RadialDistribution_FracAtD_DNA_4of4</th>\n",
       "      <td>0.0</td>\n",
       "    </tr>\n",
       "    <tr>\n",
       "      <th>Cells_RadialDistribution_MeanFrac_DNA_3of4</th>\n",
       "      <td>0.0</td>\n",
       "    </tr>\n",
       "    <tr>\n",
       "      <th>Cells_RadialDistribution_RadialCV_DNA_1of4</th>\n",
       "      <td>0.0</td>\n",
       "    </tr>\n",
       "    <tr>\n",
       "      <th>Cells_RadialDistribution_RadialCV_DNA_2of4</th>\n",
       "      <td>0.0</td>\n",
       "    </tr>\n",
       "    <tr>\n",
       "      <th>Cells_RadialDistribution_RadialCV_DNA_3of4</th>\n",
       "      <td>0.0</td>\n",
       "    </tr>\n",
       "    <tr>\n",
       "      <th>Cells_RadialDistribution_RadialCV_DNA_4of4</th>\n",
       "      <td>0.0</td>\n",
       "    </tr>\n",
       "    <tr>\n",
       "      <th>Cytoplasm_RadialDistribution_FracAtD_DNA_1of4</th>\n",
       "      <td>0.0</td>\n",
       "    </tr>\n",
       "    <tr>\n",
       "      <th>Cytoplasm_RadialDistribution_MeanFrac_DNA_4of4</th>\n",
       "      <td>0.0</td>\n",
       "    </tr>\n",
       "    <tr>\n",
       "      <th>Cells_RadialDistribution_FracAtD_DNA_3of4</th>\n",
       "      <td>0.0</td>\n",
       "    </tr>\n",
       "    <tr>\n",
       "      <th>Nuclei_RadialDistribution_FracAtD_DNA_1of4</th>\n",
       "      <td>0.0</td>\n",
       "    </tr>\n",
       "    <tr>\n",
       "      <th>Nuclei_RadialDistribution_FracAtD_DNA_4of4</th>\n",
       "      <td>0.0</td>\n",
       "    </tr>\n",
       "    <tr>\n",
       "      <th>Nuclei_RadialDistribution_MeanFrac_DNA_1of4</th>\n",
       "      <td>0.0</td>\n",
       "    </tr>\n",
       "  </tbody>\n",
       "</table>\n",
       "</div>"
      ],
      "text/plain": [
       "                                                weight\n",
       "sample_num                                         1.0\n",
       "Cytoplasm_RadialDistribution_FracAtD_DNA_4of4      0.0\n",
       "Cells_RadialDistribution_MeanFrac_DNA_3of4         0.0\n",
       "Cells_RadialDistribution_RadialCV_DNA_1of4         0.0\n",
       "Cells_RadialDistribution_RadialCV_DNA_2of4         0.0\n",
       "Cells_RadialDistribution_RadialCV_DNA_3of4         0.0\n",
       "Cells_RadialDistribution_RadialCV_DNA_4of4         0.0\n",
       "Cytoplasm_RadialDistribution_FracAtD_DNA_1of4      0.0\n",
       "Cytoplasm_RadialDistribution_MeanFrac_DNA_4of4     0.0\n",
       "Cells_RadialDistribution_FracAtD_DNA_3of4          0.0\n",
       "Nuclei_RadialDistribution_FracAtD_DNA_1of4         0.0\n",
       "Nuclei_RadialDistribution_FracAtD_DNA_4of4         0.0\n",
       "Nuclei_RadialDistribution_MeanFrac_DNA_1of4        0.0"
      ]
     },
     "metadata": {},
     "output_type": "display_data"
    }
   ],
   "source": [
    "stem_tree_feature_weights = pd.DataFrame(tree1.feature_importances_, columns=['weight'], index=stem.columns)\n",
    "with pd.option_context('display.max_rows', None, 'display.max_columns', None):\n",
    "    display(stem_tree_feature_weights.sort_values(by='weight', ascending=False).head(13))\n"
   ]
  },
  {
   "cell_type": "code",
   "execution_count": 15,
   "metadata": {},
   "outputs": [
    {
     "ename": "TypeError",
     "evalue": "unsupported operand type(s) for /: 'str' and 'int'",
     "output_type": "error",
     "traceback": [
      "\u001b[1;31m---------------------------------------------------------------------------\u001b[0m",
      "\u001b[1;31mTypeError\u001b[0m                                 Traceback (most recent call last)",
      "\u001b[1;32m<ipython-input-15-45b8736f84e6>\u001b[0m in \u001b[0;36m<module>\u001b[1;34m\u001b[0m\n\u001b[1;32m----> 1\u001b[1;33m \u001b[0mttest_stem\u001b[0m \u001b[1;33m=\u001b[0m \u001b[0mttest_2_df\u001b[0m\u001b[1;33m(\u001b[0m\u001b[0mstem\u001b[0m\u001b[1;33m[\u001b[0m\u001b[0mstem\u001b[0m\u001b[1;33m.\u001b[0m\u001b[0mindex\u001b[0m\u001b[1;33m.\u001b[0m\u001b[0mstr\u001b[0m\u001b[1;33m.\u001b[0m\u001b[0mcontains\u001b[0m\u001b[1;33m(\u001b[0m\u001b[1;34m'control'\u001b[0m\u001b[1;33m)\u001b[0m\u001b[1;33m]\u001b[0m\u001b[1;33m,\u001b[0m \u001b[0mstem\u001b[0m\u001b[1;33m[\u001b[0m\u001b[0mstem\u001b[0m\u001b[1;33m.\u001b[0m\u001b[0mindex\u001b[0m\u001b[1;33m.\u001b[0m\u001b[0mstr\u001b[0m\u001b[1;33m.\u001b[0m\u001b[0mcontains\u001b[0m\u001b[1;33m(\u001b[0m\u001b[1;34m'deletion'\u001b[0m\u001b[1;33m)\u001b[0m\u001b[1;33m]\u001b[0m\u001b[1;33m)\u001b[0m\u001b[1;33m\u001b[0m\u001b[1;33m\u001b[0m\u001b[0m\n\u001b[0m\u001b[0;32m      2\u001b[0m \u001b[1;32mwith\u001b[0m \u001b[0mpd\u001b[0m\u001b[1;33m.\u001b[0m\u001b[0moption_context\u001b[0m\u001b[1;33m(\u001b[0m\u001b[1;34m'display.max_rows'\u001b[0m\u001b[1;33m,\u001b[0m \u001b[1;32mNone\u001b[0m\u001b[1;33m,\u001b[0m \u001b[1;34m'display.max_columns'\u001b[0m\u001b[1;33m,\u001b[0m \u001b[1;32mNone\u001b[0m\u001b[1;33m)\u001b[0m\u001b[1;33m:\u001b[0m\u001b[1;33m\u001b[0m\u001b[1;33m\u001b[0m\u001b[0m\n\u001b[0;32m      3\u001b[0m     \u001b[0mdisplay\u001b[0m\u001b[1;33m(\u001b[0m\u001b[0mttest_stem\u001b[0m\u001b[1;33m.\u001b[0m\u001b[0msort_values\u001b[0m\u001b[1;33m(\u001b[0m\u001b[0mby\u001b[0m\u001b[1;33m=\u001b[0m\u001b[1;34m'adj_p_value'\u001b[0m\u001b[1;33m)\u001b[0m\u001b[1;33m.\u001b[0m\u001b[0mhead\u001b[0m\u001b[1;33m(\u001b[0m\u001b[1;36m15\u001b[0m\u001b[1;33m)\u001b[0m\u001b[1;33m)\u001b[0m\u001b[1;33m\u001b[0m\u001b[1;33m\u001b[0m\u001b[0m\n",
      "\u001b[1;32m<ipython-input-3-88555d8b936c>\u001b[0m in \u001b[0;36mttest_2_df\u001b[1;34m(df1, df2, alpha, reject_only)\u001b[0m\n\u001b[0;32m      4\u001b[0m     \"\"\"\n\u001b[0;32m      5\u001b[0m \u001b[1;31m#     assert df1.columns == df2.columns\u001b[0m\u001b[1;33m\u001b[0m\u001b[1;33m\u001b[0m\u001b[1;33m\u001b[0m\u001b[0m\n\u001b[1;32m----> 6\u001b[1;33m     \u001b[0mz_score\u001b[0m\u001b[1;33m,\u001b[0m \u001b[0mpvals\u001b[0m \u001b[1;33m=\u001b[0m \u001b[0mttest_ind\u001b[0m\u001b[1;33m(\u001b[0m\u001b[0mdf1\u001b[0m\u001b[1;33m.\u001b[0m\u001b[0mvalues\u001b[0m\u001b[1;33m,\u001b[0m \u001b[0mdf2\u001b[0m\u001b[1;33m.\u001b[0m\u001b[0mvalues\u001b[0m\u001b[1;33m,\u001b[0m \u001b[0maxis\u001b[0m\u001b[1;33m=\u001b[0m\u001b[1;36m0\u001b[0m\u001b[1;33m)\u001b[0m\u001b[1;33m\u001b[0m\u001b[1;33m\u001b[0m\u001b[0m\n\u001b[0m\u001b[0;32m      7\u001b[0m     \u001b[0mp_df\u001b[0m \u001b[1;33m=\u001b[0m \u001b[0mpd\u001b[0m\u001b[1;33m.\u001b[0m\u001b[0mDataFrame\u001b[0m\u001b[1;33m(\u001b[0m\u001b[0mpvals\u001b[0m\u001b[1;33m,\u001b[0m \u001b[0mindex\u001b[0m \u001b[1;33m=\u001b[0m \u001b[0mdf1\u001b[0m\u001b[1;33m.\u001b[0m\u001b[0mcolumns\u001b[0m\u001b[1;33m)\u001b[0m\u001b[1;33m\u001b[0m\u001b[1;33m\u001b[0m\u001b[0m\n\u001b[0;32m      8\u001b[0m     \u001b[0mp_df\u001b[0m \u001b[1;33m=\u001b[0m \u001b[0mp_df\u001b[0m\u001b[1;33m.\u001b[0m\u001b[0mrename\u001b[0m\u001b[1;33m(\u001b[0m\u001b[0mcolumns\u001b[0m\u001b[1;33m=\u001b[0m\u001b[1;33m{\u001b[0m\u001b[1;36m0\u001b[0m\u001b[1;33m:\u001b[0m \u001b[1;34m'pval'\u001b[0m\u001b[1;33m}\u001b[0m\u001b[1;33m)\u001b[0m \u001b[1;31m# unadjusted p values\u001b[0m\u001b[1;33m\u001b[0m\u001b[1;33m\u001b[0m\u001b[0m\n",
      "\u001b[1;32m~\\anaconda3\\envs\\cytominer\\lib\\site-packages\\scipy\\stats\\stats.py\u001b[0m in \u001b[0;36mttest_ind\u001b[1;34m(a, b, axis, equal_var, nan_policy)\u001b[0m\n\u001b[0;32m   5640\u001b[0m         \u001b[1;32mreturn\u001b[0m \u001b[0m_ttest_nans\u001b[0m\u001b[1;33m(\u001b[0m\u001b[0ma\u001b[0m\u001b[1;33m,\u001b[0m \u001b[0mb\u001b[0m\u001b[1;33m,\u001b[0m \u001b[0maxis\u001b[0m\u001b[1;33m,\u001b[0m \u001b[0mTtest_indResult\u001b[0m\u001b[1;33m)\u001b[0m\u001b[1;33m\u001b[0m\u001b[1;33m\u001b[0m\u001b[0m\n\u001b[0;32m   5641\u001b[0m \u001b[1;33m\u001b[0m\u001b[0m\n\u001b[1;32m-> 5642\u001b[1;33m     \u001b[0mv1\u001b[0m \u001b[1;33m=\u001b[0m \u001b[0mnp\u001b[0m\u001b[1;33m.\u001b[0m\u001b[0mvar\u001b[0m\u001b[1;33m(\u001b[0m\u001b[0ma\u001b[0m\u001b[1;33m,\u001b[0m \u001b[0maxis\u001b[0m\u001b[1;33m,\u001b[0m \u001b[0mddof\u001b[0m\u001b[1;33m=\u001b[0m\u001b[1;36m1\u001b[0m\u001b[1;33m)\u001b[0m\u001b[1;33m\u001b[0m\u001b[1;33m\u001b[0m\u001b[0m\n\u001b[0m\u001b[0;32m   5643\u001b[0m     \u001b[0mv2\u001b[0m \u001b[1;33m=\u001b[0m \u001b[0mnp\u001b[0m\u001b[1;33m.\u001b[0m\u001b[0mvar\u001b[0m\u001b[1;33m(\u001b[0m\u001b[0mb\u001b[0m\u001b[1;33m,\u001b[0m \u001b[0maxis\u001b[0m\u001b[1;33m,\u001b[0m \u001b[0mddof\u001b[0m\u001b[1;33m=\u001b[0m\u001b[1;36m1\u001b[0m\u001b[1;33m)\u001b[0m\u001b[1;33m\u001b[0m\u001b[1;33m\u001b[0m\u001b[0m\n\u001b[0;32m   5644\u001b[0m     \u001b[0mn1\u001b[0m \u001b[1;33m=\u001b[0m \u001b[0ma\u001b[0m\u001b[1;33m.\u001b[0m\u001b[0mshape\u001b[0m\u001b[1;33m[\u001b[0m\u001b[0maxis\u001b[0m\u001b[1;33m]\u001b[0m\u001b[1;33m\u001b[0m\u001b[1;33m\u001b[0m\u001b[0m\n",
      "\u001b[1;32m<__array_function__ internals>\u001b[0m in \u001b[0;36mvar\u001b[1;34m(*args, **kwargs)\u001b[0m\n",
      "\u001b[1;32m~\\anaconda3\\envs\\cytominer\\lib\\site-packages\\numpy\\core\\fromnumeric.py\u001b[0m in \u001b[0;36mvar\u001b[1;34m(a, axis, dtype, out, ddof, keepdims)\u001b[0m\n\u001b[0;32m   3619\u001b[0m             \u001b[1;32mreturn\u001b[0m \u001b[0mvar\u001b[0m\u001b[1;33m(\u001b[0m\u001b[0maxis\u001b[0m\u001b[1;33m=\u001b[0m\u001b[0maxis\u001b[0m\u001b[1;33m,\u001b[0m \u001b[0mdtype\u001b[0m\u001b[1;33m=\u001b[0m\u001b[0mdtype\u001b[0m\u001b[1;33m,\u001b[0m \u001b[0mout\u001b[0m\u001b[1;33m=\u001b[0m\u001b[0mout\u001b[0m\u001b[1;33m,\u001b[0m \u001b[0mddof\u001b[0m\u001b[1;33m=\u001b[0m\u001b[0mddof\u001b[0m\u001b[1;33m,\u001b[0m \u001b[1;33m**\u001b[0m\u001b[0mkwargs\u001b[0m\u001b[1;33m)\u001b[0m\u001b[1;33m\u001b[0m\u001b[1;33m\u001b[0m\u001b[0m\n\u001b[0;32m   3620\u001b[0m \u001b[1;33m\u001b[0m\u001b[0m\n\u001b[1;32m-> 3621\u001b[1;33m     return _methods._var(a, axis=axis, dtype=dtype, out=out, ddof=ddof,\n\u001b[0m\u001b[0;32m   3622\u001b[0m                          **kwargs)\n\u001b[0;32m   3623\u001b[0m \u001b[1;33m\u001b[0m\u001b[0m\n",
      "\u001b[1;32m~\\anaconda3\\envs\\cytominer\\lib\\site-packages\\numpy\\core\\_methods.py\u001b[0m in \u001b[0;36m_var\u001b[1;34m(a, axis, dtype, out, ddof, keepdims)\u001b[0m\n\u001b[0;32m    192\u001b[0m     \u001b[0marrmean\u001b[0m \u001b[1;33m=\u001b[0m \u001b[0mumr_sum\u001b[0m\u001b[1;33m(\u001b[0m\u001b[0marr\u001b[0m\u001b[1;33m,\u001b[0m \u001b[0maxis\u001b[0m\u001b[1;33m,\u001b[0m \u001b[0mdtype\u001b[0m\u001b[1;33m,\u001b[0m \u001b[0mkeepdims\u001b[0m\u001b[1;33m=\u001b[0m\u001b[1;32mTrue\u001b[0m\u001b[1;33m)\u001b[0m\u001b[1;33m\u001b[0m\u001b[1;33m\u001b[0m\u001b[0m\n\u001b[0;32m    193\u001b[0m     \u001b[1;32mif\u001b[0m \u001b[0misinstance\u001b[0m\u001b[1;33m(\u001b[0m\u001b[0marrmean\u001b[0m\u001b[1;33m,\u001b[0m \u001b[0mmu\u001b[0m\u001b[1;33m.\u001b[0m\u001b[0mndarray\u001b[0m\u001b[1;33m)\u001b[0m\u001b[1;33m:\u001b[0m\u001b[1;33m\u001b[0m\u001b[1;33m\u001b[0m\u001b[0m\n\u001b[1;32m--> 194\u001b[1;33m         arrmean = um.true_divide(\n\u001b[0m\u001b[0;32m    195\u001b[0m                 arrmean, rcount, out=arrmean, casting='unsafe', subok=False)\n\u001b[0;32m    196\u001b[0m     \u001b[1;32melse\u001b[0m\u001b[1;33m:\u001b[0m\u001b[1;33m\u001b[0m\u001b[1;33m\u001b[0m\u001b[0m\n",
      "\u001b[1;31mTypeError\u001b[0m: unsupported operand type(s) for /: 'str' and 'int'"
     ]
    }
   ],
   "source": [
    "ttest_stem = ttest_2_df(stem[stem.index.str.contains('control')], stem[stem.index.str.contains('deletion')])\n",
    "with pd.option_context('display.max_rows', None, 'display.max_columns', None):\n",
    "    display(ttest_stem.sort_values(by='adj_p_value').head(15))"
   ]
  },
  {
   "cell_type": "code",
   "execution_count": null,
   "metadata": {},
   "outputs": [],
   "source": [
    "progenitors_feature_weights = pd.DataFrame(logr2.coef_[0], columns=['weight'], index=progenitors.columns)\n",
    "progenitors_feature_weights.reindex(progenitors_feature_weights['weight'].abs().sort_values(ascending=False).index)"
   ]
  },
  {
   "cell_type": "code",
   "execution_count": null,
   "metadata": {},
   "outputs": [],
   "source": [
    "progenitors_tree_feature_weights = pd.DataFrame(tree2.feature_importances_, columns=['weight'], index=progenitors.columns)\n",
    "with pd.option_context('display.max_rows', None, 'display.max_columns', None):\n",
    "    display(progenitors_tree_feature_weights.sort_values(by='weight', ascending=False).head(13))"
   ]
  },
  {
   "cell_type": "code",
   "execution_count": null,
   "metadata": {},
   "outputs": [],
   "source": [
    "ttest_progenitors = ttest_2_df(progenitors[progenitors.index.str.contains('control')], progenitors[progenitors.index.str.contains('deletion')])\n",
    "with pd.option_context('display.max_rows', None, 'display.max_columns', None):\n",
    "    display(ttest_progenitors.sort_values(by='adj_p_value'))"
   ]
  },
  {
   "cell_type": "markdown",
   "metadata": {},
   "source": [
    "# Feature distribution figures"
   ]
  },
  {
   "cell_type": "code",
   "execution_count": null,
   "metadata": {
    "code_folding": [
     0
    ]
   },
   "outputs": [],
   "source": [
    "# Stem logistic\n",
    "\n",
    "features = ['Cytoplasm_RadialDistribution_FracAtD_Brightfield_1of4',\n",
    " 'Nuclei_Correlation_Correlation_DNA_Brightfield',\n",
    " 'Cytoplasm_RadialDistribution_FracAtD_Brightfield_4of4',\n",
    " 'Cytoplasm_RadialDistribution_MeanFrac_Brightfield_1of4',\n",
    " 'Cytoplasm_Texture_InfoMeas1_AGP_5_00',\n",
    " 'Cytoplasm_Intensity_MADIntensity_ER',\n",
    " 'Nuclei_Granularity_13_AGP',\n",
    " 'Nuclei_AreaShape_Zernike_8_0',\n",
    " 'Cytoplasm_AreaShape_Zernike_3_1',\n",
    " 'Nuclei_RadialDistribution_RadialCV_DNA_1of4',\n",
    " 'Cytoplasm_RadialDistribution_MeanFrac_Brightfield_4of4',\n",
    " 'Cells_Granularity_1_ER',\n",
    " 'Cytoplasm_Texture_InfoMeas1_AGP_10_00',\n",
    " 'Nuclei_Texture_InfoMeas1_DNA_10_01',\n",
    " 'Cells_Correlation_Overlap_ER_AGP']\n",
    "\n",
    "human_ctrl_df = stem[stem.index.str.contains('human_control')]\n",
    "human_del_df = stem[stem.index.str.contains('human_deletion')]\n",
    "\n",
    "fig, axs = plt.subplots(3,5, figsize=(30,18))\n",
    "row = 0\n",
    "col = 0\n",
    "for feature in features:\n",
    "    ctrl_vals = human_ctrl_df[[feature]]\n",
    "    del_vals = human_del_df[[feature]]\n",
    "    \n",
    "    sns.histplot(np.ravel(ctrl_vals), kde=True, ax=axs[row, col], color='blue')\n",
    "    sns.histplot(np.ravel(del_vals), kde=True, ax=axs[row, col], color='red')\n",
    "    axs[row, col].set_title(feature)\n",
    "    if col != 4:\n",
    "        col += 1\n",
    "    else:\n",
    "        row += 1\n",
    "        col = 0\n",
    "        \n",
    "plt.suptitle('Most important features, stem, logistic regression', size=30)\n",
    "plt.legend(handles=[mpatches.Patch(color='red', label='human deletion'), \n",
    "           mpatches.Patch(color='blue', label='human control')])"
   ]
  },
  {
   "cell_type": "code",
   "execution_count": null,
   "metadata": {
    "code_folding": [
     0
    ]
   },
   "outputs": [],
   "source": [
    "# Stem ttest\n",
    "\n",
    "features = ['Cells_Correlation_Overlap_Mito_AGP',\n",
    " 'Cells_RadialDistribution_RadialCV_Mito_1of4',\n",
    " 'Cells_Granularity_2_Mito',\n",
    " 'Cells_Correlation_Overlap_DNA_Mito',\n",
    " 'Cells_Correlation_Overlap_Mito_Brightfield',\n",
    " 'Cells_Granularity_10_RNA',\n",
    " 'Cells_Correlation_Overlap_ER_Brightfield',\n",
    " 'Cells_RadialDistribution_FracAtD_AGP_4of4',\n",
    " 'Cells_Granularity_10_ER',\n",
    " 'Nuclei_Intensity_MassDisplacement_Mito',\n",
    " 'Cytoplasm_Intensity_MADIntensity_ER',\n",
    " 'Cells_RadialDistribution_FracAtD_AGP_1of4',\n",
    " 'Cells_RadialDistribution_MeanFrac_Mito_3of4',\n",
    " 'Cells_Granularity_2_AGP',\n",
    " 'Cells_Correlation_Overlap_AGP_Brightfield']\n",
    "\n",
    "human_ctrl_df = stem[stem.index.str.contains('human_control')]\n",
    "human_del_df = stem[stem.index.str.contains('human_deletion')]\n",
    "\n",
    "fig, axs = plt.subplots(3,5, figsize=(30,18))\n",
    "row = 0\n",
    "col = 0\n",
    "for feature in features:\n",
    "    ctrl_vals = human_ctrl_df[[feature]]\n",
    "    del_vals = human_del_df[[feature]]\n",
    "    \n",
    "    sns.histplot(np.ravel(ctrl_vals), kde=True, ax=axs[row, col], color='blue')\n",
    "    sns.histplot(np.ravel(del_vals), kde=True, ax=axs[row, col], color='red')\n",
    "    axs[row, col].set_title(feature)\n",
    "    if col != 4:\n",
    "        col += 1\n",
    "    else:\n",
    "        row += 1\n",
    "        col = 0\n",
    "        \n",
    "plt.suptitle('Most important features, stem, t-test', size=30)\n",
    "plt.legend(handles=[mpatches.Patch(color='red', label='human deletion'), \n",
    "           mpatches.Patch(color='blue', label='human control')])"
   ]
  },
  {
   "cell_type": "code",
   "execution_count": null,
   "metadata": {
    "code_folding": [
     2
    ]
   },
   "outputs": [],
   "source": [
    "# Stem tree\n",
    "\n",
    "features = ['Cells_Correlation_Overlap_Mito_AGP',\n",
    " 'Cells_RadialDistribution_FracAtD_ER_4of4',\n",
    " 'Cells_Correlation_Overlap_ER_Brightfield',\n",
    " 'Nuclei_Correlation_Correlation_ER_AGP',\n",
    " 'Cells_Intensity_LowerQuartileIntensity_ER',\n",
    " 'Nuclei_Texture_Correlation_ER_10_00',\n",
    " 'Nuclei_Texture_AngularSecondMoment_Brightfield_20_01',\n",
    " 'Cells_Texture_InverseDifferenceMoment_ER_10_00',\n",
    " 'Cells_Texture_SumAverage_ER_10_00',\n",
    " 'Cells_Granularity_4_AGP']\n",
    "\n",
    "human_ctrl_df = stem[stem.index.str.contains('human_control')]\n",
    "human_del_df = stem[stem.index.str.contains('human_deletion')]\n",
    "\n",
    "fig, axs = plt.subplots(2,5, figsize=(30,12))\n",
    "row = 0\n",
    "col = 0\n",
    "for feature in features:\n",
    "    ctrl_vals = human_ctrl_df[[feature]]\n",
    "    del_vals = human_del_df[[feature]]\n",
    "    \n",
    "    sns.histplot(np.ravel(ctrl_vals), kde=True, ax=axs[row, col], color='blue')\n",
    "    sns.histplot(np.ravel(del_vals), kde=True, ax=axs[row, col], color='red')\n",
    "    axs[row, col].set_title(feature)\n",
    "    if col != 4:\n",
    "        col += 1\n",
    "    else:\n",
    "        row += 1\n",
    "        col = 0\n",
    "        \n",
    "plt.suptitle('Most important features, stem, tree', size=30)\n",
    "plt.legend(handles=[mpatches.Patch(color='red', label='human deletion'), \n",
    "           mpatches.Patch(color='blue', label='human control')])"
   ]
  },
  {
   "cell_type": "code",
   "execution_count": null,
   "metadata": {},
   "outputs": [],
   "source": []
  },
  {
   "cell_type": "code",
   "execution_count": null,
   "metadata": {
    "code_folding": [
     2
    ]
   },
   "outputs": [],
   "source": [
    "# Progenitors logistic\n",
    "\n",
    "features = ['Cells_Correlation_Overlap_ER_AGP',\n",
    " 'Nuclei_Correlation_Correlation_Mito_AGP',\n",
    " 'Cytoplasm_RadialDistribution_RadialCV_Brightfield_1of4',\n",
    " 'Nuclei_RadialDistribution_RadialCV_RNA_1of4',\n",
    " 'Nuclei_Correlation_Correlation_DNA_RNA',\n",
    " 'Cells_Correlation_Overlap_Mito_ER',\n",
    " 'Nuclei_Granularity_7_DNA',\n",
    " 'Nuclei_RadialDistribution_RadialCV_DNA_1of4',\n",
    " 'Cytoplasm_RadialDistribution_RadialCV_Brightfield_2of4',\n",
    " 'Cells_Correlation_Overlap_RNA_AGP',\n",
    " 'Cells_Correlation_Correlation_Mito_AGP',\n",
    " 'Nuclei_Granularity_10_DNA',\n",
    " 'Cytoplasm_RadialDistribution_MeanFrac_Brightfield_1of4',\n",
    " 'Nuclei_Intensity_MassDisplacement_DNA',\n",
    " 'Cells_Correlation_Correlation_DNA_RNA']\n",
    "\n",
    "human_ctrl_df = progenitors[progenitors.index.str.contains('human_control')]\n",
    "human_del_df = progenitors[progenitors.index.str.contains('human_deletion')]\n",
    "\n",
    "fig, axs = plt.subplots(3,5, figsize=(30,18))\n",
    "row = 0\n",
    "col = 0\n",
    "for feature in features:\n",
    "    ctrl_vals = human_ctrl_df[[feature]]\n",
    "    del_vals = human_del_df[[feature]]\n",
    "    \n",
    "    sns.histplot(np.ravel(ctrl_vals), kde=True, ax=axs[row, col], color='blue')\n",
    "    sns.histplot(np.ravel(del_vals), kde=True, ax=axs[row, col], color='red')\n",
    "    axs[row, col].set_title(feature)\n",
    "    if col != 4:\n",
    "        col += 1\n",
    "    else:\n",
    "        row += 1\n",
    "        col = 0\n",
    "        \n",
    "plt.suptitle('Most important features, progenitors, logistic regression', size=30)\n",
    "plt.legend(handles=[mpatches.Patch(color='red', label='human deletion'), \n",
    "           mpatches.Patch(color='blue', label='human control')])"
   ]
  },
  {
   "cell_type": "code",
   "execution_count": null,
   "metadata": {
    "code_folding": [
     2
    ]
   },
   "outputs": [],
   "source": [
    "# Progenitors ttest\n",
    "\n",
    "features = ['Cells_RadialDistribution_RadialCV_Brightfield_4of4',\n",
    " 'Cytoplasm_RadialDistribution_RadialCV_Brightfield_2of4',\n",
    " 'Cells_Texture_InfoMeas1_AGP_20_01',\n",
    " 'Nuclei_Correlation_K_RNA_Brightfield',\n",
    " 'Cytoplasm_RadialDistribution_RadialCV_Brightfield_1of4',\n",
    " 'Cells_Texture_Correlation_ER_20_01',\n",
    " 'Cells_RadialDistribution_MeanFrac_Brightfield_3of4',\n",
    " 'Cells_Correlation_Overlap_ER_AGP',\n",
    " 'Cells_RadialDistribution_MeanFrac_Brightfield_4of4',\n",
    " 'Cells_Texture_Correlation_DNA_10_00',\n",
    " 'Cytoplasm_Texture_InfoMeas1_RNA_10_00',\n",
    " 'Nuclei_Correlation_K_Brightfield_RNA',\n",
    " 'Cells_Texture_Correlation_RNA_20_01',\n",
    " 'Cytoplasm_Texture_Correlation_Brightfield_20_03',\n",
    " 'Cells_Correlation_K_RNA_Brightfield']\n",
    "\n",
    "human_ctrl_df = progenitors[progenitors.index.str.contains('human_control')]\n",
    "human_del_df = progenitors[progenitors.index.str.contains('human_deletion')]\n",
    "\n",
    "fig, axs = plt.subplots(3,5, figsize=(30,18))\n",
    "row = 0\n",
    "col = 0\n",
    "for feature in features:\n",
    "    ctrl_vals = human_ctrl_df[[feature]]\n",
    "    del_vals = human_del_df[[feature]]\n",
    "    \n",
    "    sns.histplot(np.ravel(ctrl_vals), kde=True, ax=axs[row, col], color='blue')\n",
    "    sns.histplot(np.ravel(del_vals), kde=True, ax=axs[row, col], color='red')\n",
    "    axs[row, col].set_title(feature)\n",
    "    if col != 4:\n",
    "        col += 1\n",
    "    else:\n",
    "        row += 1\n",
    "        col = 0\n",
    "        \n",
    "plt.suptitle('Most important features, progenitors, t-test', size=30)\n",
    "plt.legend(handles=[mpatches.Patch(color='red', label='human deletion'), \n",
    "           mpatches.Patch(color='blue', label='human control')])"
   ]
  },
  {
   "cell_type": "code",
   "execution_count": null,
   "metadata": {
    "code_folding": [
     2
    ]
   },
   "outputs": [],
   "source": [
    "# Prog tree\n",
    "\n",
    "features = ['Cells_Texture_Correlation_RNA_20_01',\n",
    " 'Cytoplasm_RadialDistribution_MeanFrac_AGP_4of4',\n",
    " 'Nuclei_Correlation_Correlation_ER_AGP',\n",
    " 'Cytoplasm_RadialDistribution_FracAtD_ER_3of4',\n",
    " 'Nuclei_Correlation_K_AGP_DNA',\n",
    " 'Cells_Correlation_Overlap_DNA_ER',\n",
    " 'Cells_RadialDistribution_RadialCV_Mito_1of4',\n",
    " 'Cells_Texture_InfoMeas2_RNA_10_00',\n",
    " 'Cells_AreaShape_Eccentricity',\n",
    " 'Cells_Granularity_7_Brightfield']\n",
    "\n",
    "human_ctrl_df = progenitors[progenitors.index.str.contains('human_control')]\n",
    "human_del_df = progenitors[progenitors.index.str.contains('human_deletion')]\n",
    "\n",
    "fig, axs = plt.subplots(2,5, figsize=(30,12))\n",
    "row = 0\n",
    "col = 0\n",
    "for feature in features:\n",
    "    ctrl_vals = human_ctrl_df[[feature]]\n",
    "    del_vals = human_del_df[[feature]]\n",
    "    \n",
    "    sns.histplot(np.ravel(ctrl_vals), kde=True, ax=axs[row, col], color='blue')\n",
    "    sns.histplot(np.ravel(del_vals), kde=True, ax=axs[row, col], color='red')\n",
    "    axs[row, col].set_title(feature)\n",
    "    if col != 4:\n",
    "        col += 1\n",
    "    else:\n",
    "        row += 1\n",
    "        col = 0\n",
    "        \n",
    "plt.suptitle('Most important features, stem, tree', size=30)\n",
    "plt.legend(handles=[mpatches.Patch(color='red', label='human deletion'), \n",
    "           mpatches.Patch(color='blue', label='human control')])"
   ]
  },
  {
   "cell_type": "code",
   "execution_count": null,
   "metadata": {},
   "outputs": [],
   "source": []
  },
  {
   "cell_type": "markdown",
   "metadata": {},
   "source": [
    "# Feature vs cell count/area"
   ]
  },
  {
   "cell_type": "code",
   "execution_count": null,
   "metadata": {},
   "outputs": [],
   "source": [
    "# Merge stem counts with stem\n",
    "stem_cts = pd.read_csv(base_dir + '/1.run-workflows/profiles/NCP_STEM_1/BR_NCP_STEM_1/BR_NCP_STEM_1_count.csv.gz', index_col=0)\n",
    "stem = stem_orig\n",
    "stem['well'] = stem.index.str.split('_').map(lambda x: x[-1])\n",
    "stem['idx'] = stem.index\n",
    "stem = stem.merge(stem_cts, how='inner', left_on='well', right_on='Metadata_Well').drop(['well', 'Metadata_Well'], axis=1)\n",
    "stem.set_index('idx', inplace=True)"
   ]
  },
  {
   "cell_type": "code",
   "execution_count": null,
   "metadata": {},
   "outputs": [],
   "source": [
    "# Merge progenitors with cell_number_object_number\n",
    "progenitors = progenitors_orig.copy()\n",
    "prog_cts = pd.read_csv(base_dir + '/1.run-workflows/profiles/NCP_PROGENITORS_1/BR_NCP_PROGENITORS_1.csv.gz', index_col=0)\n",
    "prog_cts = prog_cts[['Metadata_Well', 'Cells_Number_Object_Number']]\n",
    "\n",
    "progenitors['well'] = progenitors.index.str.split('_').map(lambda x: x[-1])\n",
    "progenitors['well'] = progenitors.index.str.split('_').map(lambda x: x[-1])\n",
    "progenitors['idx'] = progenitors.index\n",
    "progenitors = progenitors.merge(prog_cts, how='inner', left_on='well', right_on='Metadata_Well').drop(['well', 'Metadata_Well'], axis=1)\n",
    "progenitors.set_index('idx', inplace=True)"
   ]
  },
  {
   "cell_type": "code",
   "execution_count": null,
   "metadata": {
    "code_folding": [
     2
    ]
   },
   "outputs": [],
   "source": [
    "# Stem logistic\n",
    "\n",
    "features = ['Cytoplasm_RadialDistribution_FracAtD_Brightfield_1of4',\n",
    " 'Nuclei_Correlation_Correlation_DNA_Brightfield',\n",
    " 'Cytoplasm_RadialDistribution_FracAtD_Brightfield_4of4',\n",
    " 'Cytoplasm_RadialDistribution_MeanFrac_Brightfield_1of4',\n",
    " 'Cytoplasm_Texture_InfoMeas1_AGP_5_00',\n",
    " 'Cytoplasm_Intensity_MADIntensity_ER',\n",
    " 'Nuclei_Granularity_13_AGP',\n",
    " 'Nuclei_AreaShape_Zernike_8_0',\n",
    " 'Cytoplasm_AreaShape_Zernike_3_1',\n",
    " 'Nuclei_RadialDistribution_RadialCV_DNA_1of4',\n",
    " 'Cytoplasm_RadialDistribution_MeanFrac_Brightfield_4of4',\n",
    " 'Cells_Granularity_1_ER',\n",
    " 'Cytoplasm_Texture_InfoMeas1_AGP_10_00',\n",
    " 'Nuclei_Texture_InfoMeas1_DNA_10_01',\n",
    " 'Cells_Correlation_Overlap_ER_AGP']\n",
    "\n",
    "human_ctrl_df = stem[stem.index.str.contains('human_control')]\n",
    "human_del_df = stem[stem.index.str.contains('human_deletion')]\n",
    "\n",
    "fig, axs = plt.subplots(3,5, figsize=(30,18))\n",
    "row = 0\n",
    "col = 0\n",
    "for feature in features:\n",
    "    axs[row, col].scatter(stem['Count_Cells'], stem[feature])\n",
    "    axs[row, col].set_title(feature)\n",
    "    if col != 4:\n",
    "        col += 1\n",
    "    else:\n",
    "        row += 1\n",
    "        col = 0\n",
    "fig.add_subplot(111, frameon=False)\n",
    "plt.xlabel('Cell Count', size=20)\n",
    "plt.ylabel('Feature', size=20)\n",
    "plt.suptitle('Most important features, stem, logistic regression', size=30)\n"
   ]
  },
  {
   "cell_type": "code",
   "execution_count": null,
   "metadata": {
    "code_folding": [
     2
    ]
   },
   "outputs": [],
   "source": [
    "# Stem t-test\n",
    "\n",
    "features = ['Cells_Correlation_Overlap_Mito_AGP',\n",
    " 'Cells_RadialDistribution_RadialCV_Mito_1of4',\n",
    " 'Cells_Granularity_2_Mito',\n",
    " 'Cells_Correlation_Overlap_DNA_Mito',\n",
    " 'Cells_Correlation_Overlap_Mito_Brightfield',\n",
    " 'Cells_Granularity_10_RNA',\n",
    " 'Cells_Correlation_Overlap_ER_Brightfield',\n",
    " 'Cells_RadialDistribution_FracAtD_AGP_4of4',\n",
    " 'Cells_Granularity_10_ER',\n",
    " 'Nuclei_Intensity_MassDisplacement_Mito',\n",
    " 'Cytoplasm_Intensity_MADIntensity_ER',\n",
    " 'Cells_RadialDistribution_FracAtD_AGP_1of4',\n",
    " 'Cells_RadialDistribution_MeanFrac_Mito_3of4',\n",
    " 'Cells_Granularity_2_AGP',\n",
    " 'Cells_Correlation_Overlap_AGP_Brightfield']\n",
    "\n",
    "human_ctrl_df = stem[stem.index.str.contains('human_control')]\n",
    "human_del_df = stem[stem.index.str.contains('human_deletion')]\n",
    "\n",
    "fig, axs = plt.subplots(3,5, figsize=(30,18))\n",
    "row = 0\n",
    "col = 0\n",
    "for feature in features:\n",
    "    axs[row, col].scatter(stem['Count_Cells'], stem[feature])\n",
    "    axs[row, col].set_title(feature)\n",
    "    if col != 4:\n",
    "        col += 1\n",
    "    else:\n",
    "        row += 1\n",
    "        col = 0\n",
    "fig.add_subplot(111, frameon=False)\n",
    "plt.xlabel('Cell Count', size=20)\n",
    "plt.ylabel('Feature', size=20)\n",
    "plt.suptitle('Most important features, stem, t-test', size=30)"
   ]
  },
  {
   "cell_type": "code",
   "execution_count": null,
   "metadata": {
    "code_folding": [
     2
    ]
   },
   "outputs": [],
   "source": [
    "# Stem logistic\n",
    "\n",
    "features = ['Cytoplasm_RadialDistribution_FracAtD_Brightfield_1of4',\n",
    " 'Nuclei_Correlation_Correlation_DNA_Brightfield',\n",
    " 'Cytoplasm_RadialDistribution_FracAtD_Brightfield_4of4',\n",
    " 'Cytoplasm_RadialDistribution_MeanFrac_Brightfield_1of4',\n",
    " 'Cytoplasm_Texture_InfoMeas1_AGP_5_00',\n",
    " 'Cytoplasm_Intensity_MADIntensity_ER',\n",
    " 'Nuclei_Granularity_13_AGP',\n",
    " 'Nuclei_AreaShape_Zernike_8_0',\n",
    " 'Cytoplasm_AreaShape_Zernike_3_1',\n",
    " 'Nuclei_RadialDistribution_RadialCV_DNA_1of4',\n",
    " 'Cytoplasm_RadialDistribution_MeanFrac_Brightfield_4of4',\n",
    " 'Cells_Granularity_1_ER',\n",
    " 'Cytoplasm_Texture_InfoMeas1_AGP_10_00',\n",
    " 'Nuclei_Texture_InfoMeas1_DNA_10_01',\n",
    " 'Cells_Correlation_Overlap_ER_AGP']\n",
    "\n",
    "human_ctrl_df = stem[stem.index.str.contains('human_control')]\n",
    "human_del_df = stem[stem.index.str.contains('human_deletion')]\n",
    "\n",
    "fig, axs = plt.subplots(3,5, figsize=(30,18))\n",
    "row = 0\n",
    "col = 0\n",
    "for feature in features:\n",
    "    axs[row, col].scatter(stem['Cells_AreaShape_Area'], stem[feature])\n",
    "    axs[row, col].set_title(feature)\n",
    "    if col != 4:\n",
    "        col += 1\n",
    "    else:\n",
    "        row += 1\n",
    "        col = 0\n",
    "fig.add_subplot(111, frameon=False)\n",
    "plt.xlabel('Area', size=20)\n",
    "plt.ylabel('Feature', size=20)\n",
    "plt.suptitle('Most important features, stem, logistic regression', size=30)"
   ]
  },
  {
   "cell_type": "code",
   "execution_count": null,
   "metadata": {
    "code_folding": [
     2
    ]
   },
   "outputs": [],
   "source": [
    "# Stem t-test\n",
    "\n",
    "features = ['Cells_Correlation_Overlap_Mito_AGP',\n",
    " 'Cells_RadialDistribution_RadialCV_Mito_1of4',\n",
    " 'Cells_Granularity_2_Mito',\n",
    " 'Cells_Correlation_Overlap_DNA_Mito',\n",
    " 'Cells_Correlation_Overlap_Mito_Brightfield',\n",
    " 'Cells_Granularity_10_RNA',\n",
    " 'Cells_Correlation_Overlap_ER_Brightfield',\n",
    " 'Cells_RadialDistribution_FracAtD_AGP_4of4',\n",
    " 'Cells_Granularity_10_ER',\n",
    " 'Nuclei_Intensity_MassDisplacement_Mito',\n",
    " 'Cytoplasm_Intensity_MADIntensity_ER',\n",
    " 'Cells_RadialDistribution_FracAtD_AGP_1of4',\n",
    " 'Cells_RadialDistribution_MeanFrac_Mito_3of4',\n",
    " 'Cells_Granularity_2_AGP',\n",
    " 'Cells_Correlation_Overlap_AGP_Brightfield']\n",
    "\n",
    "human_ctrl_df = stem[stem.index.str.contains('human_control')]\n",
    "human_del_df = stem[stem.index.str.contains('human_deletion')]\n",
    "\n",
    "fig, axs = plt.subplots(3,5, figsize=(30,18))\n",
    "row = 0\n",
    "col = 0\n",
    "for feature in features:\n",
    "    axs[row, col].scatter(stem['Cells_AreaShape_Area'], stem[feature])\n",
    "    axs[row, col].set_title(feature)\n",
    "    if col != 4:\n",
    "        col += 1\n",
    "    else:\n",
    "        row += 1\n",
    "        col = 0\n",
    "fig.add_subplot(111, frameon=False)\n",
    "plt.xlabel('Area', size=20)\n",
    "plt.ylabel('Feature', size=20)\n",
    "plt.suptitle('Most important features, stem, t-test', size=30)"
   ]
  },
  {
   "cell_type": "code",
   "execution_count": null,
   "metadata": {
    "code_folding": [
     3
    ]
   },
   "outputs": [],
   "source": [
    "# Prog logistic count\n",
    "\n",
    "features = ['Cells_Correlation_Overlap_ER_AGP',\n",
    " 'Nuclei_Correlation_Correlation_Mito_AGP',\n",
    " 'Cytoplasm_RadialDistribution_RadialCV_Brightfield_1of4',\n",
    " 'Nuclei_RadialDistribution_RadialCV_RNA_1of4',\n",
    " 'Nuclei_Correlation_Correlation_DNA_RNA',\n",
    " 'Cells_Correlation_Overlap_Mito_ER',\n",
    " 'Nuclei_Granularity_7_DNA',\n",
    " 'Nuclei_RadialDistribution_RadialCV_DNA_1of4',\n",
    " 'Cytoplasm_RadialDistribution_RadialCV_Brightfield_2of4',\n",
    " 'Cells_Correlation_Overlap_RNA_AGP',\n",
    " 'Cells_Correlation_Correlation_Mito_AGP',\n",
    " 'Nuclei_Granularity_10_DNA',\n",
    " 'Cytoplasm_RadialDistribution_MeanFrac_Brightfield_1of4',\n",
    " 'Nuclei_Intensity_MassDisplacement_DNA',\n",
    " 'Cells_Correlation_Correlation_DNA_RNA']\n",
    "\n",
    "human_ctrl_df = progenitors[progenitors.index.str.contains('human_control')]\n",
    "human_del_df = progenitors[progenitors.index.str.contains('human_deletion')]\n",
    "\n",
    "fig, axs = plt.subplots(3,5, figsize=(30,18))\n",
    "row = 0\n",
    "col = 0\n",
    "for feature in features:\n",
    "    axs[row, col].scatter(progenitors['Cells_Number_Object_Number'], progenitors[feature])\n",
    "    axs[row, col].set_title(feature)\n",
    "    if col != 4:\n",
    "        col += 1\n",
    "    else:\n",
    "        row += 1\n",
    "        col = 0\n",
    "fig.add_subplot(111, frameon=False)\n",
    "plt.xlabel('Cells_Number_Object_Number', size=20)\n",
    "plt.ylabel('Feature', size=20)\n",
    "plt.suptitle('Most important features, progenitors, logistic regression', size=30)"
   ]
  },
  {
   "cell_type": "code",
   "execution_count": null,
   "metadata": {
    "code_folding": [
     2
    ]
   },
   "outputs": [],
   "source": [
    "# Prog t-test count\n",
    "\n",
    "features = ['Cells_RadialDistribution_RadialCV_Brightfield_4of4',\n",
    " 'Cytoplasm_RadialDistribution_RadialCV_Brightfield_2of4',\n",
    " 'Cells_Texture_InfoMeas1_AGP_20_01',\n",
    " 'Nuclei_Correlation_K_RNA_Brightfield',\n",
    " 'Cytoplasm_RadialDistribution_RadialCV_Brightfield_1of4',\n",
    " 'Cells_Texture_Correlation_ER_20_01',\n",
    " 'Cells_RadialDistribution_MeanFrac_Brightfield_3of4',\n",
    " 'Cells_Correlation_Overlap_ER_AGP',\n",
    " 'Cells_RadialDistribution_MeanFrac_Brightfield_4of4',\n",
    " 'Cells_Texture_Correlation_DNA_10_00',\n",
    " 'Cytoplasm_Texture_InfoMeas1_RNA_10_00',\n",
    " 'Nuclei_Correlation_K_Brightfield_RNA',\n",
    " 'Cells_Texture_Correlation_RNA_20_01',\n",
    " 'Cytoplasm_Texture_Correlation_Brightfield_20_03',\n",
    " 'Cells_Correlation_K_RNA_Brightfield']\n",
    "\n",
    "human_ctrl_df = progenitors[progenitors.index.str.contains('human_control')]\n",
    "human_del_df = progenitors[progenitors.index.str.contains('human_deletion')]\n",
    "\n",
    "fig, axs = plt.subplots(3,5, figsize=(30,18))\n",
    "row = 0\n",
    "col = 0\n",
    "for feature in features:\n",
    "    axs[row, col].scatter(progenitors['Cells_Number_Object_Number'], progenitors[feature])\n",
    "    axs[row, col].set_title(feature)\n",
    "    if col != 4:\n",
    "        col += 1\n",
    "    else:\n",
    "        row += 1\n",
    "        col = 0\n",
    "fig.add_subplot(111, frameon=False)\n",
    "plt.xlabel('Cells_Number_Object_Number', size=20)\n",
    "plt.ylabel('Feature', size=20)\n",
    "plt.suptitle('Most important features, progenitors, t-test', size=30)"
   ]
  },
  {
   "cell_type": "code",
   "execution_count": null,
   "metadata": {},
   "outputs": [],
   "source": []
  },
  {
   "cell_type": "code",
   "execution_count": null,
   "metadata": {
    "code_folding": [
     2
    ]
   },
   "outputs": [],
   "source": [
    "# Prog logistic Area\n",
    "\n",
    "features = ['Cells_Correlation_Overlap_ER_AGP',\n",
    " 'Nuclei_Correlation_Correlation_Mito_AGP',\n",
    " 'Cytoplasm_RadialDistribution_RadialCV_Brightfield_1of4',\n",
    " 'Nuclei_RadialDistribution_RadialCV_RNA_1of4',\n",
    " 'Nuclei_Correlation_Correlation_DNA_RNA',\n",
    " 'Cells_Correlation_Overlap_Mito_ER',\n",
    " 'Nuclei_Granularity_7_DNA',\n",
    " 'Nuclei_RadialDistribution_RadialCV_DNA_1of4',\n",
    " 'Cytoplasm_RadialDistribution_RadialCV_Brightfield_2of4',\n",
    " 'Cells_Correlation_Overlap_RNA_AGP',\n",
    " 'Cells_Correlation_Correlation_Mito_AGP',\n",
    " 'Nuclei_Granularity_10_DNA',\n",
    " 'Cytoplasm_RadialDistribution_MeanFrac_Brightfield_1of4',\n",
    " 'Nuclei_Intensity_MassDisplacement_DNA',\n",
    " 'Cells_Correlation_Correlation_DNA_RNA']\n",
    "\n",
    "human_ctrl_df = progenitors[progenitors.index.str.contains('human_control')]\n",
    "human_del_df = progenitors[progenitors.index.str.contains('human_deletion')]\n",
    "\n",
    "fig, axs = plt.subplots(3,5, figsize=(30,18))\n",
    "row = 0\n",
    "col = 0\n",
    "for feature in features:\n",
    "    axs[row, col].scatter(progenitors['Cells_AreaShape_Area'], progenitors[feature])\n",
    "    axs[row, col].set_title(feature)\n",
    "    if col != 4:\n",
    "        col += 1\n",
    "    else:\n",
    "        row += 1\n",
    "        col = 0\n",
    "fig.add_subplot(111, frameon=False)\n",
    "plt.xlabel('Cells_AreaShape_Area', size=20)\n",
    "plt.ylabel('Feature', size=20)\n",
    "plt.suptitle('Most important features, progenitors, logistic regression', size=30)"
   ]
  },
  {
   "cell_type": "code",
   "execution_count": null,
   "metadata": {
    "code_folding": [
     2
    ]
   },
   "outputs": [],
   "source": [
    "# Prog t-test area\n",
    "\n",
    "features = ['Cells_RadialDistribution_RadialCV_Brightfield_4of4',\n",
    " 'Cytoplasm_RadialDistribution_RadialCV_Brightfield_2of4',\n",
    " 'Cells_Texture_InfoMeas1_AGP_20_01',\n",
    " 'Nuclei_Correlation_K_RNA_Brightfield',\n",
    " 'Cytoplasm_RadialDistribution_RadialCV_Brightfield_1of4',\n",
    " 'Cells_Texture_Correlation_ER_20_01',\n",
    " 'Cells_RadialDistribution_MeanFrac_Brightfield_3of4',\n",
    " 'Cells_Correlation_Overlap_ER_AGP',\n",
    " 'Cells_RadialDistribution_MeanFrac_Brightfield_4of4',\n",
    " 'Cells_Texture_Correlation_DNA_10_00',\n",
    " 'Cytoplasm_Texture_InfoMeas1_RNA_10_00',\n",
    " 'Nuclei_Correlation_K_Brightfield_RNA',\n",
    " 'Cells_Texture_Correlation_RNA_20_01',\n",
    " 'Cytoplasm_Texture_Correlation_Brightfield_20_03',\n",
    " 'Cells_Correlation_K_RNA_Brightfield']\n",
    "\n",
    "human_ctrl_df = progenitors[progenitors.index.str.contains('human_control')]\n",
    "human_del_df = progenitors[progenitors.index.str.contains('human_deletion')]\n",
    "\n",
    "fig, axs = plt.subplots(3,5, figsize=(30,18))\n",
    "row = 0\n",
    "col = 0\n",
    "for feature in features:\n",
    "    axs[row, col].scatter(progenitors['Cells_AreaShape_Area'], progenitors[feature])\n",
    "    axs[row, col].set_title(feature)\n",
    "    if col != 4:\n",
    "        col += 1\n",
    "    else:\n",
    "        row += 1\n",
    "        col = 0\n",
    "fig.add_subplot(111, frameon=False)\n",
    "plt.xlabel('Cells_AreaShape_Area', size=20)\n",
    "plt.ylabel('Feature', size=20)\n",
    "plt.suptitle('Most important features, progenitors, t-test', size=30)"
   ]
  },
  {
   "cell_type": "code",
   "execution_count": null,
   "metadata": {},
   "outputs": [],
   "source": []
  },
  {
   "cell_type": "code",
   "execution_count": null,
   "metadata": {},
   "outputs": [],
   "source": [
    "progenitors[['Cells_AreaShape_Area', 'Cells_Number_Object_Number']].sort_values(by='Cells_AreaShape_Area', ascending=False).head(20)"
   ]
  },
  {
   "cell_type": "code",
   "execution_count": null,
   "metadata": {},
   "outputs": [],
   "source": [
    "progenitors[['Cells_AreaShape_Area', 'Cells_Number_Object_Number']].sort_values(by='Cells_AreaShape_Area', ascending=False).tail(20)"
   ]
  },
  {
   "cell_type": "code",
   "execution_count": null,
   "metadata": {},
   "outputs": [],
   "source": [
    "progenitors[['Cells_AreaShape_Area', 'Cells_Number_Object_Number']].sort_values(by='Cells_Number_Object_Number', ascending=True).head(30)"
   ]
  },
  {
   "cell_type": "code",
   "execution_count": null,
   "metadata": {},
   "outputs": [],
   "source": [
    "sns.displot(progenitors['Cells_Number_Object_Number'])"
   ]
  },
  {
   "cell_type": "code",
   "execution_count": null,
   "metadata": {},
   "outputs": [],
   "source": []
  },
  {
   "cell_type": "code",
   "execution_count": null,
   "metadata": {},
   "outputs": [],
   "source": []
  }
 ],
 "metadata": {
  "kernelspec": {
   "display_name": "Python 3",
   "language": "python",
   "name": "python3"
  },
  "language_info": {
   "codemirror_mode": {
    "name": "ipython",
    "version": 3
   },
   "file_extension": ".py",
   "mimetype": "text/x-python",
   "name": "python",
   "nbconvert_exporter": "python",
   "pygments_lexer": "ipython3",
   "version": "3.8.5"
  }
 },
 "nbformat": 4,
 "nbformat_minor": 4
}
