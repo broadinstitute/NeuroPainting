{
 "cells": [
  {
   "attachments": {},
   "cell_type": "markdown",
   "id": "3c5b386b",
   "metadata": {},
   "source": [
    "#### Yu Han, Sep 2022.\n",
    "\n",
    "We used logistic regression to classify neuron cells with deletion vs. w/o deletion. Feature importance score is printed.\n",
    "\n",
    "Mann-whitney-u-test was adopted to run feature by feature analysis between the deletion group and the control group to find significant features. \n",
    "\n",
    "Four branching features only."
   ]
  },
  {
   "cell_type": "code",
   "execution_count": 1,
   "id": "f1fa89a8",
   "metadata": {
    "execution": {
     "iopub.execute_input": "2023-10-22T15:03:08.421287Z",
     "iopub.status.busy": "2023-10-22T15:03:08.419563Z",
     "iopub.status.idle": "2023-10-22T15:03:10.506303Z",
     "shell.execute_reply": "2023-10-22T15:03:10.507420Z"
    }
   },
   "outputs": [],
   "source": [
    "import os\n",
    "\n",
    "import pandas as pd\n",
    "import numpy as np\n",
    "import matplotlib.pyplot as plt\n",
    "import seaborn as sns\n",
    "import math\n",
    "import statistics\n",
    "import random\n",
    "import scipy.stats as ss\n",
    "\n",
    "from pathlib import Path\n",
    "from sklearn.model_selection import train_test_split\n",
    "from sklearn.linear_model import LogisticRegression\n",
    "from sklearn.model_selection import GroupShuffleSplit\n",
    "\n",
    "import warnings\n",
    "\n",
    "warnings.filterwarnings(\"ignore\")\n",
    "from pycytominer import aggregate"
   ]
  },
  {
   "attachments": {},
   "cell_type": "markdown",
   "id": "e596294d",
   "metadata": {},
   "source": [
    "### logistic regression analysis"
   ]
  },
  {
   "cell_type": "code",
   "execution_count": 2,
   "id": "02bb217b",
   "metadata": {
    "execution": {
     "iopub.execute_input": "2023-10-22T15:03:10.519179Z",
     "iopub.status.busy": "2023-10-22T15:03:10.517552Z",
     "iopub.status.idle": "2023-10-22T15:03:12.835017Z",
     "shell.execute_reply": "2023-10-22T15:03:12.836513Z"
    }
   },
   "outputs": [
    {
     "data": {
      "text/html": [
       "<div>\n",
       "<style scoped>\n",
       "    .dataframe tbody tr th:only-of-type {\n",
       "        vertical-align: middle;\n",
       "    }\n",
       "\n",
       "    .dataframe tbody tr th {\n",
       "        vertical-align: top;\n",
       "    }\n",
       "\n",
       "    .dataframe thead th {\n",
       "        text-align: right;\n",
       "    }\n",
       "</style>\n",
       "<table border=\"1\" class=\"dataframe\">\n",
       "  <thead>\n",
       "    <tr style=\"text-align: right;\">\n",
       "      <th></th>\n",
       "      <th>Metadata_plate_map_name</th>\n",
       "      <th>Metadata_EXPERIMENT_NAME</th>\n",
       "      <th>Metadata_DENSITY</th>\n",
       "      <th>Metadata_LINE_ID</th>\n",
       "      <th>Metadata_GENOTYPE</th>\n",
       "      <th>Metadata_Plate</th>\n",
       "      <th>Metadata_Well</th>\n",
       "      <th>Metadata_Site_Count</th>\n",
       "      <th>Metadata_Object_Count</th>\n",
       "      <th>Cells_AreaShape_Area</th>\n",
       "      <th>...</th>\n",
       "      <th>Nuclei_Texture_Variance_RNA_10_02</th>\n",
       "      <th>Nuclei_Texture_Variance_RNA_10_03</th>\n",
       "      <th>Nuclei_Texture_Variance_RNA_20_00</th>\n",
       "      <th>Nuclei_Texture_Variance_RNA_20_01</th>\n",
       "      <th>Nuclei_Texture_Variance_RNA_20_02</th>\n",
       "      <th>Nuclei_Texture_Variance_RNA_20_03</th>\n",
       "      <th>Nuclei_Texture_Variance_RNA_5_00</th>\n",
       "      <th>Nuclei_Texture_Variance_RNA_5_01</th>\n",
       "      <th>Nuclei_Texture_Variance_RNA_5_02</th>\n",
       "      <th>Nuclei_Texture_Variance_RNA_5_03</th>\n",
       "    </tr>\n",
       "  </thead>\n",
       "  <tbody>\n",
       "    <tr>\n",
       "      <th>0</th>\n",
       "      <td>NCP_2022_03_03_METADATA</td>\n",
       "      <td>2022_03_03_NCP_NEURONS_2</td>\n",
       "      <td>3500</td>\n",
       "      <td>1</td>\n",
       "      <td>DELETION</td>\n",
       "      <td>BR00132672</td>\n",
       "      <td>A01</td>\n",
       "      <td>3</td>\n",
       "      <td>144</td>\n",
       "      <td>-0.65970</td>\n",
       "      <td>...</td>\n",
       "      <td>-0.56724</td>\n",
       "      <td>-0.69918</td>\n",
       "      <td>-0.72463</td>\n",
       "      <td>-0.83127</td>\n",
       "      <td>-0.61628</td>\n",
       "      <td>-0.95575</td>\n",
       "      <td>-0.6134</td>\n",
       "      <td>-0.58717</td>\n",
       "      <td>-0.58301</td>\n",
       "      <td>-0.62436</td>\n",
       "    </tr>\n",
       "    <tr>\n",
       "      <th>1</th>\n",
       "      <td>NCP_2022_03_03_METADATA</td>\n",
       "      <td>2022_03_03_NCP_NEURONS_2</td>\n",
       "      <td>3500</td>\n",
       "      <td>1</td>\n",
       "      <td>DELETION</td>\n",
       "      <td>BR00132672</td>\n",
       "      <td>A02</td>\n",
       "      <td>3</td>\n",
       "      <td>83</td>\n",
       "      <td>-0.49612</td>\n",
       "      <td>...</td>\n",
       "      <td>-1.40100</td>\n",
       "      <td>-1.37960</td>\n",
       "      <td>-1.19280</td>\n",
       "      <td>-1.38600</td>\n",
       "      <td>-1.06860</td>\n",
       "      <td>-0.98057</td>\n",
       "      <td>-1.3489</td>\n",
       "      <td>-1.34090</td>\n",
       "      <td>-1.34890</td>\n",
       "      <td>-1.39680</td>\n",
       "    </tr>\n",
       "  </tbody>\n",
       "</table>\n",
       "<p>2 rows × 4304 columns</p>\n",
       "</div>"
      ],
      "text/plain": [
       "   Metadata_plate_map_name  Metadata_EXPERIMENT_NAME  Metadata_DENSITY  \\\n",
       "0  NCP_2022_03_03_METADATA  2022_03_03_NCP_NEURONS_2              3500   \n",
       "1  NCP_2022_03_03_METADATA  2022_03_03_NCP_NEURONS_2              3500   \n",
       "\n",
       "   Metadata_LINE_ID Metadata_GENOTYPE Metadata_Plate Metadata_Well  \\\n",
       "0                 1          DELETION     BR00132672           A01   \n",
       "1                 1          DELETION     BR00132672           A02   \n",
       "\n",
       "   Metadata_Site_Count  Metadata_Object_Count  Cells_AreaShape_Area  ...  \\\n",
       "0                    3                    144              -0.65970  ...   \n",
       "1                    3                     83              -0.49612  ...   \n",
       "\n",
       "   Nuclei_Texture_Variance_RNA_10_02  Nuclei_Texture_Variance_RNA_10_03  \\\n",
       "0                           -0.56724                           -0.69918   \n",
       "1                           -1.40100                           -1.37960   \n",
       "\n",
       "   Nuclei_Texture_Variance_RNA_20_00  Nuclei_Texture_Variance_RNA_20_01  \\\n",
       "0                           -0.72463                           -0.83127   \n",
       "1                           -1.19280                           -1.38600   \n",
       "\n",
       "   Nuclei_Texture_Variance_RNA_20_02  Nuclei_Texture_Variance_RNA_20_03  \\\n",
       "0                           -0.61628                           -0.95575   \n",
       "1                           -1.06860                           -0.98057   \n",
       "\n",
       "   Nuclei_Texture_Variance_RNA_5_00  Nuclei_Texture_Variance_RNA_5_01  \\\n",
       "0                           -0.6134                          -0.58717   \n",
       "1                           -1.3489                          -1.34090   \n",
       "\n",
       "   Nuclei_Texture_Variance_RNA_5_02  Nuclei_Texture_Variance_RNA_5_03  \n",
       "0                          -0.58301                          -0.62436  \n",
       "1                          -1.34890                          -1.39680  \n",
       "\n",
       "[2 rows x 4304 columns]"
      ]
     },
     "execution_count": 2,
     "metadata": {},
     "output_type": "execute_result"
    }
   ],
   "source": [
    "# read profile data of two plates\n",
    "df_p72 = pd.read_csv(\n",
    "    \"../2019_05_28_Neuronal_Cell_Painting/profiles/2022_03_03_NCP_NEURONS_2_20x/BR00132672/BR00132672_normalized.csv.gz\"\n",
    ")\n",
    "df_p73 = pd.read_csv(\n",
    "    \"../2019_05_28_Neuronal_Cell_Painting/profiles/2022_03_03_NCP_NEURONS_2_20x/BR00132673/BR00132673_normalized.csv.gz\"\n",
    ")\n",
    "df_neuron = pd.concat([df_p72, df_p73])\n",
    "df_neuron.head(2)"
   ]
  },
  {
   "cell_type": "code",
   "execution_count": 3,
   "id": "86357e4b",
   "metadata": {
    "execution": {
     "iopub.execute_input": "2023-10-22T15:03:12.849862Z",
     "iopub.status.busy": "2023-10-22T15:03:12.842674Z",
     "iopub.status.idle": "2023-10-22T15:03:12.883538Z",
     "shell.execute_reply": "2023-10-22T15:03:12.884207Z"
    }
   },
   "outputs": [
    {
     "data": {
      "text/html": [
       "<div>\n",
       "<style scoped>\n",
       "    .dataframe tbody tr th:only-of-type {\n",
       "        vertical-align: middle;\n",
       "    }\n",
       "\n",
       "    .dataframe tbody tr th {\n",
       "        vertical-align: top;\n",
       "    }\n",
       "\n",
       "    .dataframe thead th {\n",
       "        text-align: right;\n",
       "    }\n",
       "</style>\n",
       "<table border=\"1\" class=\"dataframe\">\n",
       "  <thead>\n",
       "    <tr style=\"text-align: right;\">\n",
       "      <th></th>\n",
       "      <th>Metadata_plate_map_name</th>\n",
       "      <th>Metadata_EXPERIMENT_NAME</th>\n",
       "      <th>Metadata_DENSITY</th>\n",
       "      <th>Metadata_LINE_ID</th>\n",
       "      <th>Metadata_GENOTYPE</th>\n",
       "      <th>Metadata_Plate</th>\n",
       "      <th>Metadata_Well</th>\n",
       "      <th>Metadata_Site_Count</th>\n",
       "      <th>Metadata_Object_Count</th>\n",
       "      <th>Nuclei_ObjectSkeleton_NumberBranchEnds_CellImageSkel</th>\n",
       "      <th>Nuclei_ObjectSkeleton_NumberNonTrunkBranches_CellImageSkel</th>\n",
       "      <th>Nuclei_ObjectSkeleton_NumberTrunks_CellImageSkel</th>\n",
       "      <th>Nuclei_ObjectSkeleton_TotalObjectSkeletonLength_CellImageSkel</th>\n",
       "    </tr>\n",
       "  </thead>\n",
       "  <tbody>\n",
       "    <tr>\n",
       "      <th>0</th>\n",
       "      <td>NCP_2022_03_03_METADATA</td>\n",
       "      <td>2022_03_03_NCP_NEURONS_2</td>\n",
       "      <td>3500</td>\n",
       "      <td>1</td>\n",
       "      <td>DELETION</td>\n",
       "      <td>BR00132672</td>\n",
       "      <td>A01</td>\n",
       "      <td>3</td>\n",
       "      <td>144</td>\n",
       "      <td>-0.95647</td>\n",
       "      <td>-0.88478</td>\n",
       "      <td>-0.73272</td>\n",
       "      <td>-0.81801</td>\n",
       "    </tr>\n",
       "    <tr>\n",
       "      <th>1</th>\n",
       "      <td>NCP_2022_03_03_METADATA</td>\n",
       "      <td>2022_03_03_NCP_NEURONS_2</td>\n",
       "      <td>3500</td>\n",
       "      <td>1</td>\n",
       "      <td>DELETION</td>\n",
       "      <td>BR00132672</td>\n",
       "      <td>A02</td>\n",
       "      <td>3</td>\n",
       "      <td>83</td>\n",
       "      <td>-0.64866</td>\n",
       "      <td>-0.46213</td>\n",
       "      <td>-0.02024</td>\n",
       "      <td>-0.61935</td>\n",
       "    </tr>\n",
       "  </tbody>\n",
       "</table>\n",
       "</div>"
      ],
      "text/plain": [
       "   Metadata_plate_map_name  Metadata_EXPERIMENT_NAME  Metadata_DENSITY  \\\n",
       "0  NCP_2022_03_03_METADATA  2022_03_03_NCP_NEURONS_2              3500   \n",
       "1  NCP_2022_03_03_METADATA  2022_03_03_NCP_NEURONS_2              3500   \n",
       "\n",
       "   Metadata_LINE_ID Metadata_GENOTYPE Metadata_Plate Metadata_Well  \\\n",
       "0                 1          DELETION     BR00132672           A01   \n",
       "1                 1          DELETION     BR00132672           A02   \n",
       "\n",
       "   Metadata_Site_Count  Metadata_Object_Count  \\\n",
       "0                    3                    144   \n",
       "1                    3                     83   \n",
       "\n",
       "   Nuclei_ObjectSkeleton_NumberBranchEnds_CellImageSkel  \\\n",
       "0                                           -0.95647      \n",
       "1                                           -0.64866      \n",
       "\n",
       "   Nuclei_ObjectSkeleton_NumberNonTrunkBranches_CellImageSkel  \\\n",
       "0                                           -0.88478            \n",
       "1                                           -0.46213            \n",
       "\n",
       "   Nuclei_ObjectSkeleton_NumberTrunks_CellImageSkel  \\\n",
       "0                                          -0.73272   \n",
       "1                                          -0.02024   \n",
       "\n",
       "   Nuclei_ObjectSkeleton_TotalObjectSkeletonLength_CellImageSkel  \n",
       "0                                           -0.81801              \n",
       "1                                           -0.61935              "
      ]
     },
     "execution_count": 3,
     "metadata": {},
     "output_type": "execute_result"
    }
   ],
   "source": [
    "# extract four branching features\n",
    "df_branch = df_neuron[\n",
    "    df_neuron.columns[\n",
    "        df_neuron.columns.str.contains(\n",
    "            \"Metadata|NumberTrunks|NumberNonTrunkBranches|NumberBranchEnd|TotalObjectSkeletonLength\"\n",
    "        )\n",
    "    ]\n",
    "]\n",
    "df_branch.to_csv(\"profile/neuron_branch_normalized.csv\", index=False)\n",
    "df_branch.head(2)"
   ]
  },
  {
   "cell_type": "code",
   "execution_count": 4,
   "id": "31397422",
   "metadata": {
    "execution": {
     "iopub.execute_input": "2023-10-22T15:03:12.897626Z",
     "iopub.status.busy": "2023-10-22T15:03:12.888592Z",
     "iopub.status.idle": "2023-10-22T15:03:12.901577Z",
     "shell.execute_reply": "2023-10-22T15:03:12.902437Z"
    }
   },
   "outputs": [],
   "source": [
    "# code deletion as 1 and control as 0.\n",
    "df_branch.Metadata_GENOTYPE[df_branch.Metadata_GENOTYPE == \"DELETION\"] = 1\n",
    "df_branch.Metadata_GENOTYPE[df_branch.Metadata_GENOTYPE == \"CONTROL\"] = 0"
   ]
  },
  {
   "cell_type": "code",
   "execution_count": 5,
   "id": "4d53fc0f",
   "metadata": {
    "execution": {
     "iopub.execute_input": "2023-10-22T15:03:12.910940Z",
     "iopub.status.busy": "2023-10-22T15:03:12.909763Z",
     "iopub.status.idle": "2023-10-22T15:03:12.914933Z",
     "shell.execute_reply": "2023-10-22T15:03:12.913836Z"
    }
   },
   "outputs": [],
   "source": [
    "# select all feature columns\n",
    "df_branch_feature = df_branch.loc[:, ~df_branch.columns.str.startswith(\"Metadata\")]"
   ]
  },
  {
   "cell_type": "code",
   "execution_count": 6,
   "id": "adb5bb42",
   "metadata": {
    "execution": {
     "iopub.execute_input": "2023-10-22T15:03:12.929056Z",
     "iopub.status.busy": "2023-10-22T15:03:12.927516Z",
     "iopub.status.idle": "2023-10-22T15:03:12.944528Z",
     "shell.execute_reply": "2023-10-22T15:03:12.946032Z"
    }
   },
   "outputs": [
    {
     "data": {
      "text/plain": [
       "0.5125"
      ]
     },
     "execution_count": 6,
     "metadata": {},
     "output_type": "execute_result"
    }
   ],
   "source": [
    "### logistic regression\n",
    "# define X and y\n",
    "X = df_branch_feature.values\n",
    "y = df_branch[\"Metadata_GENOTYPE\"].tolist()\n",
    "y0 = np.array(y)\n",
    "\n",
    "# split training and testing\n",
    "# using GroupShuffleSplit to ensure the same patient won't appear in train and test set at the same time\n",
    "gss = GroupShuffleSplit(n_splits=2, train_size=0.8, random_state=42)\n",
    "gss.get_n_splits()\n",
    "for train_idx, test_idx in gss.split(X, y0, df_branch[\"Metadata_LINE_ID\"]):\n",
    "    X_train, X_test = X[train_idx], X[test_idx]\n",
    "    y_train, y_test = y0[train_idx], y0[test_idx]\n",
    "\n",
    "# fit the model\n",
    "logisticRegr = LogisticRegression()\n",
    "logisticRegr.fit(X_train, y_train)\n",
    "predictions = logisticRegr.predict(X_test)\n",
    "\n",
    "# print acc score\n",
    "score = logisticRegr.score(X_test, y_test)\n",
    "score"
   ]
  },
  {
   "cell_type": "code",
   "execution_count": 7,
   "id": "cb05b453",
   "metadata": {
    "execution": {
     "iopub.execute_input": "2023-10-22T15:03:12.960093Z",
     "iopub.status.busy": "2023-10-22T15:03:12.954182Z",
     "iopub.status.idle": "2023-10-22T15:03:12.966863Z",
     "shell.execute_reply": "2023-10-22T15:03:12.965749Z"
    }
   },
   "outputs": [
    {
     "data": {
      "text/html": [
       "<div>\n",
       "<style scoped>\n",
       "    .dataframe tbody tr th:only-of-type {\n",
       "        vertical-align: middle;\n",
       "    }\n",
       "\n",
       "    .dataframe tbody tr th {\n",
       "        vertical-align: top;\n",
       "    }\n",
       "\n",
       "    .dataframe thead th {\n",
       "        text-align: right;\n",
       "    }\n",
       "</style>\n",
       "<table border=\"1\" class=\"dataframe\">\n",
       "  <thead>\n",
       "    <tr style=\"text-align: right;\">\n",
       "      <th></th>\n",
       "      <th>weight</th>\n",
       "    </tr>\n",
       "  </thead>\n",
       "  <tbody>\n",
       "    <tr>\n",
       "      <th>Nuclei_ObjectSkeleton_NumberBranchEnds_CellImageSkel</th>\n",
       "      <td>-0.771530</td>\n",
       "    </tr>\n",
       "    <tr>\n",
       "      <th>Nuclei_ObjectSkeleton_NumberNonTrunkBranches_CellImageSkel</th>\n",
       "      <td>0.409082</td>\n",
       "    </tr>\n",
       "    <tr>\n",
       "      <th>Nuclei_ObjectSkeleton_TotalObjectSkeletonLength_CellImageSkel</th>\n",
       "      <td>0.270561</td>\n",
       "    </tr>\n",
       "    <tr>\n",
       "      <th>Nuclei_ObjectSkeleton_NumberTrunks_CellImageSkel</th>\n",
       "      <td>0.247203</td>\n",
       "    </tr>\n",
       "  </tbody>\n",
       "</table>\n",
       "</div>"
      ],
      "text/plain": [
       "                                                      weight\n",
       "Nuclei_ObjectSkeleton_NumberBranchEnds_CellImag... -0.771530\n",
       "Nuclei_ObjectSkeleton_NumberNonTrunkBranches_Ce...  0.409082\n",
       "Nuclei_ObjectSkeleton_TotalObjectSkeletonLength...  0.270561\n",
       "Nuclei_ObjectSkeleton_NumberTrunks_CellImageSkel    0.247203"
      ]
     },
     "execution_count": 7,
     "metadata": {},
     "output_type": "execute_result"
    }
   ],
   "source": [
    "# print feature importance values\n",
    "neuron_feature_weights = pd.DataFrame(\n",
    "    logisticRegr.coef_[0], columns=[\"weight\"], index=df_branch_feature.columns\n",
    ")\n",
    "neuron_feature_weights.reindex(\n",
    "    neuron_feature_weights[\"weight\"].abs().sort_values(ascending=False).index\n",
    ").head(10)"
   ]
  },
  {
   "attachments": {},
   "cell_type": "markdown",
   "id": "67819a4b",
   "metadata": {},
   "source": [
    "### mann-whitney-u-test"
   ]
  },
  {
   "cell_type": "code",
   "execution_count": 8,
   "id": "255ee107",
   "metadata": {
    "execution": {
     "iopub.execute_input": "2023-10-22T15:03:12.984886Z",
     "iopub.status.busy": "2023-10-22T15:03:12.983768Z",
     "iopub.status.idle": "2023-10-22T15:03:13.002333Z",
     "shell.execute_reply": "2023-10-22T15:03:13.003293Z"
    }
   },
   "outputs": [
    {
     "data": {
      "text/html": [
       "<div>\n",
       "<style scoped>\n",
       "    .dataframe tbody tr th:only-of-type {\n",
       "        vertical-align: middle;\n",
       "    }\n",
       "\n",
       "    .dataframe tbody tr th {\n",
       "        vertical-align: top;\n",
       "    }\n",
       "\n",
       "    .dataframe thead th {\n",
       "        text-align: right;\n",
       "    }\n",
       "</style>\n",
       "<table border=\"1\" class=\"dataframe\">\n",
       "  <thead>\n",
       "    <tr style=\"text-align: right;\">\n",
       "      <th></th>\n",
       "      <th>Metadata_LINE_ID</th>\n",
       "      <th>Metadata_GENOTYPE</th>\n",
       "      <th>Nuclei_ObjectSkeleton_NumberBranchEnds_CellImageSkel</th>\n",
       "      <th>Nuclei_ObjectSkeleton_NumberNonTrunkBranches_CellImageSkel</th>\n",
       "      <th>Nuclei_ObjectSkeleton_NumberTrunks_CellImageSkel</th>\n",
       "      <th>Nuclei_ObjectSkeleton_TotalObjectSkeletonLength_CellImageSkel</th>\n",
       "    </tr>\n",
       "  </thead>\n",
       "  <tbody>\n",
       "    <tr>\n",
       "      <th>0</th>\n",
       "      <td>1</td>\n",
       "      <td>1</td>\n",
       "      <td>-0.576519</td>\n",
       "      <td>-0.490640</td>\n",
       "      <td>-0.049856</td>\n",
       "      <td>-0.717221</td>\n",
       "    </tr>\n",
       "    <tr>\n",
       "      <th>1</th>\n",
       "      <td>2</td>\n",
       "      <td>1</td>\n",
       "      <td>0.244571</td>\n",
       "      <td>0.299023</td>\n",
       "      <td>0.392656</td>\n",
       "      <td>0.279753</td>\n",
       "    </tr>\n",
       "  </tbody>\n",
       "</table>\n",
       "</div>"
      ],
      "text/plain": [
       "   Metadata_LINE_ID  Metadata_GENOTYPE  \\\n",
       "0                 1                  1   \n",
       "1                 2                  1   \n",
       "\n",
       "   Nuclei_ObjectSkeleton_NumberBranchEnds_CellImageSkel  \\\n",
       "0                                          -0.576519      \n",
       "1                                           0.244571      \n",
       "\n",
       "   Nuclei_ObjectSkeleton_NumberNonTrunkBranches_CellImageSkel  \\\n",
       "0                                          -0.490640            \n",
       "1                                           0.299023            \n",
       "\n",
       "   Nuclei_ObjectSkeleton_NumberTrunks_CellImageSkel  \\\n",
       "0                                         -0.049856   \n",
       "1                                          0.392656   \n",
       "\n",
       "   Nuclei_ObjectSkeleton_TotalObjectSkeletonLength_CellImageSkel  \n",
       "0                                          -0.717221              \n",
       "1                                           0.279753              "
      ]
     },
     "execution_count": 8,
     "metadata": {},
     "output_type": "execute_result"
    }
   ],
   "source": [
    "# mean profile based on patient ID and genotype\n",
    "df_branch_mean = aggregate(\n",
    "    population_df=df_branch,\n",
    "    strata=[\"Metadata_LINE_ID\", \"Metadata_GENOTYPE\"],\n",
    "    features=\"infer\",\n",
    "    operation=\"mean\",\n",
    ")\n",
    "df_branch_mean.to_csv(\"profile/neuron_feat_branch_mean.csv\", index=False)\n",
    "df_branch_mean.head(2)"
   ]
  },
  {
   "cell_type": "code",
   "execution_count": 9,
   "id": "ebed2fbc",
   "metadata": {
    "execution": {
     "iopub.execute_input": "2023-10-22T15:03:13.014342Z",
     "iopub.status.busy": "2023-10-22T15:03:13.012959Z",
     "iopub.status.idle": "2023-10-22T15:03:13.017086Z",
     "shell.execute_reply": "2023-10-22T15:03:13.018028Z"
    }
   },
   "outputs": [],
   "source": [
    "# select all feature columns\n",
    "df_branch_feature_mean = df_branch_mean.loc[\n",
    "    :, ~df_branch_mean.columns.str.startswith(\"Metadata\")\n",
    "]"
   ]
  },
  {
   "cell_type": "code",
   "execution_count": 10,
   "id": "98a9214b",
   "metadata": {
    "execution": {
     "iopub.execute_input": "2023-10-22T15:03:13.026372Z",
     "iopub.status.busy": "2023-10-22T15:03:13.024776Z",
     "iopub.status.idle": "2023-10-22T15:03:13.028824Z",
     "shell.execute_reply": "2023-10-22T15:03:13.030496Z"
    }
   },
   "outputs": [],
   "source": [
    "# create feature lists\n",
    "feature_list = list(df_branch_feature_mean.columns)"
   ]
  },
  {
   "cell_type": "code",
   "execution_count": 11,
   "id": "46f28c5e",
   "metadata": {
    "execution": {
     "iopub.execute_input": "2023-10-22T15:03:13.041287Z",
     "iopub.status.busy": "2023-10-22T15:03:13.039810Z",
     "iopub.status.idle": "2023-10-22T15:03:13.043955Z",
     "shell.execute_reply": "2023-10-22T15:03:13.045426Z"
    }
   },
   "outputs": [],
   "source": [
    "# create empty dataframe\n",
    "df_p_values_feature = pd.DataFrame(index=[0], columns=feature_list)"
   ]
  },
  {
   "cell_type": "code",
   "execution_count": 12,
   "id": "cb5f905a",
   "metadata": {
    "execution": {
     "iopub.execute_input": "2023-10-22T15:03:13.058010Z",
     "iopub.status.busy": "2023-10-22T15:03:13.056422Z",
     "iopub.status.idle": "2023-10-22T15:03:13.083830Z",
     "shell.execute_reply": "2023-10-22T15:03:13.084896Z"
    }
   },
   "outputs": [],
   "source": [
    "# run mann-whitney-u test\n",
    "list_p = []\n",
    "list_u = []\n",
    "for feat in feature_list:\n",
    "    u, p = ss.mannwhitneyu(\n",
    "        df_branch_mean.query(\"Metadata_GENOTYPE == 1\")[feat],\n",
    "        df_branch_mean.query(\"Metadata_GENOTYPE == 0\")[feat],\n",
    "    )\n",
    "    list_p.append(p)\n",
    "    list_u.append(u)"
   ]
  },
  {
   "cell_type": "code",
   "execution_count": 13,
   "id": "c2818b35",
   "metadata": {
    "execution": {
     "iopub.execute_input": "2023-10-22T15:03:13.101482Z",
     "iopub.status.busy": "2023-10-22T15:03:13.099960Z",
     "iopub.status.idle": "2023-10-22T15:03:13.105851Z",
     "shell.execute_reply": "2023-10-22T15:03:13.107265Z"
    }
   },
   "outputs": [
    {
     "data": {
      "text/html": [
       "<div>\n",
       "<style scoped>\n",
       "    .dataframe tbody tr th:only-of-type {\n",
       "        vertical-align: middle;\n",
       "    }\n",
       "\n",
       "    .dataframe tbody tr th {\n",
       "        vertical-align: top;\n",
       "    }\n",
       "\n",
       "    .dataframe thead th {\n",
       "        text-align: right;\n",
       "    }\n",
       "</style>\n",
       "<table border=\"1\" class=\"dataframe\">\n",
       "  <thead>\n",
       "    <tr style=\"text-align: right;\">\n",
       "      <th></th>\n",
       "      <th>Nuclei_ObjectSkeleton_NumberBranchEnds_CellImageSkel</th>\n",
       "      <th>Nuclei_ObjectSkeleton_NumberNonTrunkBranches_CellImageSkel</th>\n",
       "      <th>Nuclei_ObjectSkeleton_NumberTrunks_CellImageSkel</th>\n",
       "      <th>Nuclei_ObjectSkeleton_TotalObjectSkeletonLength_CellImageSkel</th>\n",
       "    </tr>\n",
       "  </thead>\n",
       "  <tbody>\n",
       "    <tr>\n",
       "      <th>0</th>\n",
       "      <td>0.404975</td>\n",
       "      <td>0.404975</td>\n",
       "      <td>0.388851</td>\n",
       "      <td>0.495829</td>\n",
       "    </tr>\n",
       "  </tbody>\n",
       "</table>\n",
       "</div>"
      ],
      "text/plain": [
       "  Nuclei_ObjectSkeleton_NumberBranchEnds_CellImageSkel  \\\n",
       "0                                           0.404975     \n",
       "\n",
       "  Nuclei_ObjectSkeleton_NumberNonTrunkBranches_CellImageSkel  \\\n",
       "0                                           0.404975           \n",
       "\n",
       "  Nuclei_ObjectSkeleton_NumberTrunks_CellImageSkel  \\\n",
       "0                                         0.388851   \n",
       "\n",
       "  Nuclei_ObjectSkeleton_TotalObjectSkeletonLength_CellImageSkel  \n",
       "0                                           0.495829             "
      ]
     },
     "execution_count": 13,
     "metadata": {},
     "output_type": "execute_result"
    }
   ],
   "source": [
    "# store p value to each feature\n",
    "df_p_values_feature.iloc[0] = list_p\n",
    "df_p_values_feature"
   ]
  },
  {
   "cell_type": "code",
   "execution_count": 14,
   "id": "0a2b2318",
   "metadata": {
    "execution": {
     "iopub.execute_input": "2023-10-22T15:03:13.119684Z",
     "iopub.status.busy": "2023-10-22T15:03:13.118148Z",
     "iopub.status.idle": "2023-10-22T15:03:13.123941Z",
     "shell.execute_reply": "2023-10-22T15:03:13.125445Z"
    }
   },
   "outputs": [
    {
     "data": {
      "text/plain": [
       "Index([], dtype='object')"
      ]
     },
     "execution_count": 14,
     "metadata": {},
     "output_type": "execute_result"
    }
   ],
   "source": [
    "# select features with p value smaller than .05\n",
    "df_p_values_feature = df_p_values_feature.drop(\n",
    "    df_p_values_feature.columns[df_p_values_feature.iloc[-1, :] > 0.05], axis=1\n",
    ")\n",
    "df_p_values_feature.columns"
   ]
  }
 ],
 "metadata": {
  "kernelspec": {
   "display_name": "Python 3",
   "language": "python",
   "name": "python3"
  },
  "language_info": {
   "codemirror_mode": {
    "name": "ipython",
    "version": 3
   },
   "file_extension": ".py",
   "mimetype": "text/x-python",
   "name": "python",
   "nbconvert_exporter": "python",
   "pygments_lexer": "ipython3",
   "version": "3.8.18"
  }
 },
 "nbformat": 4,
 "nbformat_minor": 5
}
