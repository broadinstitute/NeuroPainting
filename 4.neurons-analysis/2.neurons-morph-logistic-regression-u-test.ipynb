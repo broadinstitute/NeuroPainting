{
 "cells": [
  {
   "cell_type": "markdown",
   "id": "3c5b386b",
   "metadata": {},
   "source": [
    "#### Yu Han, August 2022.\n",
    "\n",
    "We used logistic regression to classify neuron cells with deletion vs. w/o deletion. Feature importance score is printed. \n",
    "\n",
    "Mann-whitney-u-test was adopted to run feature by feature analysis between the deletion group and the control group to find significant features. \n",
    "\n",
    "Cell morphology features only."
   ]
  },
  {
   "cell_type": "code",
   "execution_count": 1,
   "id": "f1fa89a8",
   "metadata": {
    "execution": {
     "iopub.execute_input": "2023-10-22T15:03:08.238990Z",
     "iopub.status.busy": "2023-10-22T15:03:08.237363Z",
     "iopub.status.idle": "2023-10-22T15:03:10.608168Z",
     "shell.execute_reply": "2023-10-22T15:03:10.609135Z"
    }
   },
   "outputs": [],
   "source": [
    "import os\n",
    "\n",
    "import pandas as pd\n",
    "import numpy as np\n",
    "import matplotlib.pyplot as plt\n",
    "import matplotlib.patches as mpatches\n",
    "import seaborn as sns\n",
    "import math\n",
    "import statistics\n",
    "import random\n",
    "\n",
    "from scipy.cluster.hierarchy import linkage, dendrogram, fcluster\n",
    "from scipy.stats import ttest_ind\n",
    "from statsmodels.stats.multitest import multipletests\n",
    "from sklearn.feature_selection import VarianceThreshold\n",
    "from sklearn.preprocessing import StandardScaler\n",
    "from sklearn.metrics import adjusted_rand_score, homogeneity_score\n",
    "\n",
    "from collections import Counter\n",
    "from pathlib import Path\n",
    "from sklearn.model_selection import train_test_split\n",
    "from sklearn.linear_model import LogisticRegression\n",
    "from sklearn.model_selection import GroupShuffleSplit\n",
    "\n",
    "from pycytominer import aggregate\n",
    "import scipy.stats as ss\n",
    "\n",
    "import warnings\n",
    "\n",
    "warnings.filterwarnings(\"ignore\")"
   ]
  },
  {
   "cell_type": "markdown",
   "id": "846c7ceb",
   "metadata": {},
   "source": [
    "### logistic regression analysis"
   ]
  },
  {
   "cell_type": "code",
   "execution_count": 2,
   "id": "02bb217b",
   "metadata": {
    "execution": {
     "iopub.execute_input": "2023-10-22T15:03:10.620038Z",
     "iopub.status.busy": "2023-10-22T15:03:10.618151Z",
     "iopub.status.idle": "2023-10-22T15:03:10.899845Z",
     "shell.execute_reply": "2023-10-22T15:03:10.900853Z"
    }
   },
   "outputs": [
    {
     "data": {
      "text/html": [
       "<div>\n",
       "<style scoped>\n",
       "    .dataframe tbody tr th:only-of-type {\n",
       "        vertical-align: middle;\n",
       "    }\n",
       "\n",
       "    .dataframe tbody tr th {\n",
       "        vertical-align: top;\n",
       "    }\n",
       "\n",
       "    .dataframe thead th {\n",
       "        text-align: right;\n",
       "    }\n",
       "</style>\n",
       "<table border=\"1\" class=\"dataframe\">\n",
       "  <thead>\n",
       "    <tr style=\"text-align: right;\">\n",
       "      <th></th>\n",
       "      <th>Metadata_plate_map_name</th>\n",
       "      <th>Metadata_EXPERIMENT_NAME</th>\n",
       "      <th>Metadata_DENSITY</th>\n",
       "      <th>Metadata_LINE_ID</th>\n",
       "      <th>Metadata_GENOTYPE</th>\n",
       "      <th>Metadata_Plate</th>\n",
       "      <th>Metadata_Well</th>\n",
       "      <th>Metadata_Site_Count</th>\n",
       "      <th>Metadata_Object_Count</th>\n",
       "      <th>Cells_AreaShape_Compactness</th>\n",
       "      <th>...</th>\n",
       "      <th>Nuclei_Texture_InverseDifferenceMoment_AGP_20_00</th>\n",
       "      <th>Nuclei_Texture_InverseDifferenceMoment_AGP_5_02</th>\n",
       "      <th>Nuclei_Texture_InverseDifferenceMoment_Brightfield_20_01</th>\n",
       "      <th>Nuclei_Texture_InverseDifferenceMoment_DNA_20_03</th>\n",
       "      <th>Nuclei_Texture_InverseDifferenceMoment_Mito_20_02</th>\n",
       "      <th>Nuclei_Texture_InverseDifferenceMoment_RNA_20_01</th>\n",
       "      <th>Nuclei_Texture_InverseDifferenceMoment_RNA_5_01</th>\n",
       "      <th>Nuclei_Texture_SumAverage_AGP_20_03</th>\n",
       "      <th>Nuclei_Texture_SumAverage_ER_20_02</th>\n",
       "      <th>Nuclei_Texture_SumVariance_Brightfield_20_00</th>\n",
       "    </tr>\n",
       "  </thead>\n",
       "  <tbody>\n",
       "    <tr>\n",
       "      <th>0</th>\n",
       "      <td>NCP_2022_03_03_METADATA</td>\n",
       "      <td>2022_03_03_NCP_NEURONS_2</td>\n",
       "      <td>3500</td>\n",
       "      <td>1</td>\n",
       "      <td>DELETION</td>\n",
       "      <td>BR00132672</td>\n",
       "      <td>A01</td>\n",
       "      <td>3</td>\n",
       "      <td>144</td>\n",
       "      <td>-0.17229</td>\n",
       "      <td>...</td>\n",
       "      <td>-0.065279</td>\n",
       "      <td>1.0098</td>\n",
       "      <td>-1.32230</td>\n",
       "      <td>0.083103</td>\n",
       "      <td>0.41479</td>\n",
       "      <td>0.29334</td>\n",
       "      <td>1.2459</td>\n",
       "      <td>-0.54579</td>\n",
       "      <td>-0.98414</td>\n",
       "      <td>2.7363</td>\n",
       "    </tr>\n",
       "    <tr>\n",
       "      <th>1</th>\n",
       "      <td>NCP_2022_03_03_METADATA</td>\n",
       "      <td>2022_03_03_NCP_NEURONS_2</td>\n",
       "      <td>3500</td>\n",
       "      <td>1</td>\n",
       "      <td>DELETION</td>\n",
       "      <td>BR00132672</td>\n",
       "      <td>A02</td>\n",
       "      <td>3</td>\n",
       "      <td>83</td>\n",
       "      <td>-0.33451</td>\n",
       "      <td>...</td>\n",
       "      <td>0.596690</td>\n",
       "      <td>1.5056</td>\n",
       "      <td>-0.60581</td>\n",
       "      <td>0.862090</td>\n",
       "      <td>0.25006</td>\n",
       "      <td>1.02780</td>\n",
       "      <td>2.3084</td>\n",
       "      <td>-0.82466</td>\n",
       "      <td>-1.75760</td>\n",
       "      <td>-0.3397</td>\n",
       "    </tr>\n",
       "  </tbody>\n",
       "</table>\n",
       "<p>2 rows × 661 columns</p>\n",
       "</div>"
      ],
      "text/plain": [
       "   Metadata_plate_map_name  Metadata_EXPERIMENT_NAME  Metadata_DENSITY  \\\n",
       "0  NCP_2022_03_03_METADATA  2022_03_03_NCP_NEURONS_2              3500   \n",
       "1  NCP_2022_03_03_METADATA  2022_03_03_NCP_NEURONS_2              3500   \n",
       "\n",
       "   Metadata_LINE_ID Metadata_GENOTYPE Metadata_Plate Metadata_Well  \\\n",
       "0                 1          DELETION     BR00132672           A01   \n",
       "1                 1          DELETION     BR00132672           A02   \n",
       "\n",
       "   Metadata_Site_Count  Metadata_Object_Count  Cells_AreaShape_Compactness  \\\n",
       "0                    3                    144                     -0.17229   \n",
       "1                    3                     83                     -0.33451   \n",
       "\n",
       "   ...  Nuclei_Texture_InverseDifferenceMoment_AGP_20_00  \\\n",
       "0  ...                                         -0.065279   \n",
       "1  ...                                          0.596690   \n",
       "\n",
       "   Nuclei_Texture_InverseDifferenceMoment_AGP_5_02  \\\n",
       "0                                           1.0098   \n",
       "1                                           1.5056   \n",
       "\n",
       "   Nuclei_Texture_InverseDifferenceMoment_Brightfield_20_01  \\\n",
       "0                                           -1.32230          \n",
       "1                                           -0.60581          \n",
       "\n",
       "   Nuclei_Texture_InverseDifferenceMoment_DNA_20_03  \\\n",
       "0                                          0.083103   \n",
       "1                                          0.862090   \n",
       "\n",
       "   Nuclei_Texture_InverseDifferenceMoment_Mito_20_02  \\\n",
       "0                                            0.41479   \n",
       "1                                            0.25006   \n",
       "\n",
       "   Nuclei_Texture_InverseDifferenceMoment_RNA_20_01  \\\n",
       "0                                           0.29334   \n",
       "1                                           1.02780   \n",
       "\n",
       "   Nuclei_Texture_InverseDifferenceMoment_RNA_5_01  \\\n",
       "0                                           1.2459   \n",
       "1                                           2.3084   \n",
       "\n",
       "   Nuclei_Texture_SumAverage_AGP_20_03  Nuclei_Texture_SumAverage_ER_20_02  \\\n",
       "0                             -0.54579                            -0.98414   \n",
       "1                             -0.82466                            -1.75760   \n",
       "\n",
       "   Nuclei_Texture_SumVariance_Brightfield_20_00  \n",
       "0                                        2.7363  \n",
       "1                                       -0.3397  \n",
       "\n",
       "[2 rows x 661 columns]"
      ]
     },
     "execution_count": 2,
     "metadata": {},
     "output_type": "execute_result"
    }
   ],
   "source": [
    "# read profile data of two plates\n",
    "df_p72 = pd.read_csv(\n",
    "    \"../2019_05_28_Neuronal_Cell_Painting/profiles/2022_03_03_NCP_NEURONS_2_20x/BR00132672/BR00132672_normalized_feature_select_batch.csv.gz\"\n",
    ")\n",
    "df_p73 = pd.read_csv(\n",
    "    \"../2019_05_28_Neuronal_Cell_Painting/profiles/2022_03_03_NCP_NEURONS_2_20x/BR00132673/BR00132673_normalized_feature_select_batch.csv.gz\"\n",
    ")\n",
    "df_neuron = pd.concat([df_p72, df_p73])\n",
    "df_neuron.head(2)"
   ]
  },
  {
   "cell_type": "code",
   "execution_count": 3,
   "id": "afa6808f",
   "metadata": {
    "execution": {
     "iopub.execute_input": "2023-10-22T15:03:10.910926Z",
     "iopub.status.busy": "2023-10-22T15:03:10.909355Z",
     "iopub.status.idle": "2023-10-22T15:03:10.919943Z",
     "shell.execute_reply": "2023-10-22T15:03:10.920876Z"
    }
   },
   "outputs": [],
   "source": [
    "# code deletion as 1 and control as 0.\n",
    "df_neuron.Metadata_GENOTYPE[df_neuron.Metadata_GENOTYPE == \"DELETION\"] = 1\n",
    "df_neuron.Metadata_GENOTYPE[df_neuron.Metadata_GENOTYPE == \"CONTROL\"] = 0"
   ]
  },
  {
   "cell_type": "code",
   "execution_count": 4,
   "id": "ebed2fbc",
   "metadata": {
    "execution": {
     "iopub.execute_input": "2023-10-22T15:03:10.931863Z",
     "iopub.status.busy": "2023-10-22T15:03:10.928390Z",
     "iopub.status.idle": "2023-10-22T15:03:10.936427Z",
     "shell.execute_reply": "2023-10-22T15:03:10.935645Z"
    }
   },
   "outputs": [],
   "source": [
    "# select all feature columns\n",
    "df_neuron_feature = df_neuron.loc[:, ~df_neuron.columns.str.startswith(\"Metadata\")]"
   ]
  },
  {
   "cell_type": "code",
   "execution_count": 5,
   "id": "bb9e6a0e",
   "metadata": {
    "execution": {
     "iopub.execute_input": "2023-10-22T15:03:10.948480Z",
     "iopub.status.busy": "2023-10-22T15:03:10.946926Z",
     "iopub.status.idle": "2023-10-22T15:03:11.112001Z",
     "shell.execute_reply": "2023-10-22T15:03:11.113049Z"
    }
   },
   "outputs": [
    {
     "data": {
      "text/plain": [
       "0.39375"
      ]
     },
     "execution_count": 5,
     "metadata": {},
     "output_type": "execute_result"
    }
   ],
   "source": [
    "### logistic regression\n",
    "# define X and y\n",
    "X = df_neuron_feature.values\n",
    "y = df_neuron[\"Metadata_GENOTYPE\"].tolist()\n",
    "y0 = np.array(y)\n",
    "\n",
    "# split training and testing\n",
    "# using GroupShuffleSplit to ensure the same patient won't appear in train and test sets at the same time\n",
    "gss = GroupShuffleSplit(n_splits=2, train_size=0.8, random_state=42)\n",
    "gss.get_n_splits()\n",
    "for train_idx, test_idx in gss.split(X, y0, df_neuron[\"Metadata_LINE_ID\"]):\n",
    "    X_train, X_test = X[train_idx], X[test_idx]\n",
    "    y_train, y_test = y0[train_idx], y0[test_idx]\n",
    "\n",
    "# fit the model\n",
    "logisticRegr = LogisticRegression()\n",
    "logisticRegr.fit(X_train, y_train)\n",
    "predictions = logisticRegr.predict(X_test)\n",
    "\n",
    "# print acc score\n",
    "score = logisticRegr.score(X_test, y_test)\n",
    "score"
   ]
  },
  {
   "cell_type": "code",
   "execution_count": 6,
   "id": "14257316",
   "metadata": {
    "execution": {
     "iopub.execute_input": "2023-10-22T15:03:11.123537Z",
     "iopub.status.busy": "2023-10-22T15:03:11.121965Z",
     "iopub.status.idle": "2023-10-22T15:03:11.134823Z",
     "shell.execute_reply": "2023-10-22T15:03:11.136188Z"
    }
   },
   "outputs": [
    {
     "data": {
      "text/html": [
       "<div>\n",
       "<style scoped>\n",
       "    .dataframe tbody tr th:only-of-type {\n",
       "        vertical-align: middle;\n",
       "    }\n",
       "\n",
       "    .dataframe tbody tr th {\n",
       "        vertical-align: top;\n",
       "    }\n",
       "\n",
       "    .dataframe thead th {\n",
       "        text-align: right;\n",
       "    }\n",
       "</style>\n",
       "<table border=\"1\" class=\"dataframe\">\n",
       "  <thead>\n",
       "    <tr style=\"text-align: right;\">\n",
       "      <th></th>\n",
       "      <th>weight</th>\n",
       "    </tr>\n",
       "  </thead>\n",
       "  <tbody>\n",
       "    <tr>\n",
       "      <th>Nuclei_Correlation_Costes_RNA_Brightfield</th>\n",
       "      <td>0.075574</td>\n",
       "    </tr>\n",
       "    <tr>\n",
       "      <th>Cytoplasm_RadialDistribution_RadialCV_Brightfield_3of4</th>\n",
       "      <td>0.053980</td>\n",
       "    </tr>\n",
       "    <tr>\n",
       "      <th>Cytoplasm_RadialDistribution_RadialCV_Brightfield_4of4</th>\n",
       "      <td>0.051640</td>\n",
       "    </tr>\n",
       "    <tr>\n",
       "      <th>Nuclei_Texture_DifferenceEntropy_RNA_10_02</th>\n",
       "      <td>-0.051537</td>\n",
       "    </tr>\n",
       "    <tr>\n",
       "      <th>Nuclei_AreaShape_Zernike_6_4</th>\n",
       "      <td>-0.050620</td>\n",
       "    </tr>\n",
       "    <tr>\n",
       "      <th>Nuclei_Correlation_Costes_Brightfield_Mito</th>\n",
       "      <td>-0.050581</td>\n",
       "    </tr>\n",
       "    <tr>\n",
       "      <th>Nuclei_Correlation_Costes_Mito_ER</th>\n",
       "      <td>0.050152</td>\n",
       "    </tr>\n",
       "    <tr>\n",
       "      <th>Cells_Correlation_Correlation_DNA_ER</th>\n",
       "      <td>-0.049888</td>\n",
       "    </tr>\n",
       "    <tr>\n",
       "      <th>Nuclei_Texture_DifferenceVariance_RNA_5_01</th>\n",
       "      <td>0.049270</td>\n",
       "    </tr>\n",
       "    <tr>\n",
       "      <th>Cells_Granularity_7_Mito</th>\n",
       "      <td>0.049260</td>\n",
       "    </tr>\n",
       "  </tbody>\n",
       "</table>\n",
       "</div>"
      ],
      "text/plain": [
       "                                                      weight\n",
       "Nuclei_Correlation_Costes_RNA_Brightfield           0.075574\n",
       "Cytoplasm_RadialDistribution_RadialCV_Brightfie...  0.053980\n",
       "Cytoplasm_RadialDistribution_RadialCV_Brightfie...  0.051640\n",
       "Nuclei_Texture_DifferenceEntropy_RNA_10_02         -0.051537\n",
       "Nuclei_AreaShape_Zernike_6_4                       -0.050620\n",
       "Nuclei_Correlation_Costes_Brightfield_Mito         -0.050581\n",
       "Nuclei_Correlation_Costes_Mito_ER                   0.050152\n",
       "Cells_Correlation_Correlation_DNA_ER               -0.049888\n",
       "Nuclei_Texture_DifferenceVariance_RNA_5_01          0.049270\n",
       "Cells_Granularity_7_Mito                            0.049260"
      ]
     },
     "execution_count": 6,
     "metadata": {},
     "output_type": "execute_result"
    }
   ],
   "source": [
    "# print feature importance values\n",
    "neuron_feature_weights = pd.DataFrame(\n",
    "    logisticRegr.coef_[0], columns=[\"weight\"], index=df_neuron_feature.columns\n",
    ")\n",
    "neuron_feature_weights.reindex(\n",
    "    neuron_feature_weights[\"weight\"].abs().sort_values(ascending=False).index\n",
    ").head(10)"
   ]
  },
  {
   "cell_type": "markdown",
   "id": "3384cd4f",
   "metadata": {},
   "source": [
    "### mann-whitney-u-test"
   ]
  },
  {
   "cell_type": "code",
   "execution_count": 7,
   "id": "c436eb66",
   "metadata": {
    "execution": {
     "iopub.execute_input": "2023-10-22T15:03:11.157639Z",
     "iopub.status.busy": "2023-10-22T15:03:11.156105Z",
     "iopub.status.idle": "2023-10-22T15:03:11.381226Z",
     "shell.execute_reply": "2023-10-22T15:03:11.382755Z"
    }
   },
   "outputs": [
    {
     "data": {
      "text/html": [
       "<div>\n",
       "<style scoped>\n",
       "    .dataframe tbody tr th:only-of-type {\n",
       "        vertical-align: middle;\n",
       "    }\n",
       "\n",
       "    .dataframe tbody tr th {\n",
       "        vertical-align: top;\n",
       "    }\n",
       "\n",
       "    .dataframe thead th {\n",
       "        text-align: right;\n",
       "    }\n",
       "</style>\n",
       "<table border=\"1\" class=\"dataframe\">\n",
       "  <thead>\n",
       "    <tr style=\"text-align: right;\">\n",
       "      <th></th>\n",
       "      <th>Metadata_LINE_ID</th>\n",
       "      <th>Metadata_GENOTYPE</th>\n",
       "      <th>Cells_AreaShape_Compactness</th>\n",
       "      <th>Cells_AreaShape_MedianRadius</th>\n",
       "      <th>Cells_AreaShape_Zernike_1_1</th>\n",
       "      <th>Cells_AreaShape_Zernike_2_0</th>\n",
       "      <th>Cells_AreaShape_Zernike_2_2</th>\n",
       "      <th>Cells_AreaShape_Zernike_3_1</th>\n",
       "      <th>Cells_AreaShape_Zernike_3_3</th>\n",
       "      <th>Cells_AreaShape_Zernike_4_0</th>\n",
       "      <th>...</th>\n",
       "      <th>Nuclei_Texture_InverseDifferenceMoment_AGP_20_00</th>\n",
       "      <th>Nuclei_Texture_InverseDifferenceMoment_AGP_5_02</th>\n",
       "      <th>Nuclei_Texture_InverseDifferenceMoment_Brightfield_20_01</th>\n",
       "      <th>Nuclei_Texture_InverseDifferenceMoment_DNA_20_03</th>\n",
       "      <th>Nuclei_Texture_InverseDifferenceMoment_Mito_20_02</th>\n",
       "      <th>Nuclei_Texture_InverseDifferenceMoment_RNA_20_01</th>\n",
       "      <th>Nuclei_Texture_InverseDifferenceMoment_RNA_5_01</th>\n",
       "      <th>Nuclei_Texture_SumAverage_AGP_20_03</th>\n",
       "      <th>Nuclei_Texture_SumAverage_ER_20_02</th>\n",
       "      <th>Nuclei_Texture_SumVariance_Brightfield_20_00</th>\n",
       "    </tr>\n",
       "  </thead>\n",
       "  <tbody>\n",
       "    <tr>\n",
       "      <th>0</th>\n",
       "      <td>1</td>\n",
       "      <td>1</td>\n",
       "      <td>0.051249</td>\n",
       "      <td>-0.623481</td>\n",
       "      <td>-0.012366</td>\n",
       "      <td>0.131600</td>\n",
       "      <td>0.390005</td>\n",
       "      <td>-0.640063</td>\n",
       "      <td>0.378335</td>\n",
       "      <td>0.733289</td>\n",
       "      <td>...</td>\n",
       "      <td>0.638041</td>\n",
       "      <td>1.097832</td>\n",
       "      <td>0.079206</td>\n",
       "      <td>0.509392</td>\n",
       "      <td>0.533359</td>\n",
       "      <td>-0.263681</td>\n",
       "      <td>0.341041</td>\n",
       "      <td>-0.751126</td>\n",
       "      <td>-0.444946</td>\n",
       "      <td>-0.485764</td>\n",
       "    </tr>\n",
       "    <tr>\n",
       "      <th>1</th>\n",
       "      <td>2</td>\n",
       "      <td>1</td>\n",
       "      <td>-0.232959</td>\n",
       "      <td>0.745598</td>\n",
       "      <td>-0.024121</td>\n",
       "      <td>0.244952</td>\n",
       "      <td>0.223665</td>\n",
       "      <td>-0.008189</td>\n",
       "      <td>0.085162</td>\n",
       "      <td>0.351442</td>\n",
       "      <td>...</td>\n",
       "      <td>0.287171</td>\n",
       "      <td>0.517993</td>\n",
       "      <td>-0.325573</td>\n",
       "      <td>0.365159</td>\n",
       "      <td>-0.391601</td>\n",
       "      <td>0.754717</td>\n",
       "      <td>1.302866</td>\n",
       "      <td>0.003830</td>\n",
       "      <td>-0.587460</td>\n",
       "      <td>0.822778</td>\n",
       "    </tr>\n",
       "  </tbody>\n",
       "</table>\n",
       "<p>2 rows × 654 columns</p>\n",
       "</div>"
      ],
      "text/plain": [
       "   Metadata_LINE_ID  Metadata_GENOTYPE  Cells_AreaShape_Compactness  \\\n",
       "0                 1                  1                     0.051249   \n",
       "1                 2                  1                    -0.232959   \n",
       "\n",
       "   Cells_AreaShape_MedianRadius  Cells_AreaShape_Zernike_1_1  \\\n",
       "0                     -0.623481                    -0.012366   \n",
       "1                      0.745598                    -0.024121   \n",
       "\n",
       "   Cells_AreaShape_Zernike_2_0  Cells_AreaShape_Zernike_2_2  \\\n",
       "0                     0.131600                     0.390005   \n",
       "1                     0.244952                     0.223665   \n",
       "\n",
       "   Cells_AreaShape_Zernike_3_1  Cells_AreaShape_Zernike_3_3  \\\n",
       "0                    -0.640063                     0.378335   \n",
       "1                    -0.008189                     0.085162   \n",
       "\n",
       "   Cells_AreaShape_Zernike_4_0  ...  \\\n",
       "0                     0.733289  ...   \n",
       "1                     0.351442  ...   \n",
       "\n",
       "   Nuclei_Texture_InverseDifferenceMoment_AGP_20_00  \\\n",
       "0                                          0.638041   \n",
       "1                                          0.287171   \n",
       "\n",
       "   Nuclei_Texture_InverseDifferenceMoment_AGP_5_02  \\\n",
       "0                                         1.097832   \n",
       "1                                         0.517993   \n",
       "\n",
       "   Nuclei_Texture_InverseDifferenceMoment_Brightfield_20_01  \\\n",
       "0                                           0.079206          \n",
       "1                                          -0.325573          \n",
       "\n",
       "   Nuclei_Texture_InverseDifferenceMoment_DNA_20_03  \\\n",
       "0                                          0.509392   \n",
       "1                                          0.365159   \n",
       "\n",
       "   Nuclei_Texture_InverseDifferenceMoment_Mito_20_02  \\\n",
       "0                                           0.533359   \n",
       "1                                          -0.391601   \n",
       "\n",
       "   Nuclei_Texture_InverseDifferenceMoment_RNA_20_01  \\\n",
       "0                                         -0.263681   \n",
       "1                                          0.754717   \n",
       "\n",
       "   Nuclei_Texture_InverseDifferenceMoment_RNA_5_01  \\\n",
       "0                                         0.341041   \n",
       "1                                         1.302866   \n",
       "\n",
       "   Nuclei_Texture_SumAverage_AGP_20_03  Nuclei_Texture_SumAverage_ER_20_02  \\\n",
       "0                            -0.751126                           -0.444946   \n",
       "1                             0.003830                           -0.587460   \n",
       "\n",
       "   Nuclei_Texture_SumVariance_Brightfield_20_00  \n",
       "0                                     -0.485764  \n",
       "1                                      0.822778  \n",
       "\n",
       "[2 rows x 654 columns]"
      ]
     },
     "execution_count": 7,
     "metadata": {},
     "output_type": "execute_result"
    }
   ],
   "source": [
    "# mean profile based on patient ID and genotype\n",
    "df_neuron_mean = aggregate(\n",
    "    population_df=df_neuron,\n",
    "    strata=[\"Metadata_LINE_ID\", \"Metadata_GENOTYPE\"],\n",
    "    features=\"infer\",\n",
    "    operation=\"mean\",\n",
    ")\n",
    "df_neuron_mean.head(2)"
   ]
  },
  {
   "cell_type": "code",
   "execution_count": 8,
   "id": "ec45f988",
   "metadata": {
    "execution": {
     "iopub.execute_input": "2023-10-22T15:03:11.392069Z",
     "iopub.status.busy": "2023-10-22T15:03:11.390708Z",
     "iopub.status.idle": "2023-10-22T15:03:11.396547Z",
     "shell.execute_reply": "2023-10-22T15:03:11.399446Z"
    }
   },
   "outputs": [],
   "source": [
    "# select all feature columns\n",
    "df_neuron_feature_mean = df_neuron_mean.loc[\n",
    "    :, ~df_neuron_mean.columns.str.startswith(\"Metadata\")\n",
    "]"
   ]
  },
  {
   "cell_type": "code",
   "execution_count": 9,
   "id": "121470c9",
   "metadata": {
    "execution": {
     "iopub.execute_input": "2023-10-22T15:03:11.407305Z",
     "iopub.status.busy": "2023-10-22T15:03:11.406022Z",
     "iopub.status.idle": "2023-10-22T15:03:11.409110Z",
     "shell.execute_reply": "2023-10-22T15:03:11.414748Z"
    }
   },
   "outputs": [],
   "source": [
    "# create feature list\n",
    "feature_list = list(df_neuron_feature_mean.columns)"
   ]
  },
  {
   "cell_type": "code",
   "execution_count": 10,
   "id": "a12bb860",
   "metadata": {
    "execution": {
     "iopub.execute_input": "2023-10-22T15:03:11.463427Z",
     "iopub.status.busy": "2023-10-22T15:03:11.462037Z",
     "iopub.status.idle": "2023-10-22T15:03:11.465648Z",
     "shell.execute_reply": "2023-10-22T15:03:11.466870Z"
    }
   },
   "outputs": [],
   "source": [
    "# create empty dataframe\n",
    "df_p_values_feature = pd.DataFrame(index=[0], columns=feature_list)"
   ]
  },
  {
   "cell_type": "code",
   "execution_count": 11,
   "id": "70254eeb",
   "metadata": {
    "execution": {
     "iopub.execute_input": "2023-10-22T15:03:11.523754Z",
     "iopub.status.busy": "2023-10-22T15:03:11.503700Z",
     "iopub.status.idle": "2023-10-22T15:03:34.707872Z",
     "shell.execute_reply": "2023-10-22T15:03:34.708544Z"
    }
   },
   "outputs": [],
   "source": [
    "# run mann-whitney-u test\n",
    "list_p = []\n",
    "list_u = []\n",
    "for feat in feature_list:\n",
    "    u, p = ss.mannwhitneyu(\n",
    "        df_neuron_mean.query(\"Metadata_GENOTYPE == 1\")[feat],\n",
    "        df_neuron_mean.query(\"Metadata_GENOTYPE == 0\")[feat],\n",
    "    )\n",
    "    list_p.append(p)\n",
    "    list_u.append(u)"
   ]
  },
  {
   "cell_type": "code",
   "execution_count": 12,
   "id": "b50533ed",
   "metadata": {
    "execution": {
     "iopub.execute_input": "2023-10-22T15:03:34.731490Z",
     "iopub.status.busy": "2023-10-22T15:03:34.730556Z",
     "iopub.status.idle": "2023-10-22T15:03:34.734119Z",
     "shell.execute_reply": "2023-10-22T15:03:34.734740Z"
    }
   },
   "outputs": [
    {
     "data": {
      "text/html": [
       "<div>\n",
       "<style scoped>\n",
       "    .dataframe tbody tr th:only-of-type {\n",
       "        vertical-align: middle;\n",
       "    }\n",
       "\n",
       "    .dataframe tbody tr th {\n",
       "        vertical-align: top;\n",
       "    }\n",
       "\n",
       "    .dataframe thead th {\n",
       "        text-align: right;\n",
       "    }\n",
       "</style>\n",
       "<table border=\"1\" class=\"dataframe\">\n",
       "  <thead>\n",
       "    <tr style=\"text-align: right;\">\n",
       "      <th></th>\n",
       "      <th>Cells_AreaShape_Compactness</th>\n",
       "      <th>Cells_AreaShape_MedianRadius</th>\n",
       "      <th>Cells_AreaShape_Zernike_1_1</th>\n",
       "      <th>Cells_AreaShape_Zernike_2_0</th>\n",
       "      <th>Cells_AreaShape_Zernike_2_2</th>\n",
       "      <th>Cells_AreaShape_Zernike_3_1</th>\n",
       "      <th>Cells_AreaShape_Zernike_3_3</th>\n",
       "      <th>Cells_AreaShape_Zernike_4_0</th>\n",
       "      <th>Cells_AreaShape_Zernike_4_2</th>\n",
       "      <th>Cells_AreaShape_Zernike_4_4</th>\n",
       "      <th>...</th>\n",
       "      <th>Nuclei_Texture_InverseDifferenceMoment_AGP_20_00</th>\n",
       "      <th>Nuclei_Texture_InverseDifferenceMoment_AGP_5_02</th>\n",
       "      <th>Nuclei_Texture_InverseDifferenceMoment_Brightfield_20_01</th>\n",
       "      <th>Nuclei_Texture_InverseDifferenceMoment_DNA_20_03</th>\n",
       "      <th>Nuclei_Texture_InverseDifferenceMoment_Mito_20_02</th>\n",
       "      <th>Nuclei_Texture_InverseDifferenceMoment_RNA_20_01</th>\n",
       "      <th>Nuclei_Texture_InverseDifferenceMoment_RNA_5_01</th>\n",
       "      <th>Nuclei_Texture_SumAverage_AGP_20_03</th>\n",
       "      <th>Nuclei_Texture_SumAverage_ER_20_02</th>\n",
       "      <th>Nuclei_Texture_SumVariance_Brightfield_20_00</th>\n",
       "    </tr>\n",
       "  </thead>\n",
       "  <tbody>\n",
       "    <tr>\n",
       "      <th>0</th>\n",
       "      <td>0.404975</td>\n",
       "      <td>0.357197</td>\n",
       "      <td>0.421262</td>\n",
       "      <td>0.365028</td>\n",
       "      <td>0.275589</td>\n",
       "      <td>0.198514</td>\n",
       "      <td>0.289731</td>\n",
       "      <td>0.318991</td>\n",
       "      <td>0.21646</td>\n",
       "      <td>0.318991</td>\n",
       "      <td>...</td>\n",
       "      <td>0.365028</td>\n",
       "      <td>0.1067</td>\n",
       "      <td>0.0548238</td>\n",
       "      <td>0.487488</td>\n",
       "      <td>0.0265336</td>\n",
       "      <td>0.421262</td>\n",
       "      <td>0.0168944</td>\n",
       "      <td>0.429458</td>\n",
       "      <td>0.282617</td>\n",
       "      <td>0.341715</td>\n",
       "    </tr>\n",
       "  </tbody>\n",
       "</table>\n",
       "<p>1 rows × 652 columns</p>\n",
       "</div>"
      ],
      "text/plain": [
       "  Cells_AreaShape_Compactness Cells_AreaShape_MedianRadius  \\\n",
       "0                    0.404975                     0.357197   \n",
       "\n",
       "  Cells_AreaShape_Zernike_1_1 Cells_AreaShape_Zernike_2_0  \\\n",
       "0                    0.421262                    0.365028   \n",
       "\n",
       "  Cells_AreaShape_Zernike_2_2 Cells_AreaShape_Zernike_3_1  \\\n",
       "0                    0.275589                    0.198514   \n",
       "\n",
       "  Cells_AreaShape_Zernike_3_3 Cells_AreaShape_Zernike_4_0  \\\n",
       "0                    0.289731                    0.318991   \n",
       "\n",
       "  Cells_AreaShape_Zernike_4_2 Cells_AreaShape_Zernike_4_4  ...  \\\n",
       "0                     0.21646                    0.318991  ...   \n",
       "\n",
       "  Nuclei_Texture_InverseDifferenceMoment_AGP_20_00  \\\n",
       "0                                         0.365028   \n",
       "\n",
       "  Nuclei_Texture_InverseDifferenceMoment_AGP_5_02  \\\n",
       "0                                          0.1067   \n",
       "\n",
       "  Nuclei_Texture_InverseDifferenceMoment_Brightfield_20_01  \\\n",
       "0                                          0.0548238         \n",
       "\n",
       "  Nuclei_Texture_InverseDifferenceMoment_DNA_20_03  \\\n",
       "0                                         0.487488   \n",
       "\n",
       "  Nuclei_Texture_InverseDifferenceMoment_Mito_20_02  \\\n",
       "0                                         0.0265336   \n",
       "\n",
       "  Nuclei_Texture_InverseDifferenceMoment_RNA_20_01  \\\n",
       "0                                         0.421262   \n",
       "\n",
       "  Nuclei_Texture_InverseDifferenceMoment_RNA_5_01  \\\n",
       "0                                       0.0168944   \n",
       "\n",
       "  Nuclei_Texture_SumAverage_AGP_20_03 Nuclei_Texture_SumAverage_ER_20_02  \\\n",
       "0                            0.429458                           0.282617   \n",
       "\n",
       "  Nuclei_Texture_SumVariance_Brightfield_20_00  \n",
       "0                                     0.341715  \n",
       "\n",
       "[1 rows x 652 columns]"
      ]
     },
     "execution_count": 12,
     "metadata": {},
     "output_type": "execute_result"
    }
   ],
   "source": [
    "# store p value to each feature\n",
    "df_p_values_feature.iloc[0] = list_p\n",
    "df_p_values_feature"
   ]
  },
  {
   "cell_type": "code",
   "execution_count": 13,
   "id": "6ffe4bd2",
   "metadata": {
    "execution": {
     "iopub.execute_input": "2023-10-22T15:03:34.739677Z",
     "iopub.status.busy": "2023-10-22T15:03:34.738710Z",
     "iopub.status.idle": "2023-10-22T15:03:34.758463Z",
     "shell.execute_reply": "2023-10-22T15:03:34.757826Z"
    }
   },
   "outputs": [
    {
     "data": {
      "text/plain": [
       "Index(['Cytoplasm_Correlation_K_DNA_Brightfield',\n",
       "       'Cytoplasm_Granularity_2_Mito',\n",
       "       'Cytoplasm_RadialDistribution_FracAtD_Mito_2of4',\n",
       "       'Cytoplasm_RadialDistribution_FracAtD_Mito_3of4',\n",
       "       'Cytoplasm_RadialDistribution_FracAtD_Mito_4of4',\n",
       "       'Cytoplasm_RadialDistribution_RadialCV_Brightfield_3of4',\n",
       "       'Cytoplasm_RadialDistribution_RadialCV_Brightfield_4of4',\n",
       "       'Nuclei_Granularity_7_Mito'],\n",
       "      dtype='object')"
      ]
     },
     "execution_count": 13,
     "metadata": {},
     "output_type": "execute_result"
    }
   ],
   "source": [
    "# select features with significant p values\n",
    "df_p_values_feature_sig = df_p_values_feature.drop(\n",
    "    df_p_values_feature.columns[df_p_values_feature.iloc[-1, :] > 0.005], axis=1\n",
    ")\n",
    "df_p_values_feature_sig.columns"
   ]
  },
  {
   "cell_type": "code",
   "execution_count": null,
   "id": "fada2760",
   "metadata": {},
   "outputs": [],
   "source": []
  }
 ],
 "metadata": {
  "kernelspec": {
   "display_name": "Python 3",
   "language": "python",
   "name": "python3"
  },
  "language_info": {
   "codemirror_mode": {
    "name": "ipython",
    "version": 3
   },
   "file_extension": ".py",
   "mimetype": "text/x-python",
   "name": "python",
   "nbconvert_exporter": "python",
   "pygments_lexer": "ipython3",
   "version": "3.8.18"
  }
 },
 "nbformat": 4,
 "nbformat_minor": 5
}
