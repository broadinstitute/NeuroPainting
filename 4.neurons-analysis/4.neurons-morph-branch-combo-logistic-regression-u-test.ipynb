{
 "cells": [
  {
   "attachments": {},
   "cell_type": "markdown",
   "id": "3c5b386b",
   "metadata": {},
   "source": [
    "#### Yu Han, June 2023.\n",
    "We used logistic regression to classify neuron cells with deletion vs. w/o deletion. Feature importance score is printed. \n",
    "\n",
    "mann-whitney-u-test was adopted to run feature by feature analysis between the deletion group and the control group to find significant features.\n",
    "\n",
    "Combining morph features and branching features."
   ]
  },
  {
   "cell_type": "code",
   "execution_count": 1,
   "id": "f1fa89a8",
   "metadata": {
    "execution": {
     "iopub.execute_input": "2023-10-22T15:03:08.238732Z",
     "iopub.status.busy": "2023-10-22T15:03:08.237032Z",
     "iopub.status.idle": "2023-10-22T15:03:10.526291Z",
     "shell.execute_reply": "2023-10-22T15:03:10.527421Z"
    }
   },
   "outputs": [],
   "source": [
    "import os\n",
    "\n",
    "import pandas as pd\n",
    "import numpy as np\n",
    "import matplotlib.pyplot as plt\n",
    "import seaborn as sns \n",
    "import math\n",
    "import statistics\n",
    "import random\n",
    "import scipy.stats as ss\n",
    "\n",
    "from pathlib import Path\n",
    "from sklearn.model_selection import train_test_split\n",
    "from sklearn.linear_model import LogisticRegression\n",
    "from sklearn.model_selection import GroupShuffleSplit\n",
    "\n",
    "import warnings\n",
    "warnings.filterwarnings(\"ignore\")\n",
    "from pycytominer import aggregate\n",
    "import statsmodels.stats.multitest"
   ]
  },
  {
   "attachments": {},
   "cell_type": "markdown",
   "id": "abf8068b",
   "metadata": {},
   "source": [
    "### logistic regression"
   ]
  },
  {
   "cell_type": "code",
   "execution_count": 2,
   "id": "02bb217b",
   "metadata": {
    "execution": {
     "iopub.execute_input": "2023-10-22T15:03:10.537707Z",
     "iopub.status.busy": "2023-10-22T15:03:10.536153Z",
     "iopub.status.idle": "2023-10-22T15:03:10.831319Z",
     "shell.execute_reply": "2023-10-22T15:03:10.832245Z"
    }
   },
   "outputs": [
    {
     "data": {
      "text/html": [
       "<div>\n",
       "<style scoped>\n",
       "    .dataframe tbody tr th:only-of-type {\n",
       "        vertical-align: middle;\n",
       "    }\n",
       "\n",
       "    .dataframe tbody tr th {\n",
       "        vertical-align: top;\n",
       "    }\n",
       "\n",
       "    .dataframe thead th {\n",
       "        text-align: right;\n",
       "    }\n",
       "</style>\n",
       "<table border=\"1\" class=\"dataframe\">\n",
       "  <thead>\n",
       "    <tr style=\"text-align: right;\">\n",
       "      <th></th>\n",
       "      <th>Metadata_plate_map_name</th>\n",
       "      <th>Metadata_EXPERIMENT_NAME</th>\n",
       "      <th>Metadata_DENSITY</th>\n",
       "      <th>Metadata_LINE_ID</th>\n",
       "      <th>Metadata_GENOTYPE</th>\n",
       "      <th>Metadata_Plate</th>\n",
       "      <th>Metadata_Well</th>\n",
       "      <th>Metadata_Site_Count</th>\n",
       "      <th>Metadata_Object_Count</th>\n",
       "      <th>Cells_AreaShape_Compactness</th>\n",
       "      <th>...</th>\n",
       "      <th>Nuclei_Texture_InverseDifferenceMoment_AGP_20_00</th>\n",
       "      <th>Nuclei_Texture_InverseDifferenceMoment_AGP_5_02</th>\n",
       "      <th>Nuclei_Texture_InverseDifferenceMoment_Brightfield_20_01</th>\n",
       "      <th>Nuclei_Texture_InverseDifferenceMoment_DNA_20_03</th>\n",
       "      <th>Nuclei_Texture_InverseDifferenceMoment_Mito_20_02</th>\n",
       "      <th>Nuclei_Texture_InverseDifferenceMoment_RNA_20_01</th>\n",
       "      <th>Nuclei_Texture_InverseDifferenceMoment_RNA_5_01</th>\n",
       "      <th>Nuclei_Texture_SumAverage_AGP_20_03</th>\n",
       "      <th>Nuclei_Texture_SumAverage_ER_20_02</th>\n",
       "      <th>Nuclei_Texture_SumVariance_Brightfield_20_00</th>\n",
       "    </tr>\n",
       "  </thead>\n",
       "  <tbody>\n",
       "    <tr>\n",
       "      <th>0</th>\n",
       "      <td>NCP_2022_03_03_METADATA</td>\n",
       "      <td>2022_03_03_NCP_NEURONS_2</td>\n",
       "      <td>3500</td>\n",
       "      <td>1</td>\n",
       "      <td>DELETION</td>\n",
       "      <td>BR00132672</td>\n",
       "      <td>A01</td>\n",
       "      <td>3</td>\n",
       "      <td>144</td>\n",
       "      <td>-0.17229</td>\n",
       "      <td>...</td>\n",
       "      <td>-0.065279</td>\n",
       "      <td>1.0098</td>\n",
       "      <td>-1.32230</td>\n",
       "      <td>0.083103</td>\n",
       "      <td>0.41479</td>\n",
       "      <td>0.29334</td>\n",
       "      <td>1.2459</td>\n",
       "      <td>-0.54579</td>\n",
       "      <td>-0.98414</td>\n",
       "      <td>2.7363</td>\n",
       "    </tr>\n",
       "    <tr>\n",
       "      <th>1</th>\n",
       "      <td>NCP_2022_03_03_METADATA</td>\n",
       "      <td>2022_03_03_NCP_NEURONS_2</td>\n",
       "      <td>3500</td>\n",
       "      <td>1</td>\n",
       "      <td>DELETION</td>\n",
       "      <td>BR00132672</td>\n",
       "      <td>A02</td>\n",
       "      <td>3</td>\n",
       "      <td>83</td>\n",
       "      <td>-0.33451</td>\n",
       "      <td>...</td>\n",
       "      <td>0.596690</td>\n",
       "      <td>1.5056</td>\n",
       "      <td>-0.60581</td>\n",
       "      <td>0.862090</td>\n",
       "      <td>0.25006</td>\n",
       "      <td>1.02780</td>\n",
       "      <td>2.3084</td>\n",
       "      <td>-0.82466</td>\n",
       "      <td>-1.75760</td>\n",
       "      <td>-0.3397</td>\n",
       "    </tr>\n",
       "  </tbody>\n",
       "</table>\n",
       "<p>2 rows × 660 columns</p>\n",
       "</div>"
      ],
      "text/plain": [
       "   Metadata_plate_map_name  Metadata_EXPERIMENT_NAME  Metadata_DENSITY  \\\n",
       "0  NCP_2022_03_03_METADATA  2022_03_03_NCP_NEURONS_2              3500   \n",
       "1  NCP_2022_03_03_METADATA  2022_03_03_NCP_NEURONS_2              3500   \n",
       "\n",
       "   Metadata_LINE_ID Metadata_GENOTYPE Metadata_Plate Metadata_Well  \\\n",
       "0                 1          DELETION     BR00132672           A01   \n",
       "1                 1          DELETION     BR00132672           A02   \n",
       "\n",
       "   Metadata_Site_Count  Metadata_Object_Count  Cells_AreaShape_Compactness  \\\n",
       "0                    3                    144                     -0.17229   \n",
       "1                    3                     83                     -0.33451   \n",
       "\n",
       "   ...  Nuclei_Texture_InverseDifferenceMoment_AGP_20_00  \\\n",
       "0  ...                                         -0.065279   \n",
       "1  ...                                          0.596690   \n",
       "\n",
       "   Nuclei_Texture_InverseDifferenceMoment_AGP_5_02  \\\n",
       "0                                           1.0098   \n",
       "1                                           1.5056   \n",
       "\n",
       "   Nuclei_Texture_InverseDifferenceMoment_Brightfield_20_01  \\\n",
       "0                                           -1.32230          \n",
       "1                                           -0.60581          \n",
       "\n",
       "   Nuclei_Texture_InverseDifferenceMoment_DNA_20_03  \\\n",
       "0                                          0.083103   \n",
       "1                                          0.862090   \n",
       "\n",
       "   Nuclei_Texture_InverseDifferenceMoment_Mito_20_02  \\\n",
       "0                                            0.41479   \n",
       "1                                            0.25006   \n",
       "\n",
       "   Nuclei_Texture_InverseDifferenceMoment_RNA_20_01  \\\n",
       "0                                           0.29334   \n",
       "1                                           1.02780   \n",
       "\n",
       "   Nuclei_Texture_InverseDifferenceMoment_RNA_5_01  \\\n",
       "0                                           1.2459   \n",
       "1                                           2.3084   \n",
       "\n",
       "   Nuclei_Texture_SumAverage_AGP_20_03  Nuclei_Texture_SumAverage_ER_20_02  \\\n",
       "0                             -0.54579                            -0.98414   \n",
       "1                             -0.82466                            -1.75760   \n",
       "\n",
       "   Nuclei_Texture_SumVariance_Brightfield_20_00  \n",
       "0                                        2.7363  \n",
       "1                                       -0.3397  \n",
       "\n",
       "[2 rows x 660 columns]"
      ]
     },
     "execution_count": 2,
     "metadata": {},
     "output_type": "execute_result"
    }
   ],
   "source": [
    "#read morph feature profile data of two plates \n",
    "df_p72=pd.read_csv('../2019_05_28_Neuronal_Cell_Painting/profiles/2022_03_03_NCP_NEURONS_2_20x/BR00132672/BR00132672_normalized_feature_select_batch.csv.gz')\n",
    "df_p73=pd.read_csv('../2019_05_28_Neuronal_Cell_Painting/profiles/2022_03_03_NCP_NEURONS_2_20x/BR00132673/BR00132673_normalized_feature_select_batch.csv.gz')\n",
    "df_neuron=pd.concat([df_p72,df_p73])\n",
    "df_neuron=df_neuron.drop(['Nuclei_ObjectSkeleton_NumberTrunks_CellImageSkel'], axis=1)\n",
    "df_neuron.head(2)"
   ]
  },
  {
   "cell_type": "code",
   "execution_count": 3,
   "id": "9d44270d",
   "metadata": {
    "execution": {
     "iopub.execute_input": "2023-10-22T15:03:10.839523Z",
     "iopub.status.busy": "2023-10-22T15:03:10.838126Z",
     "iopub.status.idle": "2023-10-22T15:03:10.848854Z",
     "shell.execute_reply": "2023-10-22T15:03:10.849785Z"
    }
   },
   "outputs": [],
   "source": [
    "#read branch metric profile\n",
    "df_branch=pd.read_csv('profile/neuron_branch_normalized.csv')"
   ]
  },
  {
   "cell_type": "code",
   "execution_count": 4,
   "id": "1dac2944",
   "metadata": {
    "execution": {
     "iopub.execute_input": "2023-10-22T15:03:10.859422Z",
     "iopub.status.busy": "2023-10-22T15:03:10.857850Z",
     "iopub.status.idle": "2023-10-22T15:03:10.913041Z",
     "shell.execute_reply": "2023-10-22T15:03:10.914166Z"
    }
   },
   "outputs": [
    {
     "data": {
      "text/html": [
       "<div>\n",
       "<style scoped>\n",
       "    .dataframe tbody tr th:only-of-type {\n",
       "        vertical-align: middle;\n",
       "    }\n",
       "\n",
       "    .dataframe tbody tr th {\n",
       "        vertical-align: top;\n",
       "    }\n",
       "\n",
       "    .dataframe thead th {\n",
       "        text-align: right;\n",
       "    }\n",
       "</style>\n",
       "<table border=\"1\" class=\"dataframe\">\n",
       "  <thead>\n",
       "    <tr style=\"text-align: right;\">\n",
       "      <th></th>\n",
       "      <th>Metadata_plate_map_name_x</th>\n",
       "      <th>Metadata_EXPERIMENT_NAME_x</th>\n",
       "      <th>Metadata_DENSITY_x</th>\n",
       "      <th>Metadata_LINE_ID_x</th>\n",
       "      <th>Metadata_GENOTYPE_x</th>\n",
       "      <th>Metadata_Plate</th>\n",
       "      <th>Metadata_Well</th>\n",
       "      <th>Metadata_Site_Count_x</th>\n",
       "      <th>Metadata_Object_Count_x</th>\n",
       "      <th>Cells_AreaShape_Compactness</th>\n",
       "      <th>...</th>\n",
       "      <th>Metadata_EXPERIMENT_NAME_y</th>\n",
       "      <th>Metadata_DENSITY_y</th>\n",
       "      <th>Metadata_LINE_ID_y</th>\n",
       "      <th>Metadata_GENOTYPE_y</th>\n",
       "      <th>Metadata_Site_Count_y</th>\n",
       "      <th>Metadata_Object_Count_y</th>\n",
       "      <th>Nuclei_ObjectSkeleton_NumberBranchEnds_CellImageSkel</th>\n",
       "      <th>Nuclei_ObjectSkeleton_NumberNonTrunkBranches_CellImageSkel</th>\n",
       "      <th>Nuclei_ObjectSkeleton_NumberTrunks_CellImageSkel</th>\n",
       "      <th>Nuclei_ObjectSkeleton_TotalObjectSkeletonLength_CellImageSkel</th>\n",
       "    </tr>\n",
       "  </thead>\n",
       "  <tbody>\n",
       "    <tr>\n",
       "      <th>0</th>\n",
       "      <td>NCP_2022_03_03_METADATA</td>\n",
       "      <td>2022_03_03_NCP_NEURONS_2</td>\n",
       "      <td>3500</td>\n",
       "      <td>1</td>\n",
       "      <td>DELETION</td>\n",
       "      <td>BR00132672</td>\n",
       "      <td>A01</td>\n",
       "      <td>3</td>\n",
       "      <td>144</td>\n",
       "      <td>-0.17229</td>\n",
       "      <td>...</td>\n",
       "      <td>2022_03_03_NCP_NEURONS_2</td>\n",
       "      <td>3500</td>\n",
       "      <td>1</td>\n",
       "      <td>DELETION</td>\n",
       "      <td>3</td>\n",
       "      <td>144</td>\n",
       "      <td>-0.95647</td>\n",
       "      <td>-0.88478</td>\n",
       "      <td>-0.73272</td>\n",
       "      <td>-0.81801</td>\n",
       "    </tr>\n",
       "    <tr>\n",
       "      <th>1</th>\n",
       "      <td>NCP_2022_03_03_METADATA</td>\n",
       "      <td>2022_03_03_NCP_NEURONS_2</td>\n",
       "      <td>3500</td>\n",
       "      <td>1</td>\n",
       "      <td>DELETION</td>\n",
       "      <td>BR00132672</td>\n",
       "      <td>A02</td>\n",
       "      <td>3</td>\n",
       "      <td>83</td>\n",
       "      <td>-0.33451</td>\n",
       "      <td>...</td>\n",
       "      <td>2022_03_03_NCP_NEURONS_2</td>\n",
       "      <td>3500</td>\n",
       "      <td>1</td>\n",
       "      <td>DELETION</td>\n",
       "      <td>3</td>\n",
       "      <td>83</td>\n",
       "      <td>-0.64866</td>\n",
       "      <td>-0.46213</td>\n",
       "      <td>-0.02024</td>\n",
       "      <td>-0.61935</td>\n",
       "    </tr>\n",
       "  </tbody>\n",
       "</table>\n",
       "<p>2 rows × 671 columns</p>\n",
       "</div>"
      ],
      "text/plain": [
       "  Metadata_plate_map_name_x Metadata_EXPERIMENT_NAME_x  Metadata_DENSITY_x  \\\n",
       "0   NCP_2022_03_03_METADATA   2022_03_03_NCP_NEURONS_2                3500   \n",
       "1   NCP_2022_03_03_METADATA   2022_03_03_NCP_NEURONS_2                3500   \n",
       "\n",
       "   Metadata_LINE_ID_x Metadata_GENOTYPE_x Metadata_Plate Metadata_Well  \\\n",
       "0                   1            DELETION     BR00132672           A01   \n",
       "1                   1            DELETION     BR00132672           A02   \n",
       "\n",
       "   Metadata_Site_Count_x  Metadata_Object_Count_x  \\\n",
       "0                      3                      144   \n",
       "1                      3                       83   \n",
       "\n",
       "   Cells_AreaShape_Compactness  ...  Metadata_EXPERIMENT_NAME_y  \\\n",
       "0                     -0.17229  ...    2022_03_03_NCP_NEURONS_2   \n",
       "1                     -0.33451  ...    2022_03_03_NCP_NEURONS_2   \n",
       "\n",
       "   Metadata_DENSITY_y  Metadata_LINE_ID_y  Metadata_GENOTYPE_y  \\\n",
       "0                3500                   1             DELETION   \n",
       "1                3500                   1             DELETION   \n",
       "\n",
       "   Metadata_Site_Count_y  Metadata_Object_Count_y  \\\n",
       "0                      3                      144   \n",
       "1                      3                       83   \n",
       "\n",
       "   Nuclei_ObjectSkeleton_NumberBranchEnds_CellImageSkel  \\\n",
       "0                                           -0.95647      \n",
       "1                                           -0.64866      \n",
       "\n",
       "   Nuclei_ObjectSkeleton_NumberNonTrunkBranches_CellImageSkel  \\\n",
       "0                                           -0.88478            \n",
       "1                                           -0.46213            \n",
       "\n",
       "   Nuclei_ObjectSkeleton_NumberTrunks_CellImageSkel  \\\n",
       "0                                          -0.73272   \n",
       "1                                          -0.02024   \n",
       "\n",
       "   Nuclei_ObjectSkeleton_TotalObjectSkeletonLength_CellImageSkel  \n",
       "0                                           -0.81801              \n",
       "1                                           -0.61935              \n",
       "\n",
       "[2 rows x 671 columns]"
      ]
     },
     "execution_count": 4,
     "metadata": {},
     "output_type": "execute_result"
    }
   ],
   "source": [
    "#merge morph and branch profile\n",
    "df_merge=pd.merge(df_neuron, df_branch, on =[\"Metadata_Plate\",'Metadata_Well'])\n",
    "#remove 23, 24, 25, 26 from Metadata_LINE_ID\n",
    "#remove isogenic cell lines\n",
    "df_merge=df_merge[~df_merge.Metadata_LINE_ID_x.isin([23,24,25,26])]\n",
    "df_merge.head(2)"
   ]
  },
  {
   "cell_type": "code",
   "execution_count": 5,
   "id": "3ce9ab87",
   "metadata": {
    "execution": {
     "iopub.execute_input": "2023-10-22T15:03:10.921993Z",
     "iopub.status.busy": "2023-10-22T15:03:10.920616Z",
     "iopub.status.idle": "2023-10-22T15:03:11.895168Z",
     "shell.execute_reply": "2023-10-22T15:03:11.896030Z"
    }
   },
   "outputs": [],
   "source": [
    "#save df_merge as csv\n",
    "df_merge.to_csv('profile/neuron_morph_branch_merge.csv', index=False)"
   ]
  },
  {
   "cell_type": "code",
   "execution_count": 6,
   "id": "dd71e0ba",
   "metadata": {
    "execution": {
     "iopub.execute_input": "2023-10-22T15:03:11.910502Z",
     "iopub.status.busy": "2023-10-22T15:03:11.909258Z",
     "iopub.status.idle": "2023-10-22T15:03:11.913180Z",
     "shell.execute_reply": "2023-10-22T15:03:11.914489Z"
    }
   },
   "outputs": [],
   "source": [
    "#code deletion as 1 and control as 0. \n",
    "df_merge.Metadata_GENOTYPE_x[df_merge.Metadata_GENOTYPE_x == 'DELETION'] = 1\n",
    "df_merge.Metadata_GENOTYPE_x[df_merge.Metadata_GENOTYPE_x == 'CONTROL'] = 0"
   ]
  },
  {
   "cell_type": "code",
   "execution_count": 7,
   "id": "de408a8c",
   "metadata": {
    "execution": {
     "iopub.execute_input": "2023-10-22T15:03:11.926459Z",
     "iopub.status.busy": "2023-10-22T15:03:11.922700Z",
     "iopub.status.idle": "2023-10-22T15:03:11.931538Z",
     "shell.execute_reply": "2023-10-22T15:03:11.932711Z"
    }
   },
   "outputs": [],
   "source": [
    "#select all feature columns\n",
    "df_merge_feature=df_merge.loc[:,~df_merge.columns.str.startswith('Metadata')]"
   ]
  },
  {
   "cell_type": "code",
   "execution_count": 8,
   "id": "a9ad575c",
   "metadata": {
    "execution": {
     "iopub.execute_input": "2023-10-22T15:03:11.943517Z",
     "iopub.status.busy": "2023-10-22T15:03:11.942254Z",
     "iopub.status.idle": "2023-10-22T15:03:12.067167Z",
     "shell.execute_reply": "2023-10-22T15:03:12.068167Z"
    }
   },
   "outputs": [
    {
     "data": {
      "text/plain": [
       "0.7777777777777778"
      ]
     },
     "execution_count": 8,
     "metadata": {},
     "output_type": "execute_result"
    }
   ],
   "source": [
    "### logistic regression \n",
    "#define X and y\n",
    "X=df_merge_feature.values\n",
    "y=df_merge['Metadata_GENOTYPE_x'].tolist()\n",
    "y0=np.array(y)\n",
    "\n",
    "#split training and testing \n",
    "#using GroupShuffleSplit to ensure the same patient won't appear in train and test set at the same time\n",
    "gss = GroupShuffleSplit(n_splits=2, train_size=.8, random_state=42)\n",
    "gss.get_n_splits()\n",
    "for train_idx, test_idx in gss.split(X, y0, df_merge['Metadata_LINE_ID_x']):\n",
    "    X_train, X_test = X[train_idx], X[test_idx]\n",
    "    y_train, y_test = y0[train_idx], y0[test_idx]\n",
    "\n",
    "#fit the model\n",
    "logisticRegr = LogisticRegression()\n",
    "logisticRegr.fit(X_train, y_train)\n",
    "predictions = logisticRegr.predict(X_test)\n",
    "\n",
    "#print acc score\n",
    "score = logisticRegr.score(X_test, y_test)\n",
    "score"
   ]
  },
  {
   "cell_type": "code",
   "execution_count": 9,
   "id": "aa0eb480",
   "metadata": {
    "execution": {
     "iopub.execute_input": "2023-10-22T15:03:12.078314Z",
     "iopub.status.busy": "2023-10-22T15:03:12.076785Z",
     "iopub.status.idle": "2023-10-22T15:03:12.089368Z",
     "shell.execute_reply": "2023-10-22T15:03:12.090406Z"
    }
   },
   "outputs": [
    {
     "data": {
      "text/html": [
       "<div>\n",
       "<style scoped>\n",
       "    .dataframe tbody tr th:only-of-type {\n",
       "        vertical-align: middle;\n",
       "    }\n",
       "\n",
       "    .dataframe tbody tr th {\n",
       "        vertical-align: top;\n",
       "    }\n",
       "\n",
       "    .dataframe thead th {\n",
       "        text-align: right;\n",
       "    }\n",
       "</style>\n",
       "<table border=\"1\" class=\"dataframe\">\n",
       "  <thead>\n",
       "    <tr style=\"text-align: right;\">\n",
       "      <th></th>\n",
       "      <th>weight</th>\n",
       "    </tr>\n",
       "  </thead>\n",
       "  <tbody>\n",
       "    <tr>\n",
       "      <th>Nuclei_Correlation_Correlation_RNA_AGP</th>\n",
       "      <td>0.147156</td>\n",
       "    </tr>\n",
       "    <tr>\n",
       "      <th>Nuclei_Correlation_Correlation_ER_AGP</th>\n",
       "      <td>0.124252</td>\n",
       "    </tr>\n",
       "    <tr>\n",
       "      <th>Nuclei_RadialDistribution_FracAtD_Brightfield_3of4</th>\n",
       "      <td>0.122482</td>\n",
       "    </tr>\n",
       "    <tr>\n",
       "      <th>Nuclei_AreaShape_Zernike_6_4</th>\n",
       "      <td>-0.121856</td>\n",
       "    </tr>\n",
       "    <tr>\n",
       "      <th>Cytoplasm_Intensity_MassDisplacement_Brightfield</th>\n",
       "      <td>0.119314</td>\n",
       "    </tr>\n",
       "    <tr>\n",
       "      <th>Nuclei_Texture_Contrast_ER_20_02</th>\n",
       "      <td>-0.115858</td>\n",
       "    </tr>\n",
       "    <tr>\n",
       "      <th>Cytoplasm_Correlation_K_DNA_AGP</th>\n",
       "      <td>-0.108255</td>\n",
       "    </tr>\n",
       "    <tr>\n",
       "      <th>Nuclei_Texture_AngularSecondMoment_Brightfield_20_01</th>\n",
       "      <td>-0.104403</td>\n",
       "    </tr>\n",
       "    <tr>\n",
       "      <th>Cytoplasm_Texture_Contrast_Brightfield_10_02</th>\n",
       "      <td>-0.099547</td>\n",
       "    </tr>\n",
       "    <tr>\n",
       "      <th>Cytoplasm_Granularity_2_Mito</th>\n",
       "      <td>0.099218</td>\n",
       "    </tr>\n",
       "  </tbody>\n",
       "</table>\n",
       "</div>"
      ],
      "text/plain": [
       "                                                      weight\n",
       "Nuclei_Correlation_Correlation_RNA_AGP              0.147156\n",
       "Nuclei_Correlation_Correlation_ER_AGP               0.124252\n",
       "Nuclei_RadialDistribution_FracAtD_Brightfield_3of4  0.122482\n",
       "Nuclei_AreaShape_Zernike_6_4                       -0.121856\n",
       "Cytoplasm_Intensity_MassDisplacement_Brightfield    0.119314\n",
       "Nuclei_Texture_Contrast_ER_20_02                   -0.115858\n",
       "Cytoplasm_Correlation_K_DNA_AGP                    -0.108255\n",
       "Nuclei_Texture_AngularSecondMoment_Brightfield_... -0.104403\n",
       "Cytoplasm_Texture_Contrast_Brightfield_10_02       -0.099547\n",
       "Cytoplasm_Granularity_2_Mito                        0.099218"
      ]
     },
     "execution_count": 9,
     "metadata": {},
     "output_type": "execute_result"
    }
   ],
   "source": [
    "#print feature importance values\n",
    "neuron_feature_weights = pd.DataFrame(logisticRegr.coef_[0], columns=['weight'], index=df_merge_feature.columns)\n",
    "neuron_feature_weights.reindex(neuron_feature_weights['weight'].abs().sort_values(ascending=False).index).head(10)"
   ]
  },
  {
   "attachments": {},
   "cell_type": "markdown",
   "id": "bf6bd4fd",
   "metadata": {},
   "source": [
    "### mann-whitney-u-test"
   ]
  },
  {
   "cell_type": "code",
   "execution_count": 10,
   "id": "255ee107",
   "metadata": {
    "execution": {
     "iopub.execute_input": "2023-10-22T15:03:12.227940Z",
     "iopub.status.busy": "2023-10-22T15:03:12.125472Z",
     "iopub.status.idle": "2023-10-22T15:03:12.330000Z",
     "shell.execute_reply": "2023-10-22T15:03:12.331003Z"
    }
   },
   "outputs": [
    {
     "data": {
      "text/html": [
       "<div>\n",
       "<style scoped>\n",
       "    .dataframe tbody tr th:only-of-type {\n",
       "        vertical-align: middle;\n",
       "    }\n",
       "\n",
       "    .dataframe tbody tr th {\n",
       "        vertical-align: top;\n",
       "    }\n",
       "\n",
       "    .dataframe thead th {\n",
       "        text-align: right;\n",
       "    }\n",
       "</style>\n",
       "<table border=\"1\" class=\"dataframe\">\n",
       "  <thead>\n",
       "    <tr style=\"text-align: right;\">\n",
       "      <th></th>\n",
       "      <th>Metadata_LINE_ID_x</th>\n",
       "      <th>Metadata_GENOTYPE_x</th>\n",
       "      <th>Cells_AreaShape_Compactness</th>\n",
       "      <th>Cells_AreaShape_MedianRadius</th>\n",
       "      <th>Cells_AreaShape_Zernike_1_1</th>\n",
       "      <th>Cells_AreaShape_Zernike_2_0</th>\n",
       "      <th>Cells_AreaShape_Zernike_2_2</th>\n",
       "      <th>Cells_AreaShape_Zernike_3_1</th>\n",
       "      <th>Cells_AreaShape_Zernike_3_3</th>\n",
       "      <th>Cells_AreaShape_Zernike_4_0</th>\n",
       "      <th>...</th>\n",
       "      <th>Nuclei_Texture_InverseDifferenceMoment_Mito_20_02</th>\n",
       "      <th>Nuclei_Texture_InverseDifferenceMoment_RNA_20_01</th>\n",
       "      <th>Nuclei_Texture_InverseDifferenceMoment_RNA_5_01</th>\n",
       "      <th>Nuclei_Texture_SumAverage_AGP_20_03</th>\n",
       "      <th>Nuclei_Texture_SumAverage_ER_20_02</th>\n",
       "      <th>Nuclei_Texture_SumVariance_Brightfield_20_00</th>\n",
       "      <th>Nuclei_ObjectSkeleton_NumberBranchEnds_CellImageSkel</th>\n",
       "      <th>Nuclei_ObjectSkeleton_NumberNonTrunkBranches_CellImageSkel</th>\n",
       "      <th>Nuclei_ObjectSkeleton_NumberTrunks_CellImageSkel</th>\n",
       "      <th>Nuclei_ObjectSkeleton_TotalObjectSkeletonLength_CellImageSkel</th>\n",
       "    </tr>\n",
       "  </thead>\n",
       "  <tbody>\n",
       "    <tr>\n",
       "      <th>0</th>\n",
       "      <td>1</td>\n",
       "      <td>1</td>\n",
       "      <td>0.051249</td>\n",
       "      <td>-0.623481</td>\n",
       "      <td>-0.012366</td>\n",
       "      <td>0.131600</td>\n",
       "      <td>0.390005</td>\n",
       "      <td>-0.640063</td>\n",
       "      <td>0.378335</td>\n",
       "      <td>0.733289</td>\n",
       "      <td>...</td>\n",
       "      <td>0.533359</td>\n",
       "      <td>-0.263681</td>\n",
       "      <td>0.341041</td>\n",
       "      <td>-0.751126</td>\n",
       "      <td>-0.444946</td>\n",
       "      <td>-0.485764</td>\n",
       "      <td>-0.576519</td>\n",
       "      <td>-0.490640</td>\n",
       "      <td>-0.049856</td>\n",
       "      <td>-0.717221</td>\n",
       "    </tr>\n",
       "    <tr>\n",
       "      <th>1</th>\n",
       "      <td>2</td>\n",
       "      <td>1</td>\n",
       "      <td>-0.232959</td>\n",
       "      <td>0.745598</td>\n",
       "      <td>-0.024121</td>\n",
       "      <td>0.244952</td>\n",
       "      <td>0.223665</td>\n",
       "      <td>-0.008189</td>\n",
       "      <td>0.085162</td>\n",
       "      <td>0.351442</td>\n",
       "      <td>...</td>\n",
       "      <td>-0.391601</td>\n",
       "      <td>0.754717</td>\n",
       "      <td>1.302866</td>\n",
       "      <td>0.003830</td>\n",
       "      <td>-0.587460</td>\n",
       "      <td>0.822778</td>\n",
       "      <td>0.244571</td>\n",
       "      <td>0.299023</td>\n",
       "      <td>0.392656</td>\n",
       "      <td>0.279753</td>\n",
       "    </tr>\n",
       "  </tbody>\n",
       "</table>\n",
       "<p>2 rows × 657 columns</p>\n",
       "</div>"
      ],
      "text/plain": [
       "   Metadata_LINE_ID_x  Metadata_GENOTYPE_x  Cells_AreaShape_Compactness  \\\n",
       "0                   1                    1                     0.051249   \n",
       "1                   2                    1                    -0.232959   \n",
       "\n",
       "   Cells_AreaShape_MedianRadius  Cells_AreaShape_Zernike_1_1  \\\n",
       "0                     -0.623481                    -0.012366   \n",
       "1                      0.745598                    -0.024121   \n",
       "\n",
       "   Cells_AreaShape_Zernike_2_0  Cells_AreaShape_Zernike_2_2  \\\n",
       "0                     0.131600                     0.390005   \n",
       "1                     0.244952                     0.223665   \n",
       "\n",
       "   Cells_AreaShape_Zernike_3_1  Cells_AreaShape_Zernike_3_3  \\\n",
       "0                    -0.640063                     0.378335   \n",
       "1                    -0.008189                     0.085162   \n",
       "\n",
       "   Cells_AreaShape_Zernike_4_0  ...  \\\n",
       "0                     0.733289  ...   \n",
       "1                     0.351442  ...   \n",
       "\n",
       "   Nuclei_Texture_InverseDifferenceMoment_Mito_20_02  \\\n",
       "0                                           0.533359   \n",
       "1                                          -0.391601   \n",
       "\n",
       "   Nuclei_Texture_InverseDifferenceMoment_RNA_20_01  \\\n",
       "0                                         -0.263681   \n",
       "1                                          0.754717   \n",
       "\n",
       "   Nuclei_Texture_InverseDifferenceMoment_RNA_5_01  \\\n",
       "0                                         0.341041   \n",
       "1                                         1.302866   \n",
       "\n",
       "   Nuclei_Texture_SumAverage_AGP_20_03  Nuclei_Texture_SumAverage_ER_20_02  \\\n",
       "0                            -0.751126                           -0.444946   \n",
       "1                             0.003830                           -0.587460   \n",
       "\n",
       "   Nuclei_Texture_SumVariance_Brightfield_20_00  \\\n",
       "0                                     -0.485764   \n",
       "1                                      0.822778   \n",
       "\n",
       "   Nuclei_ObjectSkeleton_NumberBranchEnds_CellImageSkel  \\\n",
       "0                                          -0.576519      \n",
       "1                                           0.244571      \n",
       "\n",
       "   Nuclei_ObjectSkeleton_NumberNonTrunkBranches_CellImageSkel  \\\n",
       "0                                          -0.490640            \n",
       "1                                           0.299023            \n",
       "\n",
       "   Nuclei_ObjectSkeleton_NumberTrunks_CellImageSkel  \\\n",
       "0                                         -0.049856   \n",
       "1                                          0.392656   \n",
       "\n",
       "   Nuclei_ObjectSkeleton_TotalObjectSkeletonLength_CellImageSkel  \n",
       "0                                          -0.717221              \n",
       "1                                           0.279753              \n",
       "\n",
       "[2 rows x 657 columns]"
      ]
     },
     "execution_count": 10,
     "metadata": {},
     "output_type": "execute_result"
    }
   ],
   "source": [
    "#mean profile based on patient ID and genotype\n",
    "df_merge_mean= aggregate(\n",
    "                    population_df=df_merge, \n",
    "                    strata=['Metadata_LINE_ID_x', 'Metadata_GENOTYPE_x'], \n",
    "                    features='infer', \n",
    "                    operation='mean' \n",
    "                    )\n",
    "df_merge_mean.head(2)"
   ]
  },
  {
   "cell_type": "code",
   "execution_count": 11,
   "id": "ebed2fbc",
   "metadata": {
    "execution": {
     "iopub.execute_input": "2023-10-22T15:03:12.341565Z",
     "iopub.status.busy": "2023-10-22T15:03:12.339974Z",
     "iopub.status.idle": "2023-10-22T15:03:12.345244Z",
     "shell.execute_reply": "2023-10-22T15:03:12.346694Z"
    }
   },
   "outputs": [],
   "source": [
    "#select all feature columns\n",
    "df_merge_feature_u=df_merge_mean.loc[:,~df_merge_mean.columns.str.startswith('Metadata')]"
   ]
  },
  {
   "cell_type": "code",
   "execution_count": 12,
   "id": "98a9214b",
   "metadata": {
    "execution": {
     "iopub.execute_input": "2023-10-22T15:03:12.354518Z",
     "iopub.status.busy": "2023-10-22T15:03:12.353149Z",
     "iopub.status.idle": "2023-10-22T15:03:12.356971Z",
     "shell.execute_reply": "2023-10-22T15:03:12.357975Z"
    }
   },
   "outputs": [],
   "source": [
    "#create feature list\n",
    "feature_list=list(df_merge_feature_u.columns)"
   ]
  },
  {
   "cell_type": "code",
   "execution_count": 13,
   "id": "46f28c5e",
   "metadata": {
    "execution": {
     "iopub.execute_input": "2023-10-22T15:03:12.365438Z",
     "iopub.status.busy": "2023-10-22T15:03:12.364068Z",
     "iopub.status.idle": "2023-10-22T15:03:12.430070Z",
     "shell.execute_reply": "2023-10-22T15:03:12.431003Z"
    }
   },
   "outputs": [],
   "source": [
    "#create empty dataframe\n",
    "df_p_values_feature = pd.DataFrame(index=[0],columns=feature_list)"
   ]
  },
  {
   "cell_type": "code",
   "execution_count": 14,
   "id": "cb5f905a",
   "metadata": {
    "execution": {
     "iopub.execute_input": "2023-10-22T15:03:12.503552Z",
     "iopub.status.busy": "2023-10-22T15:03:12.501063Z",
     "iopub.status.idle": "2023-10-22T15:03:35.657725Z",
     "shell.execute_reply": "2023-10-22T15:03:35.658330Z"
    }
   },
   "outputs": [],
   "source": [
    "#run mann-whitney-u test\n",
    "list_p = []\n",
    "list_u = []\n",
    "for feat in feature_list:\n",
    "    u, p = ss.mannwhitneyu(df_merge_mean.query('Metadata_GENOTYPE_x == 1')[feat],          \n",
    "           df_merge_mean.query('Metadata_GENOTYPE_x == 0')[feat])\n",
    "    list_p.append(p)\n",
    "    list_u.append(u)"
   ]
  },
  {
   "cell_type": "code",
   "execution_count": 15,
   "id": "f490db49",
   "metadata": {
    "execution": {
     "iopub.execute_input": "2023-10-22T15:03:35.664378Z",
     "iopub.status.busy": "2023-10-22T15:03:35.663312Z",
     "iopub.status.idle": "2023-10-22T15:03:35.666891Z",
     "shell.execute_reply": "2023-10-22T15:03:35.667602Z"
    }
   },
   "outputs": [],
   "source": [
    "list_p_fdr=statsmodels.stats.multitest.fdrcorrection(list_p, alpha=0.05, method='indep', is_sorted=False)"
   ]
  },
  {
   "cell_type": "code",
   "execution_count": 16,
   "id": "c2818b35",
   "metadata": {
    "execution": {
     "iopub.execute_input": "2023-10-22T15:03:35.675705Z",
     "iopub.status.busy": "2023-10-22T15:03:35.674871Z",
     "iopub.status.idle": "2023-10-22T15:03:35.694525Z",
     "shell.execute_reply": "2023-10-22T15:03:35.695120Z"
    }
   },
   "outputs": [
    {
     "data": {
      "text/html": [
       "<div>\n",
       "<style scoped>\n",
       "    .dataframe tbody tr th:only-of-type {\n",
       "        vertical-align: middle;\n",
       "    }\n",
       "\n",
       "    .dataframe tbody tr th {\n",
       "        vertical-align: top;\n",
       "    }\n",
       "\n",
       "    .dataframe thead th {\n",
       "        text-align: right;\n",
       "    }\n",
       "</style>\n",
       "<table border=\"1\" class=\"dataframe\">\n",
       "  <thead>\n",
       "    <tr style=\"text-align: right;\">\n",
       "      <th></th>\n",
       "      <th>Cells_AreaShape_Compactness</th>\n",
       "      <th>Cells_AreaShape_MedianRadius</th>\n",
       "      <th>Cells_AreaShape_Zernike_1_1</th>\n",
       "      <th>Cells_AreaShape_Zernike_2_0</th>\n",
       "      <th>Cells_AreaShape_Zernike_2_2</th>\n",
       "      <th>Cells_AreaShape_Zernike_3_1</th>\n",
       "      <th>Cells_AreaShape_Zernike_3_3</th>\n",
       "      <th>Cells_AreaShape_Zernike_4_0</th>\n",
       "      <th>Cells_AreaShape_Zernike_4_2</th>\n",
       "      <th>Cells_AreaShape_Zernike_4_4</th>\n",
       "      <th>...</th>\n",
       "      <th>Nuclei_Texture_InverseDifferenceMoment_Mito_20_02</th>\n",
       "      <th>Nuclei_Texture_InverseDifferenceMoment_RNA_20_01</th>\n",
       "      <th>Nuclei_Texture_InverseDifferenceMoment_RNA_5_01</th>\n",
       "      <th>Nuclei_Texture_SumAverage_AGP_20_03</th>\n",
       "      <th>Nuclei_Texture_SumAverage_ER_20_02</th>\n",
       "      <th>Nuclei_Texture_SumVariance_Brightfield_20_00</th>\n",
       "      <th>Nuclei_ObjectSkeleton_NumberBranchEnds_CellImageSkel</th>\n",
       "      <th>Nuclei_ObjectSkeleton_NumberNonTrunkBranches_CellImageSkel</th>\n",
       "      <th>Nuclei_ObjectSkeleton_NumberTrunks_CellImageSkel</th>\n",
       "      <th>Nuclei_ObjectSkeleton_TotalObjectSkeletonLength_CellImageSkel</th>\n",
       "    </tr>\n",
       "  </thead>\n",
       "  <tbody>\n",
       "    <tr>\n",
       "      <th>0</th>\n",
       "      <td>0.460177</td>\n",
       "      <td>0.460177</td>\n",
       "      <td>0.478117</td>\n",
       "      <td>0.49273</td>\n",
       "      <td>0.428887</td>\n",
       "      <td>0.454858</td>\n",
       "      <td>0.428887</td>\n",
       "      <td>0.470448</td>\n",
       "      <td>0.426227</td>\n",
       "      <td>0.460177</td>\n",
       "      <td>...</td>\n",
       "      <td>0.266918</td>\n",
       "      <td>0.470448</td>\n",
       "      <td>0.251104</td>\n",
       "      <td>0.470448</td>\n",
       "      <td>0.470448</td>\n",
       "      <td>0.464511</td>\n",
       "      <td>0.464511</td>\n",
       "      <td>0.460177</td>\n",
       "      <td>0.476702</td>\n",
       "      <td>0.489921</td>\n",
       "    </tr>\n",
       "  </tbody>\n",
       "</table>\n",
       "<p>1 rows × 655 columns</p>\n",
       "</div>"
      ],
      "text/plain": [
       "  Cells_AreaShape_Compactness Cells_AreaShape_MedianRadius  \\\n",
       "0                    0.460177                     0.460177   \n",
       "\n",
       "  Cells_AreaShape_Zernike_1_1 Cells_AreaShape_Zernike_2_0  \\\n",
       "0                    0.478117                     0.49273   \n",
       "\n",
       "  Cells_AreaShape_Zernike_2_2 Cells_AreaShape_Zernike_3_1  \\\n",
       "0                    0.428887                    0.454858   \n",
       "\n",
       "  Cells_AreaShape_Zernike_3_3 Cells_AreaShape_Zernike_4_0  \\\n",
       "0                    0.428887                    0.470448   \n",
       "\n",
       "  Cells_AreaShape_Zernike_4_2 Cells_AreaShape_Zernike_4_4  ...  \\\n",
       "0                    0.426227                    0.460177  ...   \n",
       "\n",
       "  Nuclei_Texture_InverseDifferenceMoment_Mito_20_02  \\\n",
       "0                                          0.266918   \n",
       "\n",
       "  Nuclei_Texture_InverseDifferenceMoment_RNA_20_01  \\\n",
       "0                                         0.470448   \n",
       "\n",
       "  Nuclei_Texture_InverseDifferenceMoment_RNA_5_01  \\\n",
       "0                                        0.251104   \n",
       "\n",
       "  Nuclei_Texture_SumAverage_AGP_20_03 Nuclei_Texture_SumAverage_ER_20_02  \\\n",
       "0                            0.470448                           0.470448   \n",
       "\n",
       "  Nuclei_Texture_SumVariance_Brightfield_20_00  \\\n",
       "0                                     0.464511   \n",
       "\n",
       "  Nuclei_ObjectSkeleton_NumberBranchEnds_CellImageSkel  \\\n",
       "0                                           0.464511     \n",
       "\n",
       "  Nuclei_ObjectSkeleton_NumberNonTrunkBranches_CellImageSkel  \\\n",
       "0                                           0.460177           \n",
       "\n",
       "  Nuclei_ObjectSkeleton_NumberTrunks_CellImageSkel  \\\n",
       "0                                         0.476702   \n",
       "\n",
       "  Nuclei_ObjectSkeleton_TotalObjectSkeletonLength_CellImageSkel  \n",
       "0                                           0.489921             \n",
       "\n",
       "[1 rows x 655 columns]"
      ]
     },
     "execution_count": 16,
     "metadata": {},
     "output_type": "execute_result"
    }
   ],
   "source": [
    "#store p value to each feature\n",
    "df_p_values_feature.iloc[0] =list_p_fdr[1]\n",
    "df_p_values_feature"
   ]
  },
  {
   "cell_type": "code",
   "execution_count": 17,
   "id": "0a2b2318",
   "metadata": {
    "execution": {
     "iopub.execute_input": "2023-10-22T15:03:35.703329Z",
     "iopub.status.busy": "2023-10-22T15:03:35.702375Z",
     "iopub.status.idle": "2023-10-22T15:03:35.706388Z",
     "shell.execute_reply": "2023-10-22T15:03:35.706937Z"
    }
   },
   "outputs": [
    {
     "data": {
      "text/plain": [
       "Index([], dtype='object')"
      ]
     },
     "execution_count": 17,
     "metadata": {},
     "output_type": "execute_result"
    }
   ],
   "source": [
    "#select features with p value smaller than .001\n",
    "df_p_values_feature= df_p_values_feature.drop(df_p_values_feature.\n",
    "                         columns[df_p_values_feature.iloc[-1,:]>0.05],axis=1)\n",
    "df_p_values_feature.columns"
   ]
  },
  {
   "cell_type": "code",
   "execution_count": null,
   "id": "354c71df",
   "metadata": {},
   "outputs": [],
   "source": []
  }
 ],
 "metadata": {
  "kernelspec": {
   "display_name": "Python 3",
   "language": "python",
   "name": "python3"
  },
  "language_info": {
   "codemirror_mode": {
    "name": "ipython",
    "version": 3
   },
   "file_extension": ".py",
   "mimetype": "text/x-python",
   "name": "python",
   "nbconvert_exporter": "python",
   "pygments_lexer": "ipython3",
   "version": "3.8.18"
  }
 },
 "nbformat": 4,
 "nbformat_minor": 5
}
