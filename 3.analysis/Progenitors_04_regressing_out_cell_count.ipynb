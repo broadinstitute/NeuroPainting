{
 "cells": [
  {
   "cell_type": "code",
   "execution_count": 1,
   "metadata": {},
   "outputs": [],
   "source": [
    "import os\n",
    "\n",
    "import pandas as pd\n",
    "import numpy as np\n",
    "import matplotlib.pyplot as plt\n",
    "import matplotlib.patches as mpatches\n",
    "import seaborn as sns \n",
    "import math\n",
    "import statistics\n",
    "import random\n",
    "\n",
    "from scipy.cluster.hierarchy import linkage, dendrogram, fcluster\n",
    "from scipy.stats import ttest_ind\n",
    "from statsmodels.stats.multitest import multipletests\n",
    "\n",
    "from sklearn.feature_selection import VarianceThreshold\n",
    "from sklearn.metrics import adjusted_rand_score, v_measure_score\n",
    "from sklearn.cluster import KMeans\n",
    "from sklearn.decomposition import PCA\n",
    "from sklearn.preprocessing import StandardScaler\n",
    "from sklearn.linear_model import LinearRegression, LogisticRegression\n",
    "from sklearn.model_selection import train_test_split\n",
    "\n",
    "from collections import Counter\n",
    "import warnings\n",
    "warnings.filterwarnings('ignore')"
   ]
  },
  {
   "cell_type": "code",
   "execution_count": 2,
   "metadata": {
    "code_folding": [
     0,
     30
    ]
   },
   "outputs": [],
   "source": [
    "def var_threshold_selection(data, threshold=0.0):\n",
    "    selector = VarianceThreshold(threshold)\n",
    "    selector.fit(data)\n",
    "    return data[data.columns[selector.get_support(indices=True)]]"
   ]
  },
  {
   "cell_type": "code",
   "execution_count": null,
   "metadata": {},
   "outputs": [],
   "source": []
  },
  {
   "cell_type": "code",
   "execution_count": null,
   "metadata": {},
   "outputs": [],
   "source": []
  },
  {
   "cell_type": "code",
   "execution_count": null,
   "metadata": {},
   "outputs": [],
   "source": []
  },
  {
   "cell_type": "markdown",
   "metadata": {},
   "source": [
    "# Create and re-normalize data set with cell counts"
   ]
  },
  {
   "cell_type": "code",
   "execution_count": 3,
   "metadata": {},
   "outputs": [],
   "source": [
    "from pathlib import Path\n",
    "path = os.getcwd()\n",
    "base_dir = str(Path(path).parent)\n",
    "\n",
    "switch_isogenic_labels = True\n",
    "human_only=True\n",
    "\n",
    "norm_all_features = pd.read_csv(base_dir + '/feature_sets/Progenitors/0808_norm_data_all_features.csv', index_col=0)\n",
    "norm_all_features = var_threshold_selection(norm_all_features)\n",
    "\n",
    "df_data = pd.read_csv(base_dir + '/feature_sets/Progenitors/0714_stdev_corr_fs.csv', index_col=0)\n",
    "data_cols = df_data.columns.tolist()\n",
    "\n",
    "data = norm_all_features[data_cols]\n",
    "cell_counts = norm_all_features['Cells_Number_Object_Number']"
   ]
  },
  {
   "cell_type": "code",
   "execution_count": 4,
   "metadata": {},
   "outputs": [],
   "source": [
    "data_residuals = data.copy()\n",
    "cell_count_corrs = pd.DataFrame()\n",
    "features = data.columns.tolist()\n",
    "\n",
    "# For every feature, get the linear regression and replace value with the residual\n",
    "for feature in features:\n",
    "    reg = LinearRegression().fit(data[feature].values.reshape(-1,1), cell_counts.values.reshape(-1,1))\n",
    "    rscore = reg.score(data[feature].values.reshape(-1,1), cell_counts.values.reshape(-1,1))\n",
    "    cell_count_corrs.loc[feature, 'r-squared'] = rscore\n",
    "    cell_count_corrs.loc[feature, 'slope'] = reg.coef_\n",
    "    cell_count_corrs.loc[feature, 'intercept'] = reg.intercept_\n",
    "    \n",
    "    # Find predicted feature value based on cell count\n",
    "    predicted = reg.predict(data[feature].values.reshape(-1,1)).flatten()\n",
    "    residuals = data[feature].values - predicted\n",
    "    data_residuals[feature] = residuals"
   ]
  },
  {
   "cell_type": "code",
   "execution_count": 5,
   "metadata": {},
   "outputs": [
    {
     "data": {
      "text/html": [
       "<div>\n",
       "<style scoped>\n",
       "    .dataframe tbody tr th:only-of-type {\n",
       "        vertical-align: middle;\n",
       "    }\n",
       "\n",
       "    .dataframe tbody tr th {\n",
       "        vertical-align: top;\n",
       "    }\n",
       "\n",
       "    .dataframe thead th {\n",
       "        text-align: right;\n",
       "    }\n",
       "</style>\n",
       "<table border=\"1\" class=\"dataframe\">\n",
       "  <thead>\n",
       "    <tr style=\"text-align: right;\">\n",
       "      <th></th>\n",
       "      <th>r-squared</th>\n",
       "      <th>slope</th>\n",
       "      <th>intercept</th>\n",
       "    </tr>\n",
       "  </thead>\n",
       "  <tbody>\n",
       "    <tr>\n",
       "      <th>Cytoplasm_Texture_Correlation_DNA_20_01</th>\n",
       "      <td>0.809411</td>\n",
       "      <td>-0.899673</td>\n",
       "      <td>-1.528556e-16</td>\n",
       "    </tr>\n",
       "    <tr>\n",
       "      <th>Nuclei_Neighbors_NumberOfNeighbors_2</th>\n",
       "      <td>0.785236</td>\n",
       "      <td>0.886135</td>\n",
       "      <td>1.083022e-16</td>\n",
       "    </tr>\n",
       "    <tr>\n",
       "      <th>Cells_Correlation_Correlation_DNA_Mito</th>\n",
       "      <td>0.782165</td>\n",
       "      <td>-0.884401</td>\n",
       "      <td>-2.043195e-16</td>\n",
       "    </tr>\n",
       "    <tr>\n",
       "      <th>Cells_Correlation_Overlap_ER_Brightfield</th>\n",
       "      <td>0.704664</td>\n",
       "      <td>0.839443</td>\n",
       "      <td>-1.896264e-15</td>\n",
       "    </tr>\n",
       "    <tr>\n",
       "      <th>Cytoplasm_Texture_InfoMeas1_RNA_10_00</th>\n",
       "      <td>0.690660</td>\n",
       "      <td>-0.831060</td>\n",
       "      <td>-2.645552e-16</td>\n",
       "    </tr>\n",
       "    <tr>\n",
       "      <th>Cells_RadialDistribution_RadialCV_ER_1of4</th>\n",
       "      <td>0.672240</td>\n",
       "      <td>-0.819903</td>\n",
       "      <td>-5.016942e-17</td>\n",
       "    </tr>\n",
       "    <tr>\n",
       "      <th>Cells_Intensity_LowerQuartileIntensity_DNA</th>\n",
       "      <td>0.669083</td>\n",
       "      <td>0.817975</td>\n",
       "      <td>1.271031e-17</td>\n",
       "    </tr>\n",
       "    <tr>\n",
       "      <th>Cells_Correlation_K_Brightfield_RNA</th>\n",
       "      <td>0.667023</td>\n",
       "      <td>0.816715</td>\n",
       "      <td>-2.051419e-16</td>\n",
       "    </tr>\n",
       "    <tr>\n",
       "      <th>Cells_RadialDistribution_RadialCV_DNA_1of4</th>\n",
       "      <td>0.644817</td>\n",
       "      <td>-0.803005</td>\n",
       "      <td>-4.536764e-16</td>\n",
       "    </tr>\n",
       "    <tr>\n",
       "      <th>Cytoplasm_RadialDistribution_MeanFrac_ER_4of4</th>\n",
       "      <td>0.633388</td>\n",
       "      <td>0.795857</td>\n",
       "      <td>8.493695e-16</td>\n",
       "    </tr>\n",
       "  </tbody>\n",
       "</table>\n",
       "</div>"
      ],
      "text/plain": [
       "                                               r-squared     slope  \\\n",
       "Cytoplasm_Texture_Correlation_DNA_20_01         0.809411 -0.899673   \n",
       "Nuclei_Neighbors_NumberOfNeighbors_2            0.785236  0.886135   \n",
       "Cells_Correlation_Correlation_DNA_Mito          0.782165 -0.884401   \n",
       "Cells_Correlation_Overlap_ER_Brightfield        0.704664  0.839443   \n",
       "Cytoplasm_Texture_InfoMeas1_RNA_10_00           0.690660 -0.831060   \n",
       "Cells_RadialDistribution_RadialCV_ER_1of4       0.672240 -0.819903   \n",
       "Cells_Intensity_LowerQuartileIntensity_DNA      0.669083  0.817975   \n",
       "Cells_Correlation_K_Brightfield_RNA             0.667023  0.816715   \n",
       "Cells_RadialDistribution_RadialCV_DNA_1of4      0.644817 -0.803005   \n",
       "Cytoplasm_RadialDistribution_MeanFrac_ER_4of4   0.633388  0.795857   \n",
       "\n",
       "                                                  intercept  \n",
       "Cytoplasm_Texture_Correlation_DNA_20_01       -1.528556e-16  \n",
       "Nuclei_Neighbors_NumberOfNeighbors_2           1.083022e-16  \n",
       "Cells_Correlation_Correlation_DNA_Mito        -2.043195e-16  \n",
       "Cells_Correlation_Overlap_ER_Brightfield      -1.896264e-15  \n",
       "Cytoplasm_Texture_InfoMeas1_RNA_10_00         -2.645552e-16  \n",
       "Cells_RadialDistribution_RadialCV_ER_1of4     -5.016942e-17  \n",
       "Cells_Intensity_LowerQuartileIntensity_DNA     1.271031e-17  \n",
       "Cells_Correlation_K_Brightfield_RNA           -2.051419e-16  \n",
       "Cells_RadialDistribution_RadialCV_DNA_1of4    -4.536764e-16  \n",
       "Cytoplasm_RadialDistribution_MeanFrac_ER_4of4  8.493695e-16  "
      ]
     },
     "execution_count": 5,
     "metadata": {},
     "output_type": "execute_result"
    }
   ],
   "source": [
    "cell_count_corrs.sort_values(by='r-squared', ascending=False).head(10)"
   ]
  },
  {
   "cell_type": "code",
   "execution_count": 6,
   "metadata": {},
   "outputs": [
    {
     "data": {
      "image/png": "[encoded data removed]",
      "text/plain": [
       "<Figure size 432x288 with 1 Axes>"
      ]
     },
     "metadata": {
      "needs_background": "light"
     },
     "output_type": "display_data"
    }
   ],
   "source": [
    "# Distribution of Cell counts vs control or deletion\n",
    "\n",
    "temp = norm_all_features.copy()\n",
    "temp['group'] = temp.index.str.split('_').map(lambda x: x[1])\n",
    "temp = temp[['group', 'Cells_Number_Object_Number']]\n",
    "\n",
    "\n",
    "sns.distplot(temp[temp['group']=='control']['Cells_Number_Object_Number'], label='control')\n",
    "sns.distplot(temp[temp['group']=='deletion']['Cells_Number_Object_Number'], label='deletion')\n",
    "plt.legend()\n",
    "plt.show()"
   ]
  },
  {
   "cell_type": "code",
   "execution_count": null,
   "metadata": {},
   "outputs": [],
   "source": []
  },
  {
   "cell_type": "markdown",
   "metadata": {},
   "source": [
    "# Logistic Regression on residuals data"
   ]
  },
  {
   "cell_type": "code",
   "execution_count": 7,
   "metadata": {},
   "outputs": [
    {
     "name": "stdout",
     "output_type": "stream",
     "text": [
      "348\n",
      "0.9958847736625515 0.9142857142857143\n"
     ]
    }
   ],
   "source": [
    "# residuals is the df of residualsalized features\n",
    "residuals = data_residuals.copy()\n",
    "residuals = residuals[data_cols]\n",
    "\n",
    "human_only = True\n",
    "if human_only:\n",
    "    residuals = residuals[residuals.index.str.startswith('human')]\n",
    "\n",
    "\n",
    "to_exclude = False\n",
    "if to_exclude:\n",
    "    residuals['cell_count'] = cell_counts\n",
    "    residuals = residuals[residuals['cell_count'] > -1.39]\n",
    "    residuals = residuals.drop(['cell_count'], axis=1)\n",
    "    \n",
    "swap_isogenic = True\n",
    "labels = residuals.index.tolist()\n",
    "if swap_isogenic:\n",
    "    for i in range(len(labels)):\n",
    "        if 'isogenic_deletion' in labels[i]:\n",
    "            labels[i] = labels[i].replace('isogenic_deletion', 'temp')\n",
    "    for i in range(len(labels)):\n",
    "        if 'isogenic_control' in labels[i]:\n",
    "            labels[i] = labels[i].replace('isogenic_control', 'isogenic_deletion')            \n",
    "        if 'temp' in labels[i]:\n",
    "            labels[i] = labels[i].replace('temp', 'isogenic_control')                    \n",
    "residuals.index = labels\n",
    "\n",
    "residuals['label'] = residuals.index.str.split('_').map(lambda x: x[1])\n",
    "residuals_xtrain, residuals_xtest, residuals_ytrain, residuals_ytest = train_test_split(residuals.drop(['label'], axis=1), residuals['label'], \n",
    "                                                                    test_size=0.3, random_state=4)\n",
    "print(len(residuals_xtrain) + len(residuals_xtest))\n",
    "\n",
    "logr = LogisticRegression(random_state=12, penalty='l2', C=1, max_iter=100).fit(residuals_xtrain, residuals_ytrain)\n",
    "print(logr.score(residuals_xtrain, residuals_ytrain), logr.score(residuals_xtest, residuals_ytest))\n"
   ]
  },
  {
   "cell_type": "code",
   "execution_count": 8,
   "metadata": {},
   "outputs": [
    {
     "name": "stdout",
     "output_type": "stream",
     "text": [
      "284 284 96 96\n",
      "0.9964788732394366 0.7291666666666666\n"
     ]
    }
   ],
   "source": [
    "# residuals is the df of residualsalized features\n",
    "residuals = data_residuals.copy()\n",
    "residuals = residuals[data_cols]\n",
    "\n",
    "human_only = False\n",
    "if human_only:\n",
    "    residuals = residuals[residuals.index.str.startswith('human')]\n",
    "\n",
    "\n",
    "to_exclude = False\n",
    "if to_exclude:\n",
    "    residuals['cell_count'] = cell_counts\n",
    "    residuals = residuals[residuals['cell_count'] > -1.39]\n",
    "    residuals = residuals.drop(['cell_count'], axis=1)\n",
    "    \n",
    "swap_isogenic = False\n",
    "labels = residuals.index.tolist()\n",
    "if swap_isogenic:\n",
    "    for i in range(len(labels)):\n",
    "        if 'isogenic_deletion' in labels[i]:\n",
    "            labels[i] = labels[i].replace('isogenic_deletion', 'temp')\n",
    "    for i in range(len(labels)):\n",
    "        if 'isogenic_control' in labels[i]:\n",
    "            labels[i] = labels[i].replace('isogenic_control', 'isogenic_deletion')            \n",
    "        if 'temp' in labels[i]:\n",
    "            labels[i] = labels[i].replace('temp', 'isogenic_control')                    \n",
    "residuals.index = labels\n",
    "\n",
    "# random.seed(3)\n",
    "residuals['label'] = residuals.index.str.split('_').map(lambda x: x[1])\n",
    "residuals['patient_num'] = residuals.index.str.split('_').map(lambda x: x[2])\n",
    "\n",
    "patients = list(set(residuals['patient_num']))\n",
    "random.shuffle(patients)\n",
    "train_nums = patients[0:36]\n",
    "test_nums = patients[36:]\n",
    "\n",
    "train_df = residuals[residuals['patient_num'].isin(train_nums)]\n",
    "test_df = residuals[residuals['patient_num'].isin(test_nums)]\n",
    "\n",
    "residuals_xtrain = train_df.drop(['label', 'patient_num'], axis=1)\n",
    "residuals_ytrain = train_df['label']\n",
    "residuals_xtest = test_df.drop(['label', 'patient_num'], axis=1)\n",
    "residuals_ytest = test_df['label']\n",
    "print(len(residuals_xtrain), len(residuals_ytrain), len(residuals_xtest), len(residuals_ytest))\n",
    "\n",
    "logr = LogisticRegression(random_state=12, penalty='l2', C=1, max_iter=100).fit(residuals_xtrain, residuals_ytrain)\n",
    "print(logr.score(residuals_xtrain, residuals_ytrain), logr.score(residuals_xtest, residuals_ytest))"
   ]
  },
  {
   "cell_type": "markdown",
   "metadata": {},
   "source": [
    "# Logistic Regression on straight up data"
   ]
  },
  {
   "cell_type": "code",
   "execution_count": 9,
   "metadata": {},
   "outputs": [
    {
     "name": "stdout",
     "output_type": "stream",
     "text": [
      "380\n",
      "1.0 0.8859649122807017\n"
     ]
    }
   ],
   "source": [
    "# SPLIT WITH SKLEARN\n",
    "\n",
    "# norm is the df of normalized features\n",
    "norm = norm_all_features.copy()\n",
    "norm = norm[data_cols]\n",
    "\n",
    "human_only = False\n",
    "if human_only:\n",
    "    norm = norm[norm.index.str.startswith('human')]\n",
    "\n",
    "\n",
    "to_exclude = False\n",
    "if to_exclude:\n",
    "    norm['cell_count'] = cell_counts\n",
    "    norm = norm[norm['cell_count'] > -1.39]\n",
    "    norm = norm.drop(['cell_count'], axis=1)\n",
    "    \n",
    "swap_isogenic = False\n",
    "labels = norm.index.tolist()\n",
    "if swap_isogenic:\n",
    "    for i in range(len(labels)):\n",
    "        if 'isogenic_deletion' in labels[i]:\n",
    "            labels[i] = labels[i].replace('isogenic_deletion', 'temp')\n",
    "    for i in range(len(labels)):\n",
    "        if 'isogenic_control' in labels[i]:\n",
    "            labels[i] = labels[i].replace('isogenic_control', 'isogenic_deletion')            \n",
    "        if 'temp' in labels[i]:\n",
    "            labels[i] = labels[i].replace('temp', 'isogenic_control')                    \n",
    "norm.index = labels\n",
    "    \n",
    "norm['label'] = norm.index.str.split('_').map(lambda x: x[1])\n",
    "norm_xtrain, norm_xtest, norm_ytrain, norm_ytest = train_test_split(norm.drop(['label'], axis=1), norm['label'], \n",
    "                                                                    test_size=0.3, random_state=4)\n",
    "print(len(norm_xtrain) + len(norm_xtest))\n",
    "\n",
    "logr2 = LogisticRegression(random_state=2, penalty='l2', C=1, max_iter=130).fit(norm_xtrain, norm_ytrain)\n",
    "print(logr2.score(norm_xtrain, norm_ytrain), logr2.score(norm_xtest, norm_ytest))"
   ]
  },
  {
   "cell_type": "code",
   "execution_count": 10,
   "metadata": {},
   "outputs": [
    {
     "name": "stdout",
     "output_type": "stream",
     "text": [
      "284 284 64 64\n",
      "0.9964788732394366 0.921875\n"
     ]
    }
   ],
   "source": [
    "# SPLIT BASED ON PATIENT NUMBER\n",
    "\n",
    "#norm is the df of normalized features\n",
    "norm = norm_all_features.copy()\n",
    "norm = norm[data_cols]\n",
    "\n",
    "human_only = True\n",
    "if human_only:\n",
    "    norm = norm[norm.index.str.startswith('human')]\n",
    "\n",
    "\n",
    "to_exclude = False\n",
    "if to_exclude:\n",
    "    norm['cell_count'] = cell_counts\n",
    "    norm = norm[norm['cell_count'] > -1.39]\n",
    "    norm = norm.drop(['cell_count'], axis=1)\n",
    "    \n",
    "swap_isogenic = False\n",
    "labels = norm.index.tolist()\n",
    "if swap_isogenic:\n",
    "    for i in range(len(labels)):\n",
    "        if 'isogenic_deletion' in labels[i]:\n",
    "            labels[i] = labels[i].replace('isogenic_deletion', 'temp')\n",
    "    for i in range(len(labels)):\n",
    "        if 'isogenic_control' in labels[i]:\n",
    "            labels[i] = labels[i].replace('isogenic_control', 'isogenic_deletion')            \n",
    "        if 'temp' in labels[i]:\n",
    "            labels[i] = labels[i].replace('temp', 'isogenic_control')                    \n",
    "norm.index = labels\n",
    "    \n",
    "# random.seed(3)\n",
    "norm['label'] = norm.index.str.split('_').map(lambda x: x[1])\n",
    "norm['patient_num'] = norm.index.str.split('_').map(lambda x: x[2])\n",
    "\n",
    "patients = list(set(norm['patient_num']))\n",
    "random.shuffle(patients)\n",
    "train_nums = patients[0:36]\n",
    "test_nums = patients[36:]\n",
    "\n",
    "train_df = norm[norm['patient_num'].isin(train_nums)]\n",
    "test_df = norm[norm['patient_num'].isin(test_nums)]\n",
    "\n",
    "norm_xtrain = train_df.drop(['label', 'patient_num'], axis=1)\n",
    "norm_ytrain = train_df['label']\n",
    "norm_xtest = test_df.drop(['label', 'patient_num'], axis=1)\n",
    "norm_ytest = test_df['label']\n",
    "print(len(norm_xtrain), len(norm_ytrain), len(norm_xtest), len(norm_ytest))\n",
    "\n",
    "logr2 = LogisticRegression(random_state=2, penalty='l2', C=1, max_iter=130).fit(norm_xtrain, norm_ytrain)\n",
    "print(logr2.score(norm_xtrain, norm_ytrain), logr2.score(norm_xtest, norm_ytest))"
   ]
  },
  {
   "cell_type": "code",
   "execution_count": null,
   "metadata": {},
   "outputs": [],
   "source": []
  },
  {
   "cell_type": "code",
   "execution_count": null,
   "metadata": {},
   "outputs": [],
   "source": []
  },
  {
   "cell_type": "code",
   "execution_count": null,
   "metadata": {},
   "outputs": [],
   "source": []
  }
 ],
 "metadata": {
  "kernelspec": {
   "display_name": "Python 3",
   "language": "python",
   "name": "python3"
  },
  "language_info": {
   "codemirror_mode": {
    "name": "ipython",
    "version": 3
   },
   "file_extension": ".py",
   "mimetype": "text/x-python",
   "name": "python",
   "nbconvert_exporter": "python",
   "pygments_lexer": "ipython3",
   "version": "3.8.5"
  }
 },
 "nbformat": 4,
 "nbformat_minor": 4
}
