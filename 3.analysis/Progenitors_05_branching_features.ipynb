{
 "cells": [
  {
   "cell_type": "code",
   "execution_count": 1,
   "metadata": {},
   "outputs": [],
   "source": [
    "import os\n",
    "\n",
    "import pandas as pd\n",
    "import numpy as np\n",
    "import matplotlib.pyplot as plt\n",
    "import matplotlib.patches as mpatches\n",
    "import seaborn as sns \n",
    "import math\n",
    "import statistics\n",
    "import random\n",
    "\n",
    "from scipy.cluster.hierarchy import linkage, dendrogram, fcluster\n",
    "from scipy.stats import ttest_ind\n",
    "from statsmodels.stats.multitest import multipletests\n",
    "from sklearn.feature_selection import VarianceThreshold\n",
    "from sklearn.preprocessing import StandardScaler\n",
    "\n",
    "from collections import Counter\n",
    "\n",
    "from pycytominer import normalize"
   ]
  },
  {
   "cell_type": "code",
   "execution_count": 2,
   "metadata": {},
   "outputs": [],
   "source": [
    "def load_metadata(path):\n",
    "    \"\"\"\n",
    "    Loads the csv or csv.gz file into a pandas df, providing unique ID.\n",
    "    \"\"\"\n",
    "    df = pd.read_csv(path)\n",
    "    \n",
    "    # Seperate data and metadata\n",
    "    metadata_cols = [i for i in df.columns if 'Metadata' in i]\n",
    "    metadata = df[metadata_cols]\n",
    "    data_cols = [i for i in df.columns if i not in metadata_cols]\n",
    "    \n",
    "    # Remove exclude features from the data df\n",
    "    data_cols = [x for x in data_cols if x.find('Costes')<0 if x.find('Manders')<0 if x.find('RWC')<0]\n",
    "    data = df[data_cols]\n",
    "    \n",
    "    # Use metadata to create the index\n",
    "    metadata_df = metadata.copy()\n",
    "    data_df = data.copy()\n",
    "    metadata_df['my_id'] = metadata['Metadata_line_source'] + '_' + metadata['Metadata_line_condition'] + '_' + \\\n",
    "        metadata['Metadata_line_ID'].astype(str) + '_' + metadata['Metadata_well_position']\n",
    "    data_df['my_id'] = metadata_df['my_id']\n",
    "    data_df.set_index('my_id', inplace=True)\n",
    "    print('df shape: {}'.format(data_df.shape))\n",
    "    \n",
    "#     Remove the extraneous 'control' or 'deletion' for the isogenic perturbs, to keep naming consistency.\n",
    "    new_idx = data_df.index.tolist()\n",
    "    new_idx = [i.split('_')[0]+'_'+ i.split('_')[1]+'_'+ i.split('_')[3]+'_' +i.split('_')[4] \\\n",
    "               if 'genic' in i else i for i in new_idx]\n",
    "    \n",
    "    data_df.index = new_idx\n",
    "    return metadata_df"
   ]
  },
  {
   "cell_type": "code",
   "execution_count": 5,
   "metadata": {},
   "outputs": [
    {
     "name": "stdout",
     "output_type": "stream",
     "text": [
      "df shape: (384, 4023)\n"
     ]
    }
   ],
   "source": [
    "from pathlib import Path\n",
    "path = os.getcwd()\n",
    "base_dir = str(Path(path).parent)\n",
    "\n",
    "metadata = load_metadata(base_dir + '/1.run-workflows/profiles/NCP_STEM_1/BR_NCP_STEM_1/BR_NCP_STEM_1_normalized.csv.gz')\n",
    "metadata = metadata[['Metadata_Well', 'my_id']]\n",
    "\n",
    "data = pd.read_csv(base_dir + '/1.run-workflows/profiles/NCP_PROGENITORS_1_BRANCHING/BR_NCP_PROGENITORS_1.csv.gz')\n",
    "data_cols = [x for x in data.columns if x.find('Costes')<0 if x.find('Manders')<0 if x.find('RWC')<0]\n",
    "data = data[data_cols]\n",
    "data = normalize(data)\n",
    "data = pd.merge(data, metadata, left_on='Metadata_Well', right_on='Metadata_Well')\n",
    "\n",
    "data = data.drop(['Metadata_Plate', 'Metadata_Well'], axis=1)\n",
    "data.set_index('my_id', inplace=True)\n",
    "\n",
    "#     Remove the extraneous 'control' or 'deletion' for the isogenic perturbs, to keep naming consistency.\n",
    "new_idx = data.index.tolist()\n",
    "new_idx = [i.split('_')[0]+'_'+ i.split('_')[1]+'_'+ i.split('_')[3]+'_' +i.split('_')[4] \\\n",
    "           if 'genic' in i else i for i in new_idx]\n",
    "\n",
    "data.index = new_idx\n",
    "\n",
    "data['group'] = data.index.str.split('_').map(lambda x: x[1])\n",
    "\n",
    "human_only=True\n",
    "if human_only:\n",
    "    data = data[data.index.str.contains('human')]"
   ]
  },
  {
   "cell_type": "code",
   "execution_count": 8,
   "metadata": {},
   "outputs": [],
   "source": []
  },
  {
   "cell_type": "code",
   "execution_count": 26,
   "metadata": {},
   "outputs": [
    {
     "data": {
      "text/plain": [
       "[Text(0, 0.5, 'TotalObjectSkeletonLength')]"
      ]
     },
     "execution_count": 26,
     "metadata": {},
     "output_type": "execute_result"
    },
    {
     "data": {
      "image/png": "[encoded data removed]",
      "text/plain": [
       "<Figure size 1440x432 with 4 Axes>"
      ]
     },
     "metadata": {
      "needs_background": "light"
     },
     "output_type": "display_data"
    }
   ],
   "source": [
    "fig, axes = plt.subplots(1,4, figsize=(20,6))\n",
    "sns.boxplot(x='group', y='Nuclei_ObjectSkeleton_NumberBranchEnds_CellBodiesPlusNeuritesSkel', data=data, ax=axes[0]).set(ylabel='NumberBranchEnds')\n",
    "sns.boxplot(x='group', y='Nuclei_ObjectSkeleton_NumberNonTrunkBranches_CellBodiesPlusNeuritesSkel', data=data, ax=axes[1]).set(ylabel='NumberNonTrunkBranches')\n",
    "sns.boxplot(x='group', y='Nuclei_ObjectSkeleton_NumberTrunks_CellBodiesPlusNeuritesSkel', data=data, ax=axes[2]).set(ylabel='NumberTrunks')\n",
    "sns.boxplot(x='group', y='Nuclei_ObjectSkeleton_TotalObjectSkeletonLength_CellBodiesPlusNeuritesSkel', data=data, ax=axes[3]).set(ylabel='TotalObjectSkeletonLength')\n"
   ]
  },
  {
   "cell_type": "code",
   "execution_count": 28,
   "metadata": {},
   "outputs": [
    {
     "data": {
      "text/plain": [
       "Cells_Children_CellBodiesPlusNeurites_Count                                   0.000000\n",
       "Cells_Children_Cytoplasm_Count                                                0.000000\n",
       "Cells_Children_Neurites_Count                                                 0.000000\n",
       "Cells_Location_Center_X                                                      -0.007068\n",
       "Cells_Location_Center_Y                                                       0.019277\n",
       "Cells_Location_Center_Z                                                       0.000000\n",
       "Cells_Number_Object_Number                                                    0.059338\n",
       "Cells_Parent_Nuclei                                                           0.059338\n",
       "Cytoplasm_Location_Center_X                                                  -0.007005\n",
       "Cytoplasm_Location_Center_Y                                                   0.019261\n",
       "Cytoplasm_Number_Object_Number                                                0.059338\n",
       "Cytoplasm_Parent_Cells                                                        0.059338\n",
       "Cytoplasm_Parent_Nuclei                                                       0.059338\n",
       "Nuclei_Children_Cells_Count                                                   0.000000\n",
       "Nuclei_Children_Cytoplasm_Count                                               0.000000\n",
       "Nuclei_Location_Center_X                                                     -0.007207\n",
       "Nuclei_Location_Center_Y                                                      0.019114\n",
       "Nuclei_Location_Center_Z                                                      0.000000\n",
       "Nuclei_Number_Object_Number                                                   0.059338\n",
       "Nuclei_ObjectSkeleton_NumberBranchEnds_CellBodiesPlusNeuritesSkel            -0.032070\n",
       "Nuclei_ObjectSkeleton_NumberNonTrunkBranches_CellBodiesPlusNeuritesSkel      -0.018446\n",
       "Nuclei_ObjectSkeleton_NumberTrunks_CellBodiesPlusNeuritesSkel                -0.042903\n",
       "Nuclei_ObjectSkeleton_TotalObjectSkeletonLength_CellBodiesPlusNeuritesSkel   -0.012151\n",
       "dtype: float64"
      ]
     },
     "execution_count": 28,
     "metadata": {},
     "output_type": "execute_result"
    }
   ],
   "source": [
    "data.mean()"
   ]
  },
  {
   "cell_type": "code",
   "execution_count": null,
   "metadata": {},
   "outputs": [],
   "source": []
  },
  {
   "cell_type": "code",
   "execution_count": null,
   "metadata": {},
   "outputs": [],
   "source": []
  },
  {
   "cell_type": "code",
   "execution_count": null,
   "metadata": {},
   "outputs": [],
   "source": []
  },
  {
   "cell_type": "code",
   "execution_count": null,
   "metadata": {},
   "outputs": [],
   "source": []
  }
 ],
 "metadata": {
  "kernelspec": {
   "display_name": "Python 3",
   "language": "python",
   "name": "python3"
  },
  "language_info": {
   "codemirror_mode": {
    "name": "ipython",
    "version": 3
   },
   "file_extension": ".py",
   "mimetype": "text/x-python",
   "name": "python",
   "nbconvert_exporter": "python",
   "pygments_lexer": "ipython3",
   "version": "3.8.5"
  }
 },
 "nbformat": 4,
 "nbformat_minor": 4
}
