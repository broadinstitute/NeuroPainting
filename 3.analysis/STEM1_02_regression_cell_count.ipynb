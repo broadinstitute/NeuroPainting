{
 "cells": [
  {
   "cell_type": "code",
   "execution_count": 1,
   "metadata": {},
   "outputs": [],
   "source": [
    "import os\n",
    "\n",
    "import pandas as pd\n",
    "import numpy as np\n",
    "import matplotlib.pyplot as plt\n",
    "import matplotlib.patches as mpatches\n",
    "import seaborn as sns \n",
    "import math\n",
    "import statistics\n",
    "import random\n",
    "\n",
    "from scipy.cluster.hierarchy import linkage, dendrogram, fcluster\n",
    "from scipy.stats import ttest_ind\n",
    "from statsmodels.stats.multitest import multipletests\n",
    "\n",
    "from sklearn.feature_selection import VarianceThreshold\n",
    "from sklearn.metrics import adjusted_rand_score, v_measure_score\n",
    "from sklearn.cluster import KMeans\n",
    "from sklearn.decomposition import PCA\n",
    "from sklearn.preprocessing import StandardScaler\n",
    "from sklearn.linear_model import LinearRegression, LogisticRegression\n",
    "from sklearn.model_selection import train_test_split\n",
    "\n",
    "from collections import Counter\n",
    "import warnings\n",
    "warnings.filterwarnings('ignore')"
   ]
  },
  {
   "cell_type": "code",
   "execution_count": 2,
   "metadata": {
    "code_folding": [
     0
    ]
   },
   "outputs": [],
   "source": [
    "def var_threshold_selection(data, threshold=0.0):\n",
    "    selector = VarianceThreshold(threshold)\n",
    "    selector.fit(data)\n",
    "    return data[data.columns[selector.get_support(indices=True)]]\n",
    "\n",
    "def load_data(path):\n",
    "    \"\"\"\n",
    "    Loads the csv or csv.gz file into a pandas df, providing unique ID.\n",
    "    \"\"\"\n",
    "    df = pd.read_csv(path)\n",
    "    \n",
    "    # Seperate data and metadata\n",
    "    metadata_cols = [i for i in df.columns if 'Metadata' in i]\n",
    "    metadata = df[metadata_cols]\n",
    "    data_cols = [i for i in df.columns if i not in metadata_cols]\n",
    "    \n",
    "    # Remove exclude features from the data df\n",
    "    data_cols = [x for x in data_cols if x.find('Costes')<0 if x.find('Manders')<0 if x.find('RWC')<0]\n",
    "    data = df[data_cols]\n",
    "    \n",
    "    # Use metadata to create the index\n",
    "    metadata_df = metadata.copy()\n",
    "    data_df = data.copy()\n",
    "    metadata_df['my_id'] = metadata['Metadata_line_source'] + '_' + metadata['Metadata_line_condition'] + '_' + \\\n",
    "        metadata['Metadata_line_ID'].astype(str) + '_' + metadata['Metadata_well_position']\n",
    "    data_df['my_id'] = metadata_df['my_id']\n",
    "    data_df.set_index('my_id', inplace=True)\n",
    "    print('df shape: {}'.format(data_df.shape))\n",
    "    \n",
    "#     Remove the extraneous 'control' or 'deletion' for the isogenic perturbs, to keep naming consistency.\n",
    "    new_idx = data_df.index.tolist()\n",
    "    new_idx = [i.split('_')[0]+'_'+ i.split('_')[1]+'_'+ i.split('_')[3]+'_' +i.split('_')[4] \\\n",
    "               if 'genic' in i else i for i in new_idx]\n",
    "    \n",
    "    data_df.index = new_idx\n",
    "    return data_df"
   ]
  },
  {
   "cell_type": "code",
   "execution_count": null,
   "metadata": {},
   "outputs": [],
   "source": []
  },
  {
   "cell_type": "code",
   "execution_count": null,
   "metadata": {},
   "outputs": [],
   "source": []
  },
  {
   "cell_type": "markdown",
   "metadata": {},
   "source": [
    "# Create regressed STEM data"
   ]
  },
  {
   "cell_type": "code",
   "execution_count": 3,
   "metadata": {},
   "outputs": [
    {
     "name": "stdout",
     "output_type": "stream",
     "text": [
      "df shape: (384, 4023)\n"
     ]
    }
   ],
   "source": [
    "from pathlib import Path\n",
    "path = os.getcwd()\n",
    "base_dir = str(Path(path).parent)\n",
    "\n",
    "norm_all_features = load_data(base_dir + '/1.run-workflows/profiles/NCP_STEM_1/BR_NCP_STEM_1/BR_NCP_STEM_1_normalized.csv.gz')\n",
    "data_cols = pd.read_csv(base_dir + '/3.analysis/feature_sets/STEM01/0621_stdev_corr_fs.csv', index_col=0).columns\n",
    "\n",
    "data = norm_all_features[data_cols]\n",
    "cell_counts = norm_all_features['Cells_Number_Object_Number']"
   ]
  },
  {
   "cell_type": "code",
   "execution_count": 5,
   "metadata": {},
   "outputs": [],
   "source": [
    "data_residuals = data.copy()\n",
    "cell_count_corrs = pd.DataFrame()\n",
    "features = data.columns.tolist()\n",
    "\n",
    "# For every feature, get the linear regression and replace value with the residual\n",
    "for feature in features:\n",
    "    reg = LinearRegression().fit(data[feature].values.reshape(-1,1), cell_counts.values.reshape(-1,1))\n",
    "    rscore = reg.score(data[feature].values.reshape(-1,1), cell_counts.values.reshape(-1,1))\n",
    "    cell_count_corrs.loc[feature, 'r-squared'] = rscore\n",
    "    cell_count_corrs.loc[feature, 'slope'] = reg.coef_\n",
    "    cell_count_corrs.loc[feature, 'intercept'] = reg.intercept_\n",
    "    \n",
    "    # Find predicted feature value based on cell count\n",
    "    predicted = reg.predict(data[feature].values.reshape(-1,1)).flatten()\n",
    "    residuals = data[feature].values - predicted\n",
    "    data_residuals[feature] = residuals"
   ]
  },
  {
   "cell_type": "code",
   "execution_count": 7,
   "metadata": {},
   "outputs": [],
   "source": [
    "# cell_count_corrs.sort_values(by='r-squared', ascending=False).head(10)"
   ]
  },
  {
   "cell_type": "code",
   "execution_count": 8,
   "metadata": {},
   "outputs": [
    {
     "data": {
      "image/png": "[encoded data removed]",
      "text/plain": [
       "<Figure size 432x288 with 1 Axes>"
      ]
     },
     "metadata": {
      "needs_background": "light"
     },
     "output_type": "display_data"
    }
   ],
   "source": [
    "# Distribution of Cell counts vs control or deletion\n",
    "\n",
    "temp = norm_all_features.copy()\n",
    "temp['group'] = temp.index.str.split('_').map(lambda x: x[1])\n",
    "temp = temp[['group', 'Cells_Number_Object_Number']]\n",
    "\n",
    "sns.distplot(temp[temp['group']=='control']['Cells_Number_Object_Number'], label='control')\n",
    "sns.distplot(temp[temp['group']=='deletion']['Cells_Number_Object_Number'], label='deletion')\n",
    "plt.legend()\n",
    "plt.show()"
   ]
  },
  {
   "cell_type": "code",
   "execution_count": null,
   "metadata": {},
   "outputs": [],
   "source": []
  },
  {
   "cell_type": "markdown",
   "metadata": {},
   "source": [
    "# Logistic Regression on residuals data"
   ]
  },
  {
   "cell_type": "code",
   "execution_count": 10,
   "metadata": {},
   "outputs": [],
   "source": [
    "# RANDOM SPLIT SKLEARN\n",
    "\n",
    "# residuals is the df of residualsalized features\n",
    "residuals = data_residuals.copy()\n",
    "residuals = residuals[data_cols]\n",
    "\n",
    "human_only = True\n",
    "if human_only:\n",
    "    residuals = residuals[residuals.index.str.startswith('human')]\n",
    "    \n",
    "residuals['label'] = residuals.index.str.split('_').map(lambda x: x[1])\n",
    "residuals_100_trials_random_split = pd.DataFrame(columns=['x_train', 'x_test', 'y_train', 'y_test', 'train_acc', 'test_acc'])    \n",
    "for i in range(100):\n",
    "    residuals_xtrain, residuals_xtest, residuals_ytrain, residuals_ytest = train_test_split(residuals.drop(['label'], axis=1), residuals['label'], \n",
    "                                                                    test_size=0.3, random_state=i)\n",
    "#     print(len(residuals_xtrain), len(residuals_ytrain), len(residuals_xtest), len(residuals_ytest))\n",
    "    logr = LogisticRegression(random_state=12, penalty='l2', C=1, max_iter=100).fit(residuals_xtrain, residuals_ytrain)\n",
    "#     print(logr.score(residuals_xtrain, residuals_ytrain), logr.score(residuals_xtest, residuals_ytest))\n",
    "    residuals_100_trials_random_split.loc[len(residuals_100_trials_random_split.index)] = \\\n",
    "        [len(residuals_xtrain), len(residuals_ytrain), len(residuals_xtest), len(residuals_ytest), \n",
    "         logr.score(residuals_xtrain, residuals_ytrain), logr.score(residuals_xtest, residuals_ytest)]"
   ]
  },
  {
   "cell_type": "code",
   "execution_count": 17,
   "metadata": {},
   "outputs": [
    {
     "data": {
      "text/plain": [
       "x_train      0.000000\n",
       "x_test       0.000000\n",
       "y_train      0.000000\n",
       "y_test       0.000000\n",
       "train_acc    0.000000\n",
       "test_acc     0.015548\n",
       "dtype: float64"
      ]
     },
     "execution_count": 17,
     "metadata": {},
     "output_type": "execute_result"
    }
   ],
   "source": [
    "residuals_100_trials_random_split.std()"
   ]
  },
  {
   "cell_type": "code",
   "execution_count": 12,
   "metadata": {},
   "outputs": [],
   "source": [
    "# SPLIT BASED ON CELL LINE\n",
    "\n",
    "# residuals is the df of residualsalized features\n",
    "residuals = data_residuals.copy()\n",
    "residuals = residuals[data_cols]\n",
    "\n",
    "human_only = True\n",
    "if human_only:\n",
    "    residuals = residuals[residuals.index.str.startswith('human')]\n",
    "\n",
    "\n",
    "residuals_100_trials_patient_split = pd.DataFrame(columns=['x_train', 'x_test', 'y_train', 'y_test', 'train_acc', 'test_acc'])    \n",
    "for i in range(100):\n",
    "    random.seed(i)\n",
    "    residuals['label'] = residuals.index.str.split('_').map(lambda x: x[1])\n",
    "    residuals['patient_num'] = residuals.index.str.split('_').map(lambda x: x[2])\n",
    "\n",
    "    patients = list(set(residuals['patient_num']))\n",
    "    split_cut = math.ceil(0.7 * len(patients))\n",
    "\n",
    "    random.shuffle(patients)\n",
    "    train_nums = patients[0:split_cut]\n",
    "    test_nums = patients[split_cut:]\n",
    "\n",
    "    train_df = residuals[residuals['patient_num'].isin(train_nums)]\n",
    "    test_df = residuals[residuals['patient_num'].isin(test_nums)]\n",
    "\n",
    "    residuals_xtrain = train_df.drop(['label', 'patient_num'], axis=1)\n",
    "    residuals_ytrain = train_df['label']\n",
    "    residuals_xtest = test_df.drop(['label', 'patient_num'], axis=1)\n",
    "    residuals_ytest = test_df['label']\n",
    "#     print(len(residuals_xtrain), len(residuals_ytrain), len(residuals_xtest), len(residuals_ytest))\n",
    "\n",
    "    logr = LogisticRegression(random_state=12, penalty='l2', C=1, max_iter=100).fit(residuals_xtrain, residuals_ytrain)\n",
    "#     print(logr.score(residuals_xtrain, residuals_ytrain), logr.score(residuals_xtest, residuals_ytest))\n",
    "    residuals_100_trials_patient_split.loc[len(residuals_100_trials_patient_split.index)] = \\\n",
    "        [len(residuals_xtrain), len(residuals_ytrain), len(residuals_xtest), len(residuals_ytest), \n",
    "         logr.score(residuals_xtrain, residuals_ytrain), logr.score(residuals_xtest, residuals_ytest)]"
   ]
  },
  {
   "cell_type": "code",
   "execution_count": 22,
   "metadata": {},
   "outputs": [
    {
     "data": {
      "text/plain": [
       "x_train      0.000000\n",
       "x_test       0.000000\n",
       "y_train      0.000000\n",
       "y_test       0.000000\n",
       "train_acc    0.000000\n",
       "test_acc     0.062082\n",
       "dtype: float64"
      ]
     },
     "execution_count": 22,
     "metadata": {},
     "output_type": "execute_result"
    }
   ],
   "source": [
    "residuals_100_trials_patient_split.std()"
   ]
  },
  {
   "cell_type": "code",
   "execution_count": null,
   "metadata": {},
   "outputs": [],
   "source": []
  },
  {
   "cell_type": "code",
   "execution_count": null,
   "metadata": {},
   "outputs": [],
   "source": []
  },
  {
   "cell_type": "code",
   "execution_count": null,
   "metadata": {},
   "outputs": [],
   "source": []
  },
  {
   "cell_type": "code",
   "execution_count": null,
   "metadata": {},
   "outputs": [],
   "source": []
  },
  {
   "cell_type": "code",
   "execution_count": null,
   "metadata": {},
   "outputs": [],
   "source": []
  }
 ],
 "metadata": {
  "kernelspec": {
   "display_name": "Python 3",
   "language": "python",
   "name": "python3"
  },
  "language_info": {
   "codemirror_mode": {
    "name": "ipython",
    "version": 3
   },
   "file_extension": ".py",
   "mimetype": "text/x-python",
   "name": "python",
   "nbconvert_exporter": "python",
   "pygments_lexer": "ipython3",
   "version": "3.8.5"
  }
 },
 "nbformat": 4,
 "nbformat_minor": 4
}
